{
 "cells": [
  {
   "cell_type": "markdown",
   "id": "ef2fd214",
   "metadata": {},
   "source": [
    "# 머신러닝 모델 평가\n",
    "모델 평가의 핵심은 데이터를 Train,Valid,Test로 분할하는 것.  \n",
    "Train data로 학습하고, Valid data로 검증하고 test data로 최종적으로 모델을 테스트해보는 방법으로 진행함.  \n",
    "검증 단계에서 모델의 성능을 평가하고 하이퍼 파라미터 수정을 통해 모델의 성능을 개선시키며 좋은 모델을 얻을 수 있게 됨.  \n",
    "하지만 지나치게 valid data로 모델의 설정을 튜닝하면 valid data에 과대적합되는 결과로 이어질 수도 있으므로, 튜닝을 할 때는 valid data가 아닌 이전에 본적 없는 새로운 데이터로 사용해야합니다.\n",
    "데이터를 분할 하는 방법은 크게 홀드아웃, KFold교차검증, 셔플링을 사용한 반복 KFold교차검증이 있음."
   ]
  },
  {
   "attachments": {
    "image.png": {
     "image/png": "[encoded data removed]"
    }
   },
   "cell_type": "markdown",
   "id": "df03b69a",
   "metadata": {},
   "source": [
    "## 홀드아웃 검증\n",
    "![image.png](attachment:image.png)"
   ]
  },
  {
   "cell_type": "code",
   "execution_count": 43,
   "id": "1bed4c43",
   "metadata": {},
   "outputs": [],
   "source": [
    "from tensorflow.keras.datasets import mnist\n",
    "import numpy as np\n",
    "(train,train_label),(test,test_label)=mnist.load_data()"
   ]
  },
  {
   "cell_type": "code",
   "execution_count": 44,
   "id": "21045bad",
   "metadata": {},
   "outputs": [],
   "source": [
    "validation=10000\n",
    "# np.random.shuffle(train)\n",
    "valid_data=train[:validation]\n",
    "valid_lab=train_label[:validation]\n",
    "\n",
    "train_data=train[validation:]\n",
    "train_lab=train_label[validation:]"
   ]
  },
  {
   "cell_type": "code",
   "execution_count": 46,
   "id": "0d3dced3",
   "metadata": {},
   "outputs": [
    {
     "data": {
      "text/plain": [
       "50000"
      ]
     },
     "execution_count": 46,
     "metadata": {},
     "output_type": "execute_result"
    }
   ],
   "source": [
    "len(train_data)"
   ]
  },
  {
   "cell_type": "code",
   "execution_count": 47,
   "id": "36158f31",
   "metadata": {},
   "outputs": [
    {
     "data": {
      "text/plain": [
       "10000"
      ]
     },
     "execution_count": 47,
     "metadata": {},
     "output_type": "execute_result"
    }
   ],
   "source": [
    "len(valid_data)"
   ]
  },
  {
   "cell_type": "markdown",
   "id": "bfaa42f2",
   "metadata": {},
   "source": [
    "### 데이터 분할"
   ]
  },
  {
   "cell_type": "code",
   "execution_count": 48,
   "id": "cb650b2f",
   "metadata": {},
   "outputs": [],
   "source": [
    "train_data=train_data.reshape(len(train_data),28*28)\n",
    "train_dt=train_data.astype('float32')/255\n",
    "valid_data=valid_data.reshape(len(valid_data),28*28)\n",
    "valid_dt=valid_data.astype('float32')/255"
   ]
  },
  {
   "cell_type": "markdown",
   "id": "1b2a2d71",
   "metadata": {},
   "source": [
    "### 모델링 학습 및 검증"
   ]
  },
  {
   "cell_type": "code",
   "execution_count": 49,
   "id": "6dcb686a",
   "metadata": {},
   "outputs": [],
   "source": [
    "from tensorflow import keras\n",
    "from tensorflow.keras import layers\n",
    "def make_model():\n",
    "    model=keras.Sequential([\n",
    "        layers.Dense(512,activation='relu'),\n",
    "        layers.Dense(10,activation='softmax')\n",
    "    ])\n",
    "    model.compile(optimizer='rmsprop',\n",
    "                 loss='sparse_categorical_crossentropy',\n",
    "                 metrics='accuracy')\n",
    "    return model"
   ]
  },
  {
   "cell_type": "code",
   "execution_count": 50,
   "id": "6787974a",
   "metadata": {},
   "outputs": [],
   "source": [
    "model=make_model()"
   ]
  },
  {
   "cell_type": "code",
   "execution_count": 60,
   "id": "5c997f93",
   "metadata": {
    "scrolled": true
   },
   "outputs": [
    {
     "name": "stdout",
     "output_type": "stream",
     "text": [
      "Epoch 1/10\n",
      "391/391 [==============================] - 6s 14ms/step - loss: 0.0083 - accuracy: 0.9975 - val_loss: 0.0842 - val_accuracy: 0.9806\n",
      "Epoch 2/10\n",
      "391/391 [==============================] - 6s 14ms/step - loss: 0.0063 - accuracy: 0.9984 - val_loss: 0.0875 - val_accuracy: 0.9799\n",
      "Epoch 3/10\n",
      "391/391 [==============================] - 6s 14ms/step - loss: 0.0051 - accuracy: 0.9987 - val_loss: 0.0887 - val_accuracy: 0.9806\n",
      "Epoch 4/10\n",
      "391/391 [==============================] - 6s 14ms/step - loss: 0.0041 - accuracy: 0.9989 - val_loss: 0.0894 - val_accuracy: 0.9793\n",
      "Epoch 5/10\n",
      "391/391 [==============================] - 6s 14ms/step - loss: 0.0033 - accuracy: 0.9991 - val_loss: 0.0955 - val_accuracy: 0.9797\n",
      "Epoch 6/10\n",
      "391/391 [==============================] - 6s 14ms/step - loss: 0.0020 - accuracy: 0.9995 - val_loss: 0.0953 - val_accuracy: 0.9809\n",
      "Epoch 7/10\n",
      "391/391 [==============================] - 5s 14ms/step - loss: 0.0020 - accuracy: 0.9995 - val_loss: 0.0913 - val_accuracy: 0.9817\n",
      "Epoch 8/10\n",
      "391/391 [==============================] - 5s 14ms/step - loss: 0.0015 - accuracy: 0.9996 - val_loss: 0.1031 - val_accuracy: 0.9797\n",
      "Epoch 9/10\n",
      "391/391 [==============================] - 5s 14ms/step - loss: 0.0014 - accuracy: 0.9997 - val_loss: 0.1032 - val_accuracy: 0.9798\n",
      "Epoch 10/10\n",
      "391/391 [==============================] - 5s 14ms/step - loss: 0.0011 - accuracy: 0.9998 - val_loss: 0.1089 - val_accuracy: 0.9806\n"
     ]
    }
   ],
   "source": [
    "history=model.fit(train_dt,train_lab,epochs=10,batch_size=128,validation_data=(valid_dt,valid_lab))"
   ]
  },
  {
   "cell_type": "markdown",
   "id": "370c690f",
   "metadata": {},
   "source": [
    "### 모델링 평가"
   ]
  },
  {
   "cell_type": "code",
   "execution_count": 71,
   "id": "ea09115a",
   "metadata": {},
   "outputs": [],
   "source": [
    "test_data=test.reshape(len(test),28*28)\n",
    "test_dt=test_data.astype('float32')/255"
   ]
  },
  {
   "cell_type": "code",
   "execution_count": 56,
   "id": "1374dd27",
   "metadata": {},
   "outputs": [
    {
     "data": {
      "text/plain": [
       "10000"
      ]
     },
     "execution_count": 56,
     "metadata": {},
     "output_type": "execute_result"
    }
   ],
   "source": [
    "len(test_dt)"
   ]
  },
  {
   "cell_type": "code",
   "execution_count": 58,
   "id": "1aede1d2",
   "metadata": {},
   "outputs": [
    {
     "data": {
      "text/plain": [
       "10000"
      ]
     },
     "execution_count": 58,
     "metadata": {},
     "output_type": "execute_result"
    }
   ],
   "source": [
    "len(test_label)"
   ]
  },
  {
   "cell_type": "code",
   "execution_count": 72,
   "id": "79087010",
   "metadata": {},
   "outputs": [
    {
     "name": "stdout",
     "output_type": "stream",
     "text": [
      "313/313 [==============================] - 1s 3ms/step - loss: 0.1002 - accuracy: 0.9809\n"
     ]
    },
    {
     "data": {
      "text/plain": [
       "[0.10018432140350342, 0.98089998960495]"
      ]
     },
     "execution_count": 72,
     "metadata": {},
     "output_type": "execute_result"
    }
   ],
   "source": [
    "model.evaluate(test_dt,test_label)"
   ]
  },
  {
   "cell_type": "markdown",
   "id": "bb73338b",
   "metadata": {},
   "source": [
    "홀드아웃 방식은 데이터의 수가 너무 적을 때 과소 적합되거나 전체데이터를 통계적으로 대표하지 못하는 문제가 발생함.  \n",
    "난수로 데이터를 다르게 분할해 모델의 성능을 비교하면 성능차이가 클 가능성이 큼.  \n",
    "그래서 데이터의 수가 적을 때는 KFold나 셔플링방식으로 데이터 분할 방법의 대체가 가능함."
   ]
  },
  {
   "attachments": {
    "image.png": {
     "image/png": "[encoded data removed]"
    }
   },
   "cell_type": "markdown",
   "id": "045d0a5b",
   "metadata": {},
   "source": [
    "## KFold 교차검증\n",
    "![image.png](attachment:image.png)"
   ]
  },
  {
   "cell_type": "code",
   "execution_count": 75,
   "id": "091e57b6",
   "metadata": {},
   "outputs": [],
   "source": [
    "from sklearn.model_selection import KFold\n",
    "k=KFold(n_splits=3)"
   ]
  },
  {
   "cell_type": "markdown",
   "id": "ecaaecfe",
   "metadata": {},
   "source": [
    "### 3개의 폴드로 데이터 분할 및 학습, 평가"
   ]
  },
  {
   "cell_type": "code",
   "execution_count": 85,
   "id": "01b4e89d",
   "metadata": {},
   "outputs": [
    {
     "name": "stdout",
     "output_type": "stream",
     "text": [
      "Epoch 1/10\n",
      "261/261 [==============================] - 5s 14ms/step - loss: 0.3315 - accuracy: 0.9021 - val_loss: 0.2051 - val_accuracy: 0.9405\n",
      "Epoch 2/10\n",
      "261/261 [==============================] - 4s 14ms/step - loss: 0.1463 - accuracy: 0.9569 - val_loss: 0.1388 - val_accuracy: 0.9587\n",
      "Epoch 3/10\n",
      "261/261 [==============================] - 3s 12ms/step - loss: 0.0969 - accuracy: 0.9711 - val_loss: 0.1174 - val_accuracy: 0.9639\n",
      "Epoch 4/10\n",
      "261/261 [==============================] - 4s 14ms/step - loss: 0.0699 - accuracy: 0.9798 - val_loss: 0.0998 - val_accuracy: 0.9712\n",
      "Epoch 5/10\n",
      "261/261 [==============================] - 3s 13ms/step - loss: 0.0505 - accuracy: 0.9853 - val_loss: 0.0941 - val_accuracy: 0.9728\n",
      "Epoch 6/10\n",
      "261/261 [==============================] - 3s 13ms/step - loss: 0.0377 - accuracy: 0.9888 - val_loss: 0.0943 - val_accuracy: 0.9723\n",
      "Epoch 7/10\n",
      "261/261 [==============================] - 4s 14ms/step - loss: 0.0278 - accuracy: 0.9916 - val_loss: 0.0911 - val_accuracy: 0.9744\n",
      "Epoch 8/10\n",
      "261/261 [==============================] - 4s 15ms/step - loss: 0.0213 - accuracy: 0.9939 - val_loss: 0.0980 - val_accuracy: 0.9744\n",
      "Epoch 9/10\n",
      "261/261 [==============================] - 3s 12ms/step - loss: 0.0162 - accuracy: 0.9956 - val_loss: 0.1049 - val_accuracy: 0.9744\n",
      "Epoch 10/10\n",
      "261/261 [==============================] - 3s 13ms/step - loss: 0.0123 - accuracy: 0.9966 - val_loss: 0.1106 - val_accuracy: 0.9730\n",
      "313/313 [==============================] - 1s 3ms/step - loss: 0.0918 - accuracy: 0.9751\n",
      "Epoch 1/10\n",
      "261/261 [==============================] - 4s 14ms/step - loss: 0.3315 - accuracy: 0.9055 - val_loss: 0.1996 - val_accuracy: 0.9414\n",
      "Epoch 2/10\n",
      "261/261 [==============================] - 3s 13ms/step - loss: 0.1453 - accuracy: 0.9581 - val_loss: 0.1425 - val_accuracy: 0.9570\n",
      "Epoch 3/10\n",
      "261/261 [==============================] - 3s 12ms/step - loss: 0.0967 - accuracy: 0.9716 - val_loss: 0.1302 - val_accuracy: 0.9595\n",
      "Epoch 4/10\n",
      "261/261 [==============================] - 3s 12ms/step - loss: 0.0689 - accuracy: 0.9792 - val_loss: 0.1063 - val_accuracy: 0.9681\n",
      "Epoch 5/10\n",
      "261/261 [==============================] - 3s 13ms/step - loss: 0.0509 - accuracy: 0.9848 - val_loss: 0.0978 - val_accuracy: 0.9725\n",
      "Epoch 6/10\n",
      "261/261 [==============================] - 3s 13ms/step - loss: 0.0373 - accuracy: 0.9888 - val_loss: 0.1047 - val_accuracy: 0.9696\n",
      "Epoch 7/10\n",
      "261/261 [==============================] - 3s 13ms/step - loss: 0.0276 - accuracy: 0.9921 - val_loss: 0.1034 - val_accuracy: 0.9704\n",
      "Epoch 8/10\n",
      "261/261 [==============================] - 3s 12ms/step - loss: 0.0212 - accuracy: 0.9940 - val_loss: 0.0914 - val_accuracy: 0.9744\n",
      "Epoch 9/10\n",
      "261/261 [==============================] - 3s 13ms/step - loss: 0.0156 - accuracy: 0.9958 - val_loss: 0.0975 - val_accuracy: 0.9728\n",
      "Epoch 10/10\n",
      "261/261 [==============================] - 3s 13ms/step - loss: 0.0114 - accuracy: 0.9972 - val_loss: 0.0928 - val_accuracy: 0.9754\n",
      "313/313 [==============================] - 1s 3ms/step - loss: 0.0779 - accuracy: 0.9764\n",
      "Epoch 1/10\n",
      "261/261 [==============================] - 4s 12ms/step - loss: 0.3349 - accuracy: 0.9035 - val_loss: 0.1968 - val_accuracy: 0.9428\n",
      "Epoch 2/10\n",
      "261/261 [==============================] - 3s 13ms/step - loss: 0.1432 - accuracy: 0.9586 - val_loss: 0.1599 - val_accuracy: 0.9528\n",
      "Epoch 3/10\n",
      "261/261 [==============================] - 3s 12ms/step - loss: 0.0927 - accuracy: 0.9728 - val_loss: 0.1165 - val_accuracy: 0.9666\n",
      "Epoch 4/10\n",
      "261/261 [==============================] - 3s 12ms/step - loss: 0.0674 - accuracy: 0.9797 - val_loss: 0.1107 - val_accuracy: 0.9674\n",
      "Epoch 5/10\n",
      "261/261 [==============================] - 3s 12ms/step - loss: 0.0482 - accuracy: 0.9860 - val_loss: 0.1088 - val_accuracy: 0.9687\n",
      "Epoch 6/10\n",
      "261/261 [==============================] - 3s 12ms/step - loss: 0.0355 - accuracy: 0.9893 - val_loss: 0.1004 - val_accuracy: 0.9721\n",
      "Epoch 7/10\n",
      "261/261 [==============================] - 3s 12ms/step - loss: 0.0277 - accuracy: 0.9922 - val_loss: 0.0919 - val_accuracy: 0.9747\n",
      "Epoch 8/10\n",
      "261/261 [==============================] - 3s 12ms/step - loss: 0.0201 - accuracy: 0.9947 - val_loss: 0.1022 - val_accuracy: 0.9729\n",
      "Epoch 9/10\n",
      "261/261 [==============================] - 3s 12ms/step - loss: 0.0145 - accuracy: 0.9961 - val_loss: 0.0960 - val_accuracy: 0.9759\n",
      "Epoch 10/10\n",
      "261/261 [==============================] - 3s 12ms/step - loss: 0.0110 - accuracy: 0.9974 - val_loss: 0.0996 - val_accuracy: 0.9758\n",
      "313/313 [==============================] - 1s 3ms/step - loss: 0.0824 - accuracy: 0.9779\n"
     ]
    }
   ],
   "source": [
    "eval=[]\n",
    "his=[]\n",
    "for tr,val in k.split(train_dt):\n",
    "    train_k,valid_k=train_dt[tr],train_dt[val]\n",
    "    train_lab_k,valid_lab_k=train_lab[tr],train_lab[val]\n",
    "    model=make_model()\n",
    "    \n",
    "    history=model.fit(train_k,train_lab_k,epochs=10,batch_size=128,validation_data=(valid_k,valid_lab_k))\n",
    "    his.append(history)\n",
    "    res=model.evaluate(test_dt,test_label)\n",
    "    eval.append(res)"
   ]
  },
  {
   "cell_type": "markdown",
   "id": "19f97095",
   "metadata": {},
   "source": [
    "### K개의 폴드의 Test 점수의 평균"
   ]
  },
  {
   "cell_type": "code",
   "execution_count": 94,
   "id": "4b0568e3",
   "metadata": {
    "scrolled": true
   },
   "outputs": [],
   "source": [
    "import pandas as pd\n",
    "evaluate=pd.DataFrame(eval,columns=['loss','accuracy'])"
   ]
  },
  {
   "cell_type": "code",
   "execution_count": 97,
   "id": "3330b16e",
   "metadata": {},
   "outputs": [
    {
     "data": {
      "text/plain": [
       "loss        0.084037\n",
       "accuracy    0.976467\n",
       "dtype: float64"
      ]
     },
     "execution_count": 97,
     "metadata": {},
     "output_type": "execute_result"
    }
   ],
   "source": [
    "evaluate.mean(axis=0)"
   ]
  },
  {
   "cell_type": "markdown",
   "id": "446fb02e",
   "metadata": {},
   "source": [
    "각 i번째 폴드마다 Valid data, k-1개의 폴드는 Train data로 사용해 모델을 훈련하고 평가함.  \n",
    "최종 점수는 이렇게 나온 K개의 평가점수들의 평균을 구해 산출해냄.  \n",
    "K-Fold는 데이터 분할에 따라 편차가 심할 때 효과적인 분할 방법임.  "
   ]
  },
  {
   "cell_type": "markdown",
   "id": "e9607e62",
   "metadata": {},
   "source": [
    "## 모델 평가에 유의할 점\n",
    "**대표성있는 데이터** : Train,Valid,Test data가 대표성을 가진 데이터여야 함. 다중 분류에서 클래스별로 오름차순 되어있다면 데이터를 순서대로 분할하면 모든 클래스를 포함하지 않게됨. 그러므로 셔플링을 통해 분할된 데이터가 대표성을 가지도록 해야함. \n",
    "\n",
    "\n",
    "**시간의 방향** : 시간성을 가지는 데이터는 과거의 데이터를 이용해 미래를 예측하는데 쓰임. 그러므로 이런 데이터는 셔플링을 하지않고 데이터를 분할해 미래의 데이터가 누설되지 않도록 분석을 진행해야 함.  \n",
    "\n",
    "\n",
    "**데이터 중복** : 한 데이터셋에서 같은 데이터가 두번 나오게된다면 데이터를 셔플링하고, 분할할 때 다른 데이터셋임에도 같은 데이터가 중복될 수 있음. 그러므로 Train과 Valid data에 중복된 데이터가 없는 지 확인해야 함."
   ]
  }
 ],
 "metadata": {
  "kernelspec": {
   "display_name": "Python 3 (ipykernel)",
   "language": "python",
   "name": "python3"
  },
  "language_info": {
   "codemirror_mode": {
    "name": "ipython",
    "version": 3
   },
   "file_extension": ".py",
   "mimetype": "text/x-python",
   "name": "python",
   "nbconvert_exporter": "python",
   "pygments_lexer": "ipython3",
   "version": "3.9.12"
  }
 },
 "nbformat": 4,
 "nbformat_minor": 5
}
