{
 "cells": [
  {
   "attachments": {
    "image.png": {
     "image/png": "[encoded data removed]"
    }
   },
   "cell_type": "markdown",
   "id": "8c52e2e8",
   "metadata": {},
   "source": [
    "# 순방향 신경망 이해\n",
    "완전연결 신경망 과 합성곱 신경망은 메모리가 존재하지않음.  \n",
    "입력은 각각 개별처리되며 입력 간 유지되는 상태가 없음.  \n",
    "이런 신경망 모델로 입력값을 처리하려면 모델에 전체 시퀀스를 주입해야한다. 전체 시퀀스를 하나의 데이터 포인트로 입력해야한다는 뜻  \n",
    "예를 들면 앞서 사용한 5일치 데이터가 하나의 벡터로 만들어 처리한 점이다.  \n",
    "이런 모델을 **피드포워드 신경망**이라고 함.(순환하지 않는 신경망=>**순방향 신경망**)  \n",
    "![image.png](attachment:image.png)"
   ]
  },
  {
   "cell_type": "markdown",
   "id": "4c61f324",
   "metadata": {},
   "source": [
    "## 케라스의 simpleRNN 구현\n",
    "numpy처럼 하나의 시퀀스가 아닌 시퀀스의 배치를 처리함.  \n",
    "(timestep,input)의 형식이 아니라 (batch_size,timestep,input)크기 입력을 받음.  \n",
    "(timestep매개변수에 None으로 설정해 임의의 길이를 가진 시퀀스 처리 가능)"
   ]
  },
  {
   "cell_type": "code",
   "execution_count": 28,
   "id": "0447ec54",
   "metadata": {},
   "outputs": [],
   "source": [
    "num_features=14\n",
    "model=keras.Sequential()\n",
    "model.add(keras.Input(shape=(None,num_features))) # 타임스탭 부분을 none으로 임의 설정\n",
    "model.add(keras.layers.SimpleRNN(16))"
   ]
  },
  {
   "cell_type": "code",
   "execution_count": 29,
   "id": "c39eaa47",
   "metadata": {},
   "outputs": [
    {
     "name": "stdout",
     "output_type": "stream",
     "text": [
      "Model: \"sequential\"\n",
      "_________________________________________________________________\n",
      " Layer (type)                Output Shape              Param #   \n",
      "=================================================================\n",
      " simple_rnn (SimpleRNN)      (None, 16)                496       \n",
      "                                                                 \n",
      "=================================================================\n",
      "Total params: 496\n",
      "Trainable params: 496\n",
      "Non-trainable params: 0\n",
      "_________________________________________________________________\n"
     ]
    }
   ],
   "source": [
    "model.summary()"
   ]
  },
  {
   "cell_type": "markdown",
   "id": "d8d9d3e9",
   "metadata": {},
   "source": [
    "### 마지막 출력스텝만 리턴하는 모델"
   ]
  },
  {
   "cell_type": "code",
   "execution_count": 32,
   "id": "c092a68c",
   "metadata": {},
   "outputs": [
    {
     "name": "stdout",
     "output_type": "stream",
     "text": [
      "Model: \"sequential_3\"\n",
      "_________________________________________________________________\n",
      " Layer (type)                Output Shape              Param #   \n",
      "=================================================================\n",
      " simple_rnn_3 (SimpleRNN)    (None, 16)                496       \n",
      "                                                                 \n",
      "=================================================================\n",
      "Total params: 496\n",
      "Trainable params: 496\n",
      "Non-trainable params: 0\n",
      "_________________________________________________________________\n"
     ]
    }
   ],
   "source": [
    "steps=120\n",
    "model2=keras.Sequential()\n",
    "model2.add(keras.Input(shape=(steps,num_features)))\n",
    "model2.add(keras.layers.SimpleRNN(16,return_sequences=False)) # false가 디폴트\n",
    "model2.summary()"
   ]
  },
  {
   "cell_type": "markdown",
   "id": "82787680",
   "metadata": {},
   "source": [
    "### 전체 상태를 리턴하는 모델"
   ]
  },
  {
   "cell_type": "code",
   "execution_count": 33,
   "id": "a350d0db",
   "metadata": {},
   "outputs": [
    {
     "name": "stdout",
     "output_type": "stream",
     "text": [
      "Model: \"sequential_4\"\n",
      "_________________________________________________________________\n",
      " Layer (type)                Output Shape              Param #   \n",
      "=================================================================\n",
      " simple_rnn_4 (SimpleRNN)    (None, 120, 16)           496       \n",
      "                                                                 \n",
      "=================================================================\n",
      "Total params: 496\n",
      "Trainable params: 496\n",
      "Non-trainable params: 0\n",
      "_________________________________________________________________\n"
     ]
    }
   ],
   "source": [
    "model3=keras.Sequential()\n",
    "model3.add(keras.Input(shape=(steps,num_features)))\n",
    "model3.add(keras.layers.SimpleRNN(16,return_sequences=True))\n",
    "model3.summary()"
   ]
  },
  {
   "cell_type": "markdown",
   "id": "1615e612",
   "metadata": {},
   "source": [
    "### 스태킹 RNN 모델\n",
    "신경망의 표현을 증가시키기 위해 여러개의 순환층을 쌓음. 이런 경우, 중간층의 시퀀스를 전부 반환하도록 해야함(return_sequences=True로 설정)"
   ]
  },
  {
   "cell_type": "code",
   "execution_count": 35,
   "id": "2478cf93",
   "metadata": {},
   "outputs": [
    {
     "name": "stdout",
     "output_type": "stream",
     "text": [
      "Model: \"sequential_6\"\n",
      "_________________________________________________________________\n",
      " Layer (type)                Output Shape              Param #   \n",
      "=================================================================\n",
      " simple_rnn_7 (SimpleRNN)    (None, 120, 16)           496       \n",
      "                                                                 \n",
      " simple_rnn_8 (SimpleRNN)    (None, 120, 16)           528       \n",
      "                                                                 \n",
      " simple_rnn_9 (SimpleRNN)    (None, 16)                528       \n",
      "                                                                 \n",
      "=================================================================\n",
      "Total params: 1,552\n",
      "Trainable params: 1,552\n",
      "Non-trainable params: 0\n",
      "_________________________________________________________________\n"
     ]
    }
   ],
   "source": [
    "model4=keras.Sequential()\n",
    "model4.add(keras.Input(shape=(steps,num_features)))\n",
    "model4.add(keras.layers.SimpleRNN(16,return_sequences=True))\n",
    "model4.add(keras.layers.SimpleRNN(16,return_sequences=True))\n",
    "model4.add(keras.layers.SimpleRNN(16))\n",
    "model4.summary()"
   ]
  },
  {
   "cell_type": "code",
   "execution_count": 19,
   "id": "87dae717",
   "metadata": {},
   "outputs": [],
   "source": [
    "import numpy as np"
   ]
  },
  {
   "cell_type": "code",
   "execution_count": 20,
   "id": "2b1bf869",
   "metadata": {},
   "outputs": [],
   "source": [
    "raw_std=np.load('dataset.npy')"
   ]
  },
  {
   "cell_type": "code",
   "execution_count": 21,
   "id": "324afd4c",
   "metadata": {},
   "outputs": [
    {
     "data": {
      "text/plain": [
       "array([[ 0.91365151, -1.92064015, -1.97449272, ..., -0.73016651,\n",
       "        -0.77935289, -0.28119316],\n",
       "       [ 0.91953033, -1.96510495, -2.01848295, ..., -0.93230685,\n",
       "        -0.88696976, -0.46989368],\n",
       "       [ 0.91482727, -1.97650618, -2.0297625 , ..., -1.27790162,\n",
       "        -1.26147647, -0.05638329],\n",
       "       ...,\n",
       "       [ 1.30165361, -1.36654038, -1.45450563, ..., -0.69756323,\n",
       "        -0.67173602,  0.45147737],\n",
       "       [ 1.30047784, -1.48853354, -1.57519677, ..., -0.43021634,\n",
       "        -0.60286122,  0.57494808],\n",
       "       [ 1.30165361, -1.5558008 , -1.64061814, ..., -0.59975339,\n",
       "        -0.68895472,  0.09853751]])"
      ]
     },
     "execution_count": 21,
     "metadata": {},
     "output_type": "execute_result"
    }
   ],
   "source": [
    "raw_std"
   ]
  },
  {
   "cell_type": "code",
   "execution_count": 22,
   "id": "db587928",
   "metadata": {},
   "outputs": [
    {
     "name": "stdout",
     "output_type": "stream",
     "text": [
      "['\"Date Time\"', '\"p (mbar)\"', '\"T (degC)\"', '\"Tpot (K)\"', '\"Tdew (degC)\"', '\"rh (%)\"', '\"VPmax (mbar)\"', '\"VPact (mbar)\"', '\"VPdef (mbar)\"', '\"sh (g/kg)\"', '\"H2OC (mmol/mol)\"', '\"rho (g/m**3)\"', '\"wv (m/s)\"', '\"max. wv (m/s)\"', '\"wd (deg)\"']\n",
      "420451\n"
     ]
    }
   ],
   "source": [
    "import os\n",
    "fname=os.path.join('data/series/jena_climate_2009_2016.csv')\n",
    "\n",
    "with open(fname) as f:\n",
    "    data=f.read()\n",
    "\n",
    "lines=data.split('\\n')\n",
    "header=lines[0].split(',')\n",
    "lines=lines[1:]\n",
    "print(header)\n",
    "print(len(lines))"
   ]
  },
  {
   "cell_type": "code",
   "execution_count": 23,
   "id": "84580047",
   "metadata": {
    "scrolled": false
   },
   "outputs": [],
   "source": [
    "temp=np.zeros((len(lines),))\n",
    "raw_d=np.zeros((len(lines),len(header)-1))"
   ]
  },
  {
   "cell_type": "code",
   "execution_count": 24,
   "id": "e568f32b",
   "metadata": {},
   "outputs": [],
   "source": [
    "for i,line in enumerate(lines):\n",
    "    values=[float(x) for x in line.split(',')[1:]]\n",
    "    temp[i]=values[1] # 두번째 열을 temp에 저장\n",
    "    raw_d[i,:]=values[:] # 모든 열을 raw_d에 저장"
   ]
  },
  {
   "cell_type": "code",
   "execution_count": 25,
   "id": "871512cd",
   "metadata": {},
   "outputs": [
    {
     "name": "stdout",
     "output_type": "stream",
     "text": [
      "Train_date : 210225\n",
      "Val_date : 105112\n",
      "Test_date : 105114\n"
     ]
    }
   ],
   "source": [
    "tr_sample=int(len(raw_d)*0.5)\n",
    "val_sample=int(len(raw_d)*0.25)\n",
    "te_sample=len(raw_d)-tr_sample-val_sample\n",
    "\n",
    "print(\"Train_date : {0}\".format(tr_sample))\n",
    "print(\"Val_date : {0}\".format(val_sample))\n",
    "print(\"Test_date : {0}\".format(te_sample))"
   ]
  },
  {
   "cell_type": "markdown",
   "id": "40d11fd9",
   "metadata": {},
   "source": [
    "해당 데이터는 0번째에 컬럼명,1번째 이후부터 데이터가 들어있음"
   ]
  },
  {
   "cell_type": "code",
   "execution_count": 26,
   "id": "7e9c8423",
   "metadata": {},
   "outputs": [
    {
     "name": "stdout",
     "output_type": "stream",
     "text": [
      "['\"Date Time\"', '\"p (mbar)\"', '\"T (degC)\"', '\"Tpot (K)\"', '\"Tdew (degC)\"', '\"rh (%)\"', '\"VPmax (mbar)\"', '\"VPact (mbar)\"', '\"VPdef (mbar)\"', '\"sh (g/kg)\"', '\"H2OC (mmol/mol)\"', '\"rho (g/m**3)\"', '\"wv (m/s)\"', '\"max. wv (m/s)\"', '\"wd (deg)\"']\n",
      "420451\n"
     ]
    }
   ],
   "source": [
    "lines=data.split('\\n')\n",
    "header=lines[0].split(',')\n",
    "lines=lines[1:]\n",
    "print(header)\n",
    "print(len(lines))"
   ]
  },
  {
   "cell_type": "code",
   "execution_count": 27,
   "id": "76bfbc74",
   "metadata": {
    "scrolled": false
   },
   "outputs": [],
   "source": [
    "from tensorflow import keras\n",
    "\n",
    "sampling_rate = 6\n",
    "sequence_length = 120\n",
    "delay = sampling_rate * (sequence_length + 24 - 1)\n",
    "batch_size = 256\n",
    "\n",
    "train_dataset = keras.utils.timeseries_dataset_from_array(\n",
    "    raw_std[:-delay],\n",
    "    targets=temp[delay:],\n",
    "    sampling_rate=sampling_rate,\n",
    "    sequence_length=sequence_length,\n",
    "    shuffle=True,\n",
    "    batch_size=batch_size,\n",
    "    start_index=0,\n",
    "    end_index=tr_sample)\n",
    "\n",
    "val_dataset = keras.utils.timeseries_dataset_from_array(\n",
    "    raw_std[:-delay],\n",
    "    targets=temp[delay:],\n",
    "    sampling_rate=sampling_rate,\n",
    "    sequence_length=sequence_length,\n",
    "    shuffle=True,\n",
    "    batch_size=batch_size,\n",
    "    start_index=tr_sample,\n",
    "    end_index=tr_sample + val_sample)\n",
    "\n",
    "test_dataset = keras.utils.timeseries_dataset_from_array(\n",
    "    raw_std[:-delay],\n",
    "    targets=temp[delay:],\n",
    "    sampling_rate=sampling_rate,\n",
    "    sequence_length=sequence_length,\n",
    "    shuffle=True,\n",
    "    batch_size=batch_size,\n",
    "    start_index=tr_sample + val_sample)"
   ]
  },
  {
   "cell_type": "code",
   "execution_count": null,
   "id": "a4faa4d9",
   "metadata": {},
   "outputs": [],
   "source": []
  }
 ],
 "metadata": {
  "kernelspec": {
   "display_name": "Python 3 (ipykernel)",
   "language": "python",
   "name": "python3"
  },
  "language_info": {
   "codemirror_mode": {
    "name": "ipython",
    "version": 3
   },
   "file_extension": ".py",
   "mimetype": "text/x-python",
   "name": "python",
   "nbconvert_exporter": "python",
   "pygments_lexer": "ipython3",
   "version": "3.9.12"
  }
 },
 "nbformat": 4,
 "nbformat_minor": 5
}
