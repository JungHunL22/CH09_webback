{
 "cells": [
  {
   "cell_type": "markdown",
   "id": "b8658ff5",
   "metadata": {},
   "source": [
    "# 텐서의 개념\n",
    "텐서(tensor) : 다차원 넘파이 배열에 데이터\n",
    "<br>\n",
    "랭크: n차원 데이터의 축의 개수.\n",
    "<br>\n",
    "예를 들어 3D 텐서에는 3개의 축이 있고, 행렬은 2개의 축. numpy 라이브러리에서는 ndim 속성에 저장.\n",
    "\n",
    "## 텐서의 종류\n",
    "\n",
    "**벡터데이터**\n",
    "- 랭크2의 텐서 (n,k) -> (samples,features)\n",
    "    각 샘플이 피처로 구성<br>\n",
    "    \n",
    "**시계열 또는 시퀀스 데이터**\n",
    "- 랭크3의 텐서 (n,k,i) -> (samples,timestep,features)\n",
    "    각 샘플이 i의 길이를 가지는 피처로 구성<br>\n",
    "\n",
    "**이미지 데이터**\n",
    "- 랭크4의 텐서 (n,k,i,j) -> (samples,height,width,channels)\n",
    "    각 샘플이 2차원 픽셀로 이루어지고 픽셀이 수치(채널)값을 가짐\n",
    "    <br>\n",
    "    (흑백은 채널이 1, 컬러는 3)\n",
    "\n",
    "**동영상 데이터**\n",
    "- 랭크5의 텐서 (n,k,i,j,x) -> (samples,frame,height,width,channels)\n",
    "    각 샘플이 길이가 k(frame)인 이미지 데이터 \n"
   ]
  },
  {
   "cell_type": "markdown",
   "id": "1a61ac0a",
   "metadata": {},
   "source": [
    "### 텐서연산"
   ]
  },
  {
   "cell_type": "markdown",
   "id": "3a1ce6ab",
   "metadata": {},
   "source": [
    "ex) relu함수의 연산\n",
    "\n",
    "output=relu(dot(W,input)+b)\n",
    "\n",
    "relu(x) = > max(x,0)으로 계산(relu함수는 0보다 크면 x를 반환하고 0보다 작으면 0을 반환하는 함수를 가지고있기 때문)"
   ]
  },
  {
   "cell_type": "code",
   "execution_count": 13,
   "id": "b6948ab7",
   "metadata": {},
   "outputs": [],
   "source": [
    "#Lelu함수를 함수로 생성\n",
    "def relu(x):\n",
    "    assert len(x.shape)==2\n",
    "    x=x.copy() # 원본유지\n",
    "    for i in range(x.shape[0]): # 랭크2인 텐서 x의 행\n",
    "        for j in range(x.shape[1]): # 랭크2인 텐서 x의 열\n",
    "            x[i,j]=max(x[i,j],0) # 0보다 크면 x를 반환하고 0보다 작으면 0을 반환\n",
    "    return x"
   ]
  },
  {
   "cell_type": "code",
   "execution_count": 19,
   "id": "c7b63b2a",
   "metadata": {},
   "outputs": [],
   "source": [
    "# 2랭크 텐서의 덧셈 함수\n",
    "def tensor_add(x,y):\n",
    "    assert len(x.shape)==2\n",
    "    assert x.shape==y.shape\n",
    "    x=x.copy() # 원본유지\n",
    "    for i in range(x.shape[0]): # 랭크2인 텐서 x의 행\n",
    "        for j in range(x.shape[1]): # 랭크2인 텐서 x의 열\n",
    "            x[i,j]+=y[i,j] # 덧셈\n",
    "    return x"
   ]
  },
  {
   "cell_type": "markdown",
   "id": "ac73d175",
   "metadata": {},
   "source": [
    "### 텐서 덧셈 연산"
   ]
  },
  {
   "cell_type": "code",
   "execution_count": 5,
   "id": "8ba687f5",
   "metadata": {},
   "outputs": [],
   "source": [
    "import numpy as np"
   ]
  },
  {
   "cell_type": "code",
   "execution_count": 7,
   "id": "e2dcc2a1",
   "metadata": {},
   "outputs": [],
   "source": [
    "import time"
   ]
  },
  {
   "cell_type": "code",
   "execution_count": 8,
   "id": "4cc92c1d",
   "metadata": {},
   "outputs": [],
   "source": [
    "x=np.random.random((20,100))\n",
    "y=np.random.random((20,100))"
   ]
  },
  {
   "cell_type": "code",
   "execution_count": 6,
   "id": "5ab3b93c",
   "metadata": {},
   "outputs": [
    {
     "ename": "NameError",
     "evalue": "name 'x' is not defined",
     "output_type": "error",
     "traceback": [
      "\u001b[1;31m---------------------------------------------------------------------------\u001b[0m",
      "\u001b[1;31mNameError\u001b[0m                                 Traceback (most recent call last)",
      "Input \u001b[1;32mIn [6]\u001b[0m, in \u001b[0;36m<cell line: 1>\u001b[1;34m()\u001b[0m\n\u001b[1;32m----> 1\u001b[0m z\u001b[38;5;241m=\u001b[39m\u001b[43mx\u001b[49m\u001b[38;5;241m+\u001b[39my\n",
      "\u001b[1;31mNameError\u001b[0m: name 'x' is not defined"
     ]
    }
   ],
   "source": [
    "z=x+y"
   ]
  },
  {
   "cell_type": "code",
   "execution_count": 10,
   "id": "b1bd4809",
   "metadata": {},
   "outputs": [
    {
     "name": "stdout",
     "output_type": "stream",
     "text": [
      "시간 : 0.02 초\n"
     ]
    }
   ],
   "source": [
    "# 넘파이의 덧셈 연산 속도\n",
    "t=time.time()\n",
    "for i in range(1000):\n",
    "    z=x+y\n",
    "    z=np.maximum(z,0)\n",
    "print(\"시간 : {0:.2f} 초\".format(time.time()-t))"
   ]
  },
  {
   "cell_type": "code",
   "execution_count": 22,
   "id": "eb2dba42",
   "metadata": {},
   "outputs": [
    {
     "name": "stdout",
     "output_type": "stream",
     "text": [
      "시간 : 1.82 초\n"
     ]
    }
   ],
   "source": [
    "# 텐서플로우 덧셈 연산 속도\n",
    "t=time.time()\n",
    "for i in range(1000):\n",
    "    z=tensor_add(x,y)\n",
    "    z=relu(z)\n",
    "print(\"시간 : {0:.2f} 초\".format(time.time()-t))"
   ]
  },
  {
   "cell_type": "markdown",
   "id": "fb8a0556",
   "metadata": {},
   "source": [
    "### 크기가 다른 두 텐서의 연산\n",
    "크기가 다른 두 텐서의 연산은 작은텐서가 큰텐서에 맞추어져 연산이 이루어져 **브로드캐스팅**됨\n",
    "1. 큰 텐서의 차원에 맞게 작은 텐서에 축이 추가됨\n",
    "2. 작은 텐서가 새 축을 따라 큰 텐서의 크기에 맞게 반복됨"
   ]
  },
  {
   "cell_type": "code",
   "execution_count": 34,
   "id": "27b1624a",
   "metadata": {},
   "outputs": [],
   "source": [
    "x=np.random.random((64,3,32,10))\n",
    "y=np.random.random((32,10))"
   ]
  },
  {
   "cell_type": "code",
   "execution_count": 36,
   "id": "81321c5f",
   "metadata": {},
   "outputs": [],
   "source": [
    "z=x+y"
   ]
  },
  {
   "cell_type": "markdown",
   "id": "bc763af0",
   "metadata": {},
   "source": [
    "x와 y의 차원이 다른데도 덧셈 연산이 실행됨"
   ]
  },
  {
   "cell_type": "code",
   "execution_count": 39,
   "id": "258bb8e0",
   "metadata": {},
   "outputs": [
    {
     "data": {
      "text/plain": [
       "(64, 3, 32, 10)"
      ]
     },
     "execution_count": 39,
     "metadata": {},
     "output_type": "execute_result"
    }
   ],
   "source": [
    "# 결과는 x의 ndim에 맞게 출력\n",
    "z.shape"
   ]
  },
  {
   "cell_type": "markdown",
   "id": "f9fa56b9",
   "metadata": {},
   "source": [
    "### 텐서 곱셈 연산"
   ]
  },
  {
   "cell_type": "code",
   "execution_count": 24,
   "id": "2cb73ce4",
   "metadata": {},
   "outputs": [
    {
     "data": {
      "text/plain": [
       "7.3774892821381535"
      ]
     },
     "execution_count": 24,
     "metadata": {},
     "output_type": "execute_result"
    }
   ],
   "source": [
    "# 넘파이의 곱셈 연산\n",
    "x=np.random.random((32,))\n",
    "y=np.random.random((32,))\n",
    "# z=x*y\n",
    "z=np.dot(x,y)\n",
    "z"
   ]
  },
  {
   "cell_type": "code",
   "execution_count": 30,
   "id": "fbbb434c",
   "metadata": {},
   "outputs": [],
   "source": [
    "# 2랭크 텐서의 곱셈 함수\n",
    "def tensor_dot(x,y):\n",
    "    assert len(x.shape)==1\n",
    "    assert len(y.shape)==1\n",
    "    assert x.shape==y.shape\n",
    "    z=0 # 원본유지\n",
    "    for i in range(x.shape[0]):\n",
    "        z+=x[i]*y[i] # 덧셈\n",
    "    return z"
   ]
  },
  {
   "cell_type": "code",
   "execution_count": 31,
   "id": "c1b6f2a7",
   "metadata": {},
   "outputs": [
    {
     "data": {
      "text/plain": [
       "7.377489282138153"
      ]
     },
     "execution_count": 31,
     "metadata": {},
     "output_type": "execute_result"
    }
   ],
   "source": [
    "tensor_dot(x,y)"
   ]
  },
  {
   "cell_type": "markdown",
   "id": "7dcdb94e",
   "metadata": {},
   "source": [
    "## 텐서의 크기변환"
   ]
  },
  {
   "cell_type": "markdown",
   "id": "5c697ece",
   "metadata": {},
   "source": [
    "#### 텐서의 형태 변환"
   ]
  },
  {
   "cell_type": "code",
   "execution_count": 47,
   "id": "7e3f0c70",
   "metadata": {},
   "outputs": [],
   "source": [
    "x=np.array([[1,2],\n",
    "          [3,4],\n",
    "          [5,6]])"
   ]
  },
  {
   "cell_type": "code",
   "execution_count": 48,
   "id": "cb00b42e",
   "metadata": {},
   "outputs": [
    {
     "data": {
      "text/plain": [
       "array([[1, 2],\n",
       "       [3, 4],\n",
       "       [5, 6]])"
      ]
     },
     "execution_count": 48,
     "metadata": {},
     "output_type": "execute_result"
    }
   ],
   "source": [
    "x"
   ]
  },
  {
   "cell_type": "code",
   "execution_count": 49,
   "id": "8fcdebdd",
   "metadata": {},
   "outputs": [
    {
     "data": {
      "text/plain": [
       "(3, 2)"
      ]
     },
     "execution_count": 49,
     "metadata": {},
     "output_type": "execute_result"
    }
   ],
   "source": [
    "x.shape"
   ]
  },
  {
   "cell_type": "code",
   "execution_count": 50,
   "id": "258f933d",
   "metadata": {},
   "outputs": [],
   "source": [
    "x=x.reshape((6,1))"
   ]
  },
  {
   "cell_type": "code",
   "execution_count": 51,
   "id": "ca764300",
   "metadata": {},
   "outputs": [
    {
     "data": {
      "text/plain": [
       "array([[1],\n",
       "       [2],\n",
       "       [3],\n",
       "       [4],\n",
       "       [5],\n",
       "       [6]])"
      ]
     },
     "execution_count": 51,
     "metadata": {},
     "output_type": "execute_result"
    }
   ],
   "source": [
    "x"
   ]
  },
  {
   "cell_type": "code",
   "execution_count": 52,
   "id": "7578b4a3",
   "metadata": {},
   "outputs": [
    {
     "data": {
      "text/plain": [
       "(6, 1)"
      ]
     },
     "execution_count": 52,
     "metadata": {},
     "output_type": "execute_result"
    }
   ],
   "source": [
    "x.shape"
   ]
  },
  {
   "cell_type": "markdown",
   "id": "8f3f7bcf",
   "metadata": {},
   "source": [
    "#### 텐서의 전치"
   ]
  },
  {
   "cell_type": "code",
   "execution_count": 54,
   "id": "504f62dd",
   "metadata": {},
   "outputs": [
    {
     "data": {
      "text/plain": [
       "array([[0., 0., 0., ..., 0., 0., 0.],\n",
       "       [0., 0., 0., ..., 0., 0., 0.],\n",
       "       [0., 0., 0., ..., 0., 0., 0.],\n",
       "       ...,\n",
       "       [0., 0., 0., ..., 0., 0., 0.],\n",
       "       [0., 0., 0., ..., 0., 0., 0.],\n",
       "       [0., 0., 0., ..., 0., 0., 0.]])"
      ]
     },
     "execution_count": 54,
     "metadata": {},
     "output_type": "execute_result"
    }
   ],
   "source": [
    "x=np.zeros((300,20))\n",
    "x"
   ]
  },
  {
   "cell_type": "code",
   "execution_count": 55,
   "id": "6074328a",
   "metadata": {},
   "outputs": [
    {
     "data": {
      "text/plain": [
       "(300, 20)"
      ]
     },
     "execution_count": 55,
     "metadata": {},
     "output_type": "execute_result"
    }
   ],
   "source": [
    "x.shape"
   ]
  },
  {
   "cell_type": "code",
   "execution_count": 56,
   "id": "00812ecb",
   "metadata": {},
   "outputs": [],
   "source": [
    "x=np.transpose(x)"
   ]
  },
  {
   "cell_type": "code",
   "execution_count": 57,
   "id": "727f7382",
   "metadata": {},
   "outputs": [
    {
     "data": {
      "text/plain": [
       "(20, 300)"
      ]
     },
     "execution_count": 57,
     "metadata": {},
     "output_type": "execute_result"
    }
   ],
   "source": [
    "x.shape # 데이터프레임에서 .T와 같은 함수"
   ]
  }
 ],
 "metadata": {
  "kernelspec": {
   "display_name": "Python 3 (ipykernel)",
   "language": "python",
   "name": "python3"
  },
  "language_info": {
   "codemirror_mode": {
    "name": "ipython",
    "version": 3
   },
   "file_extension": ".py",
   "mimetype": "text/x-python",
   "name": "python",
   "nbconvert_exporter": "python",
   "pygments_lexer": "ipython3",
   "version": "3.9.12"
  }
 },
 "nbformat": 4,
 "nbformat_minor": 5
}
