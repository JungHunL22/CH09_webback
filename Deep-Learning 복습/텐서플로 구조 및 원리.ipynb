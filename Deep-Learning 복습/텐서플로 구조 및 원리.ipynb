{
 "cells": [
  {
   "cell_type": "markdown",
   "id": "d50fbf4c",
   "metadata": {},
   "source": [
    "# 신경망 알고리즘의 진행\n",
    "## 텐서 플로우 API로 변환\n",
    "1. 텐서 변환\n",
    "2. 덧셈,relu,matmul같은 텐서 연산\n",
    "3. 손실함수 계산을 위한 역전파를 구현한 gradient를 계산(가중치 조정)\n",
    "\n",
    "## 케라스 API로 변환\n",
    "1. 모델을 구성하는 Dense 구성\n",
    "2. 학습에 사용하는 loss함수\n",
    "3. 학습 진행 방법을 결정하는 optimizer\n",
    "4. 모델의 성능을 평가하는 metrics\n",
    "5. 확률적 경사하강법을 수행하는 SGD"
   ]
  },
  {
   "cell_type": "markdown",
   "id": "58c2ae0c",
   "metadata": {},
   "source": [
    "## 텐서 생성"
   ]
  },
  {
   "cell_type": "code",
   "execution_count": 1,
   "id": "75153c70",
   "metadata": {},
   "outputs": [],
   "source": [
    "import tensorflow as tf\n",
    "x=tf.ones(shape=(2,1)) # np.ones(shape=(2,1))과 동일"
   ]
  },
  {
   "cell_type": "code",
   "execution_count": 2,
   "id": "2cfa6953",
   "metadata": {},
   "outputs": [
    {
     "name": "stdout",
     "output_type": "stream",
     "text": [
      "tf.Tensor(\n",
      "[[1.]\n",
      " [1.]], shape=(2, 1), dtype=float32)\n"
     ]
    }
   ],
   "source": [
    "print(x)"
   ]
  },
  {
   "cell_type": "code",
   "execution_count": 4,
   "id": "453fffb8",
   "metadata": {},
   "outputs": [],
   "source": [
    "x=tf.zeros(shape=(2,1))"
   ]
  },
  {
   "cell_type": "code",
   "execution_count": 6,
   "id": "3eae863c",
   "metadata": {},
   "outputs": [
    {
     "name": "stdout",
     "output_type": "stream",
     "text": [
      "tf.Tensor(\n",
      "[[0.]\n",
      " [0.]], shape=(2, 1), dtype=float32)\n"
     ]
    }
   ],
   "source": [
    "print(x)"
   ]
  },
  {
   "cell_type": "markdown",
   "id": "08182d08",
   "metadata": {},
   "source": [
    "### 랜덤 텐서 생성"
   ]
  },
  {
   "cell_type": "code",
   "execution_count": 9,
   "id": "272c3ba4",
   "metadata": {},
   "outputs": [],
   "source": [
    "x=tf.random.normal(shape=(3,1),mean=0,stddev=1) # 정규분포에서 랜덤생성"
   ]
  },
  {
   "cell_type": "code",
   "execution_count": 10,
   "id": "3e90971a",
   "metadata": {},
   "outputs": [
    {
     "name": "stdout",
     "output_type": "stream",
     "text": [
      "tf.Tensor(\n",
      "[[-0.7077312 ]\n",
      " [ 0.16313788]\n",
      " [ 0.86810964]], shape=(3, 1), dtype=float32)\n"
     ]
    }
   ],
   "source": [
    "print(x)"
   ]
  },
  {
   "cell_type": "code",
   "execution_count": 12,
   "id": "4d5f239b",
   "metadata": {},
   "outputs": [
    {
     "ename": "TypeError",
     "evalue": "'tensorflow.python.framework.ops.EagerTensor' object does not support item assignment",
     "output_type": "error",
     "traceback": [
      "\u001b[1;31m---------------------------------------------------------------------------\u001b[0m",
      "\u001b[1;31mTypeError\u001b[0m                                 Traceback (most recent call last)",
      "Input \u001b[1;32mIn [12]\u001b[0m, in \u001b[0;36m<cell line: 1>\u001b[1;34m()\u001b[0m\n\u001b[1;32m----> 1\u001b[0m x[\u001b[38;5;241m0\u001b[39m]\u001b[38;5;241m=\u001b[39m\u001b[38;5;241m1\u001b[39m\n",
      "\u001b[1;31mTypeError\u001b[0m: 'tensorflow.python.framework.ops.EagerTensor' object does not support item assignment"
     ]
    }
   ],
   "source": [
    "x[0]=1"
   ]
  },
  {
   "cell_type": "markdown",
   "id": "63cfc619",
   "metadata": {},
   "source": [
    "기본적으로 텐서는 생성할때 상수로 생성되고, 넘파이배열같은 방법으로 값을 지정할 수 없음(변수x)"
   ]
  },
  {
   "cell_type": "markdown",
   "id": "3e00ef89",
   "metadata": {},
   "source": [
    "### 텐서 변수로 생성"
   ]
  },
  {
   "cell_type": "code",
   "execution_count": 15,
   "id": "6b6cd49e",
   "metadata": {},
   "outputs": [],
   "source": [
    "y=tf.Variable(initial_value=tf.random.normal(shape=(3,1)))"
   ]
  },
  {
   "cell_type": "code",
   "execution_count": 16,
   "id": "91b31468",
   "metadata": {},
   "outputs": [
    {
     "name": "stdout",
     "output_type": "stream",
     "text": [
      "<tf.Variable 'Variable:0' shape=(3, 1) dtype=float32, numpy=\n",
      "array([[ 0.30057544],\n",
      "       [-0.5698945 ],\n",
      "       [-0.6295381 ]], dtype=float32)>\n"
     ]
    }
   ],
   "source": [
    "print(y)"
   ]
  },
  {
   "cell_type": "code",
   "execution_count": 17,
   "id": "425a0eb6",
   "metadata": {},
   "outputs": [
    {
     "data": {
      "text/plain": [
       "<tf.Variable 'UnreadVariable' shape=(3, 1) dtype=float32, numpy=\n",
       "array([[ 0.5      ],\n",
       "       [-0.5698945],\n",
       "       [-0.6295381]], dtype=float32)>"
      ]
     },
     "execution_count": 17,
     "metadata": {},
     "output_type": "execute_result"
    }
   ],
   "source": [
    "# 텐서에 값을 할당하는 방법\n",
    "y[0,0].assign(0.5)"
   ]
  },
  {
   "cell_type": "code",
   "execution_count": 18,
   "id": "3572f380",
   "metadata": {},
   "outputs": [
    {
     "name": "stdout",
     "output_type": "stream",
     "text": [
      "<tf.Variable 'Variable:0' shape=(3, 1) dtype=float32, numpy=\n",
      "array([[1.5       ],\n",
      "       [0.4301055 ],\n",
      "       [0.37046188]], dtype=float32)>\n"
     ]
    }
   ],
   "source": [
    "# 텐서에 연산하는 방법\n",
    "y.assign_add(tf.ones((3,1)))\n",
    "print(y)"
   ]
  },
  {
   "cell_type": "markdown",
   "id": "2e8e87b3",
   "metadata": {},
   "source": [
    "#### 기본적인 수학연산\n"
   ]
  },
  {
   "cell_type": "code",
   "execution_count": 21,
   "id": "288686a5",
   "metadata": {},
   "outputs": [
    {
     "name": "stdout",
     "output_type": "stream",
     "text": [
      "tf.Tensor(\n",
      "[[ 0.5352852  -1.2490593   2.1130588 ]\n",
      " [ 0.8559575   0.11787648 -0.34852406]\n",
      " [-0.31102204 -0.9022857   0.7610746 ]], shape=(3, 3), dtype=float32)\n",
      "tf.Tensor(\n",
      "[[ 0.2848454  -0.10333935 -0.29655352]\n",
      " [ 0.33051363  0.5846332  -0.5860486 ]\n",
      " [-0.0518723   0.79119664  0.20472252]], shape=(3, 3), dtype=float32)\n"
     ]
    }
   ],
   "source": [
    "a=tf.random.normal(shape=(3,3))\n",
    "b=tf.random.normal(shape=(3,3))\n",
    "print(a)\n",
    "print(b)"
   ]
  },
  {
   "cell_type": "code",
   "execution_count": 22,
   "id": "8034f258",
   "metadata": {},
   "outputs": [
    {
     "data": {
      "text/plain": [
       "<tf.Tensor: shape=(3, 3), dtype=float32, numpy=\n",
       "array([[0.28653023, 1.5601492 , 4.4650173 ],\n",
       "       [0.7326633 , 0.01389486, 0.12146902],\n",
       "       [0.09673471, 0.81411946, 0.57923454]], dtype=float32)>"
      ]
     },
     "execution_count": 22,
     "metadata": {},
     "output_type": "execute_result"
    }
   ],
   "source": [
    "# 제곱\n",
    "tf.square(a)"
   ]
  },
  {
   "cell_type": "code",
   "execution_count": 23,
   "id": "74165cf8",
   "metadata": {},
   "outputs": [
    {
     "data": {
      "text/plain": [
       "<tf.Tensor: shape=(3, 3), dtype=float32, numpy=\n",
       "array([[0.7316319 ,        nan, 1.4536364 ],\n",
       "       [0.9251797 , 0.34333143,        nan],\n",
       "       [       nan,        nan, 0.8723959 ]], dtype=float32)>"
      ]
     },
     "execution_count": 23,
     "metadata": {},
     "output_type": "execute_result"
    }
   ],
   "source": [
    "# 제곱근\n",
    "tf.sqrt(a)"
   ]
  },
  {
   "cell_type": "code",
   "execution_count": 24,
   "id": "6d1ed7d0",
   "metadata": {},
   "outputs": [
    {
     "data": {
      "text/plain": [
       "<tf.Tensor: shape=(3, 3), dtype=float32, numpy=\n",
       "array([[ 0.8201306 , -1.3523986 ,  1.8165053 ],\n",
       "       [ 1.1864711 ,  0.70250964, -0.9345727 ],\n",
       "       [-0.36289436, -0.11108905,  0.9657971 ]], dtype=float32)>"
      ]
     },
     "execution_count": 24,
     "metadata": {},
     "output_type": "execute_result"
    }
   ],
   "source": [
    "# 덧셈\n",
    "a+b"
   ]
  },
  {
   "cell_type": "code",
   "execution_count": 25,
   "id": "0e2e0e9b",
   "metadata": {},
   "outputs": [
    {
     "data": {
      "text/plain": [
       "<tf.Tensor: shape=(3, 3), dtype=float32, numpy=\n",
       "array([[-0.36996683,  0.88628745,  1.0058595 ],\n",
       "       [ 0.3008541 , -0.29529068, -0.3942693 ],\n",
       "       [-0.4262896 ,  0.10679432,  0.77682704]], dtype=float32)>"
      ]
     },
     "execution_count": 25,
     "metadata": {},
     "output_type": "execute_result"
    }
   ],
   "source": [
    "# 점곱 dot함수와 동일\n",
    "tf.matmul(a,b)"
   ]
  },
  {
   "cell_type": "code",
   "execution_count": 26,
   "id": "dd61170e",
   "metadata": {},
   "outputs": [
    {
     "data": {
      "text/plain": [
       "<tf.Tensor: shape=(3, 3), dtype=float32, numpy=\n",
       "array([[ 0.15247352,  0.12907699, -0.626635  ],\n",
       "       [ 0.2829056 ,  0.0689145 ,  0.20425203],\n",
       "       [ 0.01613343, -0.7138854 ,  0.15580912]], dtype=float32)>"
      ]
     },
     "execution_count": 26,
     "metadata": {},
     "output_type": "execute_result"
    }
   ],
   "source": [
    "# 원소별 단순 곱\n",
    "a*b"
   ]
  },
  {
   "cell_type": "markdown",
   "id": "ed127232",
   "metadata": {},
   "source": [
    "## 텐서 플로우로 선형 분류기 구현"
   ]
  },
  {
   "cell_type": "code",
   "execution_count": 28,
   "id": "76634947",
   "metadata": {},
   "outputs": [],
   "source": [
    "import numpy as np"
   ]
  },
  {
   "cell_type": "code",
   "execution_count": 29,
   "id": "7d0f9779",
   "metadata": {},
   "outputs": [],
   "source": [
    "n_samples=np.random.multivariate_normal(\n",
    "mean=[0,3],\n",
    "cov=[[1,0.5],[0.5,1]],\n",
    "size=1000)"
   ]
  },
  {
   "cell_type": "code",
   "execution_count": 30,
   "id": "e295b5d5",
   "metadata": {},
   "outputs": [],
   "source": [
    "k_samples=np.random.multivariate_normal(\n",
    "mean=[3,0],\n",
    "cov=[[1,0.5],[0.5,1]],\n",
    "size=1000)"
   ]
  },
  {
   "cell_type": "code",
   "execution_count": 48,
   "id": "11fc7f0d",
   "metadata": {},
   "outputs": [],
   "source": [
    "data=np.vstack((n_samples,k_samples)).astype('float32')"
   ]
  },
  {
   "cell_type": "code",
   "execution_count": 49,
   "id": "f5f45fb7",
   "metadata": {},
   "outputs": [],
   "source": [
    "target=np.vstack((np.zeros((1000,1),dtype='float32'),np.ones((1000,1),dtype='float32')))"
   ]
  },
  {
   "cell_type": "code",
   "execution_count": 50,
   "id": "802b74c5",
   "metadata": {},
   "outputs": [
    {
     "data": {
      "text/plain": [
       "array([[ 0.6880112 ,  2.9281983 ],\n",
       "       [ 3.1391196 ,  3.118708  ],\n",
       "       [-0.19391073,  2.4064765 ],\n",
       "       ...,\n",
       "       [ 2.5674143 ,  0.7763778 ],\n",
       "       [ 1.0594518 , -0.7805285 ],\n",
       "       [ 2.1623924 , -1.1752537 ]], dtype=float32)"
      ]
     },
     "execution_count": 50,
     "metadata": {},
     "output_type": "execute_result"
    }
   ],
   "source": [
    "data"
   ]
  },
  {
   "cell_type": "code",
   "execution_count": 51,
   "id": "3cc568e5",
   "metadata": {},
   "outputs": [
    {
     "data": {
      "text/plain": [
       "array([[0.],\n",
       "       [0.],\n",
       "       [0.],\n",
       "       ...,\n",
       "       [1.],\n",
       "       [1.],\n",
       "       [1.]], dtype=float32)"
      ]
     },
     "execution_count": 51,
     "metadata": {},
     "output_type": "execute_result"
    }
   ],
   "source": [
    "target"
   ]
  },
  {
   "cell_type": "markdown",
   "id": "e5becc92",
   "metadata": {},
   "source": [
    "### 랜덤으로 생성한 데이터 셋의 두 클래스"
   ]
  },
  {
   "cell_type": "code",
   "execution_count": 52,
   "id": "04c31045",
   "metadata": {},
   "outputs": [
    {
     "data": {
      "text/plain": [
       "<matplotlib.collections.PathCollection at 0x24d2e584c40>"
      ]
     },
     "execution_count": 52,
     "metadata": {},
     "output_type": "execute_result"
    },
    {
     "data": {
      "image/png": "[encoded data removed]",
      "text/plain": [
       "<Figure size 432x288 with 1 Axes>"
      ]
     },
     "metadata": {
      "needs_background": "light"
     },
     "output_type": "display_data"
    }
   ],
   "source": [
    "import matplotlib.pyplot as plt\n",
    "plt.scatter(data[:,0],data[:,1],c=target[:,0])"
   ]
  },
  {
   "cell_type": "code",
   "execution_count": 68,
   "id": "fe4a8fe2",
   "metadata": {},
   "outputs": [],
   "source": [
    "# 선형 분류 변수 생성\n",
    "# predict=W*input+b\n",
    "input_d=2\n",
    "output_d=1\n",
    "W=tf.Variable(initial_value=tf.random.uniform(shape=(input_d,output_d)))\n",
    "b=tf.Variable(initial_value=tf.zeros(shape=(output_d,)))"
   ]
  },
  {
   "cell_type": "code",
   "execution_count": 69,
   "id": "2bc14667",
   "metadata": {},
   "outputs": [
    {
     "data": {
      "text/plain": [
       "(2000, 2)"
      ]
     },
     "execution_count": 69,
     "metadata": {},
     "output_type": "execute_result"
    }
   ],
   "source": [
    "data.shape"
   ]
  },
  {
   "cell_type": "code",
   "execution_count": 70,
   "id": "9505d6cb",
   "metadata": {},
   "outputs": [
    {
     "data": {
      "text/plain": [
       "TensorShape([2, 1])"
      ]
     },
     "execution_count": 70,
     "metadata": {},
     "output_type": "execute_result"
    }
   ],
   "source": [
    "W.shape"
   ]
  },
  {
   "cell_type": "code",
   "execution_count": 71,
   "id": "9d6d1e3a",
   "metadata": {},
   "outputs": [],
   "source": [
    "def model(x):\n",
    "    mat=tf.matmul(x,W)\n",
    "    return mat+b "
   ]
  },
  {
   "cell_type": "code",
   "execution_count": 72,
   "id": "a209bab3",
   "metadata": {},
   "outputs": [
    {
     "data": {
      "text/plain": [
       "<tf.Tensor: shape=(2000, 1), dtype=float32, numpy=\n",
       "array([[2.237947 ],\n",
       "       [3.8395953],\n",
       "       [1.3797435],\n",
       "       ...,\n",
       "       [2.0364938],\n",
       "       [0.1554906],\n",
       "       [0.5773049]], dtype=float32)>"
      ]
     },
     "execution_count": 72,
     "metadata": {},
     "output_type": "execute_result"
    }
   ],
   "source": [
    "model(data)"
   ]
  },
  {
   "cell_type": "code",
   "execution_count": 73,
   "id": "0f5933fd",
   "metadata": {},
   "outputs": [],
   "source": [
    "# mse 함수\n",
    "def mes(x,y):# x는 타겟값 y는 예측값\n",
    "    loss=tf.square(x-y)\n",
    "    return tf.reduce_mean(loss) # 각 손실값들의 평균"
   ]
  },
  {
   "cell_type": "code",
   "execution_count": 74,
   "id": "0d7210e3",
   "metadata": {},
   "outputs": [],
   "source": [
    "# W와 b를 업데이트하는 함수\n",
    "l_r=0.1\n",
    "def train(input,target):\n",
    "    with tf.GradientTape() as tape:\n",
    "        pred=model(input)\n",
    "        loss=mes(target,pred)\n",
    "    loss_W,loss_b=tape.gradient(loss,[W,b])\n",
    "    W.assign_sub(loss_W*l_r)\n",
    "    b.assign_sub(loss_b*l_r)\n",
    "    return loss"
   ]
  },
  {
   "cell_type": "code",
   "execution_count": 77,
   "id": "826e00d5",
   "metadata": {
    "scrolled": true
   },
   "outputs": [
    {
     "name": "stdout",
     "output_type": "stream",
     "text": [
      "1번째 스텝의 손실:0.0283\n",
      "2번째 스텝의 손실:0.0280\n",
      "3번째 스텝의 손실:0.0277\n",
      "4번째 스텝의 손실:0.0275\n",
      "5번째 스텝의 손실:0.0273\n",
      "6번째 스텝의 손실:0.0271\n",
      "7번째 스텝의 손실:0.0269\n",
      "8번째 스텝의 손실:0.0267\n",
      "9번째 스텝의 손실:0.0266\n",
      "10번째 스텝의 손실:0.0264\n",
      "11번째 스텝의 손실:0.0263\n",
      "12번째 스텝의 손실:0.0262\n",
      "13번째 스텝의 손실:0.0261\n",
      "14번째 스텝의 손실:0.0260\n",
      "15번째 스텝의 손실:0.0259\n",
      "16번째 스텝의 손실:0.0258\n",
      "17번째 스텝의 손실:0.0257\n",
      "18번째 스텝의 손실:0.0257\n",
      "19번째 스텝의 손실:0.0256\n",
      "20번째 스텝의 손실:0.0255\n",
      "21번째 스텝의 손실:0.0255\n",
      "22번째 스텝의 손실:0.0254\n",
      "23번째 스텝의 손실:0.0254\n",
      "24번째 스텝의 손실:0.0254\n",
      "25번째 스텝의 손실:0.0253\n",
      "26번째 스텝의 손실:0.0253\n",
      "27번째 스텝의 손실:0.0253\n",
      "28번째 스텝의 손실:0.0252\n",
      "29번째 스텝의 손실:0.0252\n",
      "30번째 스텝의 손실:0.0252\n",
      "31번째 스텝의 손실:0.0252\n",
      "32번째 스텝의 손실:0.0251\n",
      "33번째 스텝의 손실:0.0251\n",
      "34번째 스텝의 손실:0.0251\n",
      "35번째 스텝의 손실:0.0251\n",
      "36번째 스텝의 손실:0.0251\n",
      "37번째 스텝의 손실:0.0251\n",
      "38번째 스텝의 손실:0.0251\n",
      "39번째 스텝의 손실:0.0250\n",
      "40번째 스텝의 손실:0.0250\n"
     ]
    }
   ],
   "source": [
    "for i in range(40):\n",
    "    loss=train(data,target)\n",
    "    print(f'{i+1}번째 스텝의 손실:{loss:.4f}')"
   ]
  },
  {
   "cell_type": "code",
   "execution_count": 78,
   "id": "4a1ff0c1",
   "metadata": {},
   "outputs": [],
   "source": [
    "pred=model(data)"
   ]
  },
  {
   "cell_type": "code",
   "execution_count": 82,
   "id": "12a5e2bf",
   "metadata": {},
   "outputs": [
    {
     "data": {
      "text/plain": [
       "<matplotlib.collections.PathCollection at 0x24d306e2580>"
      ]
     },
     "execution_count": 82,
     "metadata": {},
     "output_type": "execute_result"
    },
    {
     "data": {
      "image/png": "[encoded data removed]",
      "text/plain": [
       "<Figure size 432x288 with 1 Axes>"
      ]
     },
     "metadata": {
      "needs_background": "light"
     },
     "output_type": "display_data"
    }
   ],
   "source": [
    "plt.scatter(data[:,0],data[:,1],c=pred[:,0]>0.5)"
   ]
  },
  {
   "cell_type": "markdown",
   "id": "ef7cc41b",
   "metadata": {},
   "source": [
    "예측값이 0.5보다 크면 1,0.5보다 작으면 0으로 분류"
   ]
  },
  {
   "cell_type": "markdown",
   "id": "4663aad3",
   "metadata": {},
   "source": [
    "### 최종 선형 분류 직선의 결과"
   ]
  },
  {
   "cell_type": "code",
   "execution_count": 84,
   "id": "847582a0",
   "metadata": {},
   "outputs": [
    {
     "data": {
      "text/plain": [
       "<matplotlib.collections.PathCollection at 0x24d30782d90>"
      ]
     },
     "execution_count": 84,
     "metadata": {},
     "output_type": "execute_result"
    },
    {
     "data": {
      "image/png": "[encoded data removed]",
      "text/plain": [
       "<Figure size 432x288 with 1 Axes>"
      ]
     },
     "metadata": {
      "needs_background": "light"
     },
     "output_type": "display_data"
    }
   ],
   "source": [
    "x=np.linspace(-1,4,100)\n",
    "y=-W[0]/W[1]*x+(0.5-b)/W[1] # W1*x+W2*y+b를 y를 기준으로 정리한 방정식\n",
    "plt.plot(x,y)\n",
    "plt.scatter(data[:,0],data[:,1],c=pred[:,0]>0.5)"
   ]
  }
 ],
 "metadata": {
  "kernelspec": {
   "display_name": "Python 3 (ipykernel)",
   "language": "python",
   "name": "python3"
  },
  "language_info": {
   "codemirror_mode": {
    "name": "ipython",
    "version": 3
   },
   "file_extension": ".py",
   "mimetype": "text/x-python",
   "name": "python",
   "nbconvert_exporter": "python",
   "pygments_lexer": "ipython3",
   "version": "3.9.12"
  }
 },
 "nbformat": 4,
 "nbformat_minor": 5
}
