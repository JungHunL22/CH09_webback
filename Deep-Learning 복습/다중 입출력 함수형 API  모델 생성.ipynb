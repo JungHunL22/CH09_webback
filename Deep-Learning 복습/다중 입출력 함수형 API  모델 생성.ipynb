{
 "cells": [
  {
   "cell_type": "code",
   "execution_count": 1,
   "id": "ad55e33a",
   "metadata": {},
   "outputs": [],
   "source": [
    "from tensorflow.keras import layers\n",
    "from tensorflow import keras"
   ]
  },
  {
   "cell_type": "markdown",
   "id": "14ee8ecb",
   "metadata": {},
   "source": [
    "# 함수형 API를 사용한 모델"
   ]
  },
  {
   "cell_type": "code",
   "execution_count": 3,
   "id": "a0b87c86",
   "metadata": {},
   "outputs": [],
   "source": [
    "# 입력 클래스 객체 생성(심볼릭텐서)\n",
    "inputs=keras.Input(shape=(3,),name='input')\n",
    "# 첫번째 층 생성(새로운 심볼릭텐서)\n",
    "features=layers.Dense(64,activation='relu')(inputs)\n",
    "# 최종 출력을 얻어 입력과 출력을 모델 클래스에 전달하여 모델 객체 생성\n",
    "outputs=layers.Dense(10,activation='softmax')(features)\n",
    "model=keras.Model(inputs=inputs,outputs=outputs)"
   ]
  },
  {
   "cell_type": "code",
   "execution_count": 4,
   "id": "0554bf1a",
   "metadata": {},
   "outputs": [
    {
     "name": "stdout",
     "output_type": "stream",
     "text": [
      "Model: \"model\"\n",
      "_________________________________________________________________\n",
      " Layer (type)                Output Shape              Param #   \n",
      "=================================================================\n",
      " input (InputLayer)          [(None, 3)]               0         \n",
      "                                                                 \n",
      " dense (Dense)               (None, 64)                256       \n",
      "                                                                 \n",
      " dense_1 (Dense)             (None, 10)                650       \n",
      "                                                                 \n",
      "=================================================================\n",
      "Total params: 906\n",
      "Trainable params: 906\n",
      "Non-trainable params: 0\n",
      "_________________________________________________________________\n"
     ]
    }
   ],
   "source": [
    "# 모델의 결과\n",
    "model.summary()"
   ]
  },
  {
   "cell_type": "markdown",
   "id": "53f03561",
   "metadata": {},
   "source": [
    "## 다중입력, 다중출력 모델\n",
    "대부분 딥러닝 모델은 리스트와 같은 형태가 아님. 입력이 여러개거나 출력이 여러개인 모델에서 함수형 API모델이 빛을 발함.  \n",
    "3개의 입력을 가지는 모델을 예시로 사용\n",
    "- 이슈 티켓의 제목(텍스트)\n",
    "- 이슈 티켓의 텍스트 본문(텍스트)\n",
    "- 사용자가 추가한 태그(범주형 입력,원핫인코딩으로 가정)"
   ]
  },
  {
   "cell_type": "code",
   "execution_count": 6,
   "id": "b7e7aaef",
   "metadata": {},
   "outputs": [],
   "source": [
    "voca_size=10000\n",
    "num_tags=100\n",
    "num_dpart=4"
   ]
  },
  {
   "cell_type": "markdown",
   "id": "9deb4a28",
   "metadata": {},
   "source": [
    "### 모델 입력층 생성"
   ]
  },
  {
   "cell_type": "code",
   "execution_count": 31,
   "id": "eba5dbd0",
   "metadata": {},
   "outputs": [],
   "source": [
    "title=keras.Input(shape=(voca_size,),name='title')\n",
    "text_body=keras.Input(shape=(voca_size,),name='text_body')\n",
    "tags=keras.Input(shape=(num_tags,),name='tags')"
   ]
  },
  {
   "cell_type": "code",
   "execution_count": 32,
   "id": "fd7d19a6",
   "metadata": {},
   "outputs": [
    {
     "data": {
      "text/plain": [
       "<KerasTensor: shape=(None, 10000) dtype=float32 (created by layer 'title')>"
      ]
     },
     "execution_count": 32,
     "metadata": {},
     "output_type": "execute_result"
    }
   ],
   "source": [
    "title"
   ]
  },
  {
   "cell_type": "code",
   "execution_count": 33,
   "id": "3abceaee",
   "metadata": {},
   "outputs": [
    {
     "data": {
      "text/plain": [
       "<KerasTensor: shape=(None, 10000) dtype=float32 (created by layer 'text_body')>"
      ]
     },
     "execution_count": 33,
     "metadata": {},
     "output_type": "execute_result"
    }
   ],
   "source": [
    "text_body"
   ]
  },
  {
   "cell_type": "code",
   "execution_count": 34,
   "id": "5b7dca9a",
   "metadata": {},
   "outputs": [
    {
     "data": {
      "text/plain": [
       "<KerasTensor: shape=(None, 100) dtype=float32 (created by layer 'tags')>"
      ]
     },
     "execution_count": 34,
     "metadata": {},
     "output_type": "execute_result"
    }
   ],
   "source": [
    "tags"
   ]
  },
  {
   "cell_type": "markdown",
   "id": "d1586bdc",
   "metadata": {},
   "source": [
    "### 모델 입력 특성 결합"
   ]
  },
  {
   "cell_type": "code",
   "execution_count": 35,
   "id": "a0224c47",
   "metadata": {},
   "outputs": [
    {
     "data": {
      "text/plain": [
       "<KerasTensor: shape=(None, 20100) dtype=float32 (created by layer 'concatenate_2')>"
      ]
     },
     "execution_count": 35,
     "metadata": {},
     "output_type": "execute_result"
    }
   ],
   "source": [
    "features=layers.Concatenate()([title,text_body,tags])\n",
    "features"
   ]
  },
  {
   "cell_type": "code",
   "execution_count": 36,
   "id": "69e00c45",
   "metadata": {},
   "outputs": [
    {
     "data": {
      "text/plain": [
       "<KerasTensor: shape=(None, 64) dtype=float32 (created by layer 'dense_5')>"
      ]
     },
     "execution_count": 36,
     "metadata": {},
     "output_type": "execute_result"
    }
   ],
   "source": [
    "features_layers=layers.Dense(64,activation='relu')(features)\n",
    "features_layers"
   ]
  },
  {
   "cell_type": "code",
   "execution_count": 37,
   "id": "a625deda",
   "metadata": {},
   "outputs": [],
   "source": [
    "prior=layers.Dense(1,activation='sigmoid',name='prior')(features_layers)\n",
    "depart=layers.Dense(num_dpart,activation='softmax',name='depart')(features_layers)"
   ]
  },
  {
   "cell_type": "code",
   "execution_count": 38,
   "id": "f1cb5906",
   "metadata": {},
   "outputs": [],
   "source": [
    "model=keras.Model(inputs=[title,text_body,tags],\n",
    "                 outputs=[prior,depart])"
   ]
  },
  {
   "cell_type": "code",
   "execution_count": 39,
   "id": "c6fb09b3",
   "metadata": {},
   "outputs": [
    {
     "name": "stdout",
     "output_type": "stream",
     "text": [
      "Model: \"model_2\"\n",
      "__________________________________________________________________________________________________\n",
      " Layer (type)                   Output Shape         Param #     Connected to                     \n",
      "==================================================================================================\n",
      " title (InputLayer)             [(None, 10000)]      0           []                               \n",
      "                                                                                                  \n",
      " text_body (InputLayer)         [(None, 10000)]      0           []                               \n",
      "                                                                                                  \n",
      " tags (InputLayer)              [(None, 100)]        0           []                               \n",
      "                                                                                                  \n",
      " concatenate_2 (Concatenate)    (None, 20100)        0           ['title[0][0]',                  \n",
      "                                                                  'text_body[0][0]',              \n",
      "                                                                  'tags[0][0]']                   \n",
      "                                                                                                  \n",
      " dense_5 (Dense)                (None, 64)           1286464     ['concatenate_2[0][0]']          \n",
      "                                                                                                  \n",
      " prior (Dense)                  (None, 1)            65          ['dense_5[0][0]']                \n",
      "                                                                                                  \n",
      " depart (Dense)                 (None, 4)            260         ['dense_5[0][0]']                \n",
      "                                                                                                  \n",
      "==================================================================================================\n",
      "Total params: 1,286,789\n",
      "Trainable params: 1,286,789\n",
      "Non-trainable params: 0\n",
      "__________________________________________________________________________________________________\n"
     ]
    }
   ],
   "source": [
    "model.summary()"
   ]
  },
  {
   "cell_type": "code",
   "execution_count": 40,
   "id": "a6b39b8a",
   "metadata": {},
   "outputs": [],
   "source": [
    "import numpy as np\n",
    "\n",
    "num_samples=1280\n",
    "\n",
    "title_data=np.random.randint(0,2,size=(num_samples,voca_size))\n",
    "text_body_data=np.random.randint(0,2,size=(num_samples,voca_size))\n",
    "tags_data=np.random.randint(0,2,size=(num_samples,num_tags))"
   ]
  },
  {
   "cell_type": "code",
   "execution_count": 41,
   "id": "bc23e7b2",
   "metadata": {},
   "outputs": [],
   "source": [
    "prior_data=np.random.random(size=(num_samples,1))\n",
    "depart_data=np.random.randint(0,2,size=(num_samples,num_dpart))"
   ]
  },
  {
   "cell_type": "code",
   "execution_count": 42,
   "id": "9cbb11e7",
   "metadata": {},
   "outputs": [
    {
     "name": "stdout",
     "output_type": "stream",
     "text": [
      "40/40 [==============================] - 3s 34ms/step - loss: 30.5531 - prior_loss: 0.3218 - depart_loss: 30.2313 - prior_mean_absolute_error: 0.4902 - prior_accuracy: 0.0000e+00 - depart_mean_absolute_error: 0.5003 - depart_accuracy: 0.1602\n",
      "40/40 [==============================] - 1s 10ms/step - loss: 13.7637 - prior_loss: 0.3306 - depart_loss: 13.4331 - prior_mean_absolute_error: 0.4999 - prior_accuracy: 0.0000e+00 - depart_mean_absolute_error: 0.4689 - depart_accuracy: 0.2852\n"
     ]
    },
    {
     "data": {
      "text/plain": [
       "[13.763704299926758,\n",
       " 0.33064624667167664,\n",
       " 13.43305778503418,\n",
       " 0.49987921118736267,\n",
       " 0.0,\n",
       " 0.46892040967941284,\n",
       " 0.28515625]"
      ]
     },
     "execution_count": 42,
     "metadata": {},
     "output_type": "execute_result"
    }
   ],
   "source": [
    "model.compile(optimizer='rmsprop',\n",
    "             loss=['mean_squared_error','categorical_crossentropy'],\n",
    "             metrics=['mean_absolute_error','accuracy'])\n",
    "model.fit([title_data,text_body_data,tags_data],\n",
    "         [prior_data,depart_data],\n",
    "         epochs=1)\n",
    "model.evaluate([title_data,text_body_data,tags_data],\n",
    "         [prior_data,depart_data])"
   ]
  },
  {
   "cell_type": "code",
   "execution_count": 43,
   "id": "ea64372c",
   "metadata": {},
   "outputs": [
    {
     "name": "stdout",
     "output_type": "stream",
     "text": [
      "40/40 [==============================] - 1s 9ms/step\n"
     ]
    }
   ],
   "source": [
    "prior_preds,depart_preds=model.predict([title_data,text_body_data,tags_data])"
   ]
  },
  {
   "cell_type": "markdown",
   "id": "a39325cc",
   "metadata": {},
   "source": [
    "## 함수형 API 장점 : 층 연결 구조 활용"
   ]
  },
  {
   "cell_type": "code",
   "execution_count": 44,
   "id": "7712d575",
   "metadata": {},
   "outputs": [
    {
     "data": {
      "image/png": "[encoded data removed]",
      "text/plain": [
       "<IPython.core.display.Image object>"
      ]
     },
     "execution_count": 44,
     "metadata": {},
     "output_type": "execute_result"
    }
   ],
   "source": [
    "keras.utils.plot_model(model,'ticket_classifier.png')"
   ]
  },
  {
   "cell_type": "code",
   "execution_count": 45,
   "id": "c536642d",
   "metadata": {},
   "outputs": [
    {
     "data": {
      "image/png": "[encoded data removed]",
      "text/plain": [
       "<IPython.core.display.Image object>"
      ]
     },
     "execution_count": 45,
     "metadata": {},
     "output_type": "execute_result"
    }
   ],
   "source": [
    "keras.utils.plot_model(model,'ticket_classifier_info.png',show_shapes=True)"
   ]
  },
  {
   "cell_type": "markdown",
   "id": "eb7812e6",
   "metadata": {},
   "source": [
    "### 함수형 모델의 층 출력"
   ]
  },
  {
   "cell_type": "code",
   "execution_count": 46,
   "id": "ddd62bba",
   "metadata": {},
   "outputs": [
    {
     "data": {
      "text/plain": [
       "[<keras.engine.input_layer.InputLayer at 0x217d94195b0>,\n",
       " <keras.engine.input_layer.InputLayer at 0x217d94196d0>,\n",
       " <keras.engine.input_layer.InputLayer at 0x217d92b9940>,\n",
       " <keras.layers.merging.concatenate.Concatenate at 0x217d9419670>,\n",
       " <keras.layers.core.dense.Dense at 0x217d94198e0>,\n",
       " <keras.layers.core.dense.Dense at 0x217d940a0d0>,\n",
       " <keras.layers.core.dense.Dense at 0x217d940a2b0>]"
      ]
     },
     "execution_count": 46,
     "metadata": {},
     "output_type": "execute_result"
    }
   ],
   "source": [
    "model.layers"
   ]
  },
  {
   "cell_type": "code",
   "execution_count": 47,
   "id": "07a95cec",
   "metadata": {},
   "outputs": [
    {
     "data": {
      "text/plain": [
       "[<KerasTensor: shape=(None, 10000) dtype=float32 (created by layer 'title')>,\n",
       " <KerasTensor: shape=(None, 10000) dtype=float32 (created by layer 'text_body')>,\n",
       " <KerasTensor: shape=(None, 100) dtype=float32 (created by layer 'tags')>]"
      ]
     },
     "execution_count": 47,
     "metadata": {},
     "output_type": "execute_result"
    }
   ],
   "source": [
    "model.layers[3].input"
   ]
  },
  {
   "cell_type": "code",
   "execution_count": 48,
   "id": "0191a030",
   "metadata": {},
   "outputs": [
    {
     "data": {
      "text/plain": [
       "<KerasTensor: shape=(None, 20100) dtype=float32 (created by layer 'concatenate_2')>"
      ]
     },
     "execution_count": 48,
     "metadata": {},
     "output_type": "execute_result"
    }
   ],
   "source": [
    "model.layers[3].output"
   ]
  },
  {
   "cell_type": "markdown",
   "id": "a62fa2a4",
   "metadata": {},
   "source": [
    "### 특성 추출을 통한 중간 특성 재사용"
   ]
  },
  {
   "cell_type": "code",
   "execution_count": 52,
   "id": "05c3fe59",
   "metadata": {},
   "outputs": [],
   "source": [
    "features=model.layers[4].output\n",
    "dif_model=layers.Dense(3,activation='softmax',name='dif_model')(features)\n",
    "new_model=keras.Model(inputs=[title,text_body,tags],\n",
    "                     outputs=[prior,depart,dif_model])"
   ]
  },
  {
   "cell_type": "code",
   "execution_count": 55,
   "id": "ec1ff660",
   "metadata": {},
   "outputs": [
    {
     "name": "stdout",
     "output_type": "stream",
     "text": [
      "Model: \"model_3\"\n",
      "__________________________________________________________________________________________________\n",
      " Layer (type)                   Output Shape         Param #     Connected to                     \n",
      "==================================================================================================\n",
      " title (InputLayer)             [(None, 10000)]      0           []                               \n",
      "                                                                                                  \n",
      " text_body (InputLayer)         [(None, 10000)]      0           []                               \n",
      "                                                                                                  \n",
      " tags (InputLayer)              [(None, 100)]        0           []                               \n",
      "                                                                                                  \n",
      " concatenate_2 (Concatenate)    (None, 20100)        0           ['title[0][0]',                  \n",
      "                                                                  'text_body[0][0]',              \n",
      "                                                                  'tags[0][0]']                   \n",
      "                                                                                                  \n",
      " dense_5 (Dense)                (None, 64)           1286464     ['concatenate_2[0][0]']          \n",
      "                                                                                                  \n",
      " prior (Dense)                  (None, 1)            65          ['dense_5[0][0]']                \n",
      "                                                                                                  \n",
      " depart (Dense)                 (None, 4)            260         ['dense_5[0][0]']                \n",
      "                                                                                                  \n",
      " dif_model (Dense)              (None, 3)            195         ['dense_5[0][0]']                \n",
      "                                                                                                  \n",
      "==================================================================================================\n",
      "Total params: 1,286,984\n",
      "Trainable params: 1,286,984\n",
      "Non-trainable params: 0\n",
      "__________________________________________________________________________________________________\n"
     ]
    }
   ],
   "source": [
    "new_model.summary()"
   ]
  },
  {
   "cell_type": "code",
   "execution_count": 54,
   "id": "4aacf9b7",
   "metadata": {},
   "outputs": [
    {
     "data": {
      "image/png": "[encoded data removed]",
      "text/plain": [
       "<IPython.core.display.Image object>"
      ]
     },
     "execution_count": 54,
     "metadata": {},
     "output_type": "execute_result"
    }
   ],
   "source": [
    "keras.utils.plot_model(new_model,'updated_ticket_classifier.png',show_shapes=True)"
   ]
  }
 ],
 "metadata": {
  "kernelspec": {
   "display_name": "Python 3 (ipykernel)",
   "language": "python",
   "name": "python3"
  },
  "language_info": {
   "codemirror_mode": {
    "name": "ipython",
    "version": 3
   },
   "file_extension": ".py",
   "mimetype": "text/x-python",
   "name": "python",
   "nbconvert_exporter": "python",
   "pygments_lexer": "ipython3",
   "version": "3.9.12"
  }
 },
 "nbformat": 4,
 "nbformat_minor": 5
}
