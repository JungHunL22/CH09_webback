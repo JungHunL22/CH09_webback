{
 "cells": [
  {
   "cell_type": "markdown",
   "id": "7e108ea1",
   "metadata": {},
   "source": [
    "# 훈련 성능 향상하기\n",
    "가장 좋은 모델은 과적합되지 않고, 일반화가 가능한 모델이라고 할 수 있음.\n",
    "하지만 일반적으로 세가지 문제가 발생하는데, 훈련이 되지않거나(손실이 줄어들지 않음), 훈련은 진행되지만 모델이 일반화를 하지못함(모델의 성능이 기준점을 넘지 못함), epochs가 늘어남에 따라 손실이 줄고 기준점을 넘지만 과소적합되는 경우가 있음.\n",
    "이런 문제를 해결하기 위해서는 경사하강법의 최적화된 하이퍼 파라미터 튜닝이 필요함.  \n",
    "옵티마이저 선택, 모델 가중치의 초깃값 분포, 학습률, 배치크기 등이 있음."
   ]
  },
  {
   "cell_type": "markdown",
   "id": "448d05e2",
   "metadata": {},
   "source": [
    "## MNIST 예시"
   ]
  },
  {
   "cell_type": "code",
   "execution_count": 3,
   "id": "ef7ef481",
   "metadata": {},
   "outputs": [],
   "source": [
    "from tensorflow.keras.datasets import mnist"
   ]
  },
  {
   "cell_type": "code",
   "execution_count": 4,
   "id": "31dc6bbc",
   "metadata": {},
   "outputs": [],
   "source": [
    "(train,train_label),_=mnist.load_data()"
   ]
  },
  {
   "cell_type": "code",
   "execution_count": 5,
   "id": "310569ad",
   "metadata": {},
   "outputs": [],
   "source": [
    "train_dt=train.reshape(len(train),28*28)\n",
    "train_dt=train_dt.astype('float32')/255"
   ]
  },
  {
   "cell_type": "markdown",
   "id": "682dc857",
   "metadata": {},
   "source": [
    "## 학습률을 1로 설정해 모델을 훈련(비정상적으로 높은 학습률)"
   ]
  },
  {
   "cell_type": "code",
   "execution_count": 11,
   "id": "22f05b92",
   "metadata": {},
   "outputs": [
    {
     "name": "stdout",
     "output_type": "stream",
     "text": [
      "Epoch 1/10\n",
      "375/375 [==============================] - 5s 12ms/step - loss: 609.8233 - accuracy: 0.3562 - val_loss: 2.1716 - val_accuracy: 0.2200\n",
      "Epoch 2/10\n",
      "375/375 [==============================] - 4s 12ms/step - loss: 3.6287 - accuracy: 0.2488 - val_loss: 4.1793 - val_accuracy: 0.3419\n",
      "Epoch 3/10\n",
      "375/375 [==============================] - 4s 11ms/step - loss: 3.0753 - accuracy: 0.2498 - val_loss: 2.1367 - val_accuracy: 0.2325\n",
      "Epoch 4/10\n",
      "375/375 [==============================] - 4s 11ms/step - loss: 2.9720 - accuracy: 0.2719 - val_loss: 2.2309 - val_accuracy: 0.3126\n",
      "Epoch 5/10\n",
      "375/375 [==============================] - 4s 11ms/step - loss: 2.3796 - accuracy: 0.2691 - val_loss: 7.3194 - val_accuracy: 0.3288\n",
      "Epoch 6/10\n",
      "375/375 [==============================] - 4s 11ms/step - loss: 2.5293 - accuracy: 0.2511 - val_loss: 2.4446 - val_accuracy: 0.2578\n",
      "Epoch 7/10\n",
      "375/375 [==============================] - 4s 12ms/step - loss: 2.5015 - accuracy: 0.2696 - val_loss: 2.3118 - val_accuracy: 0.2527\n",
      "Epoch 8/10\n",
      "375/375 [==============================] - 4s 12ms/step - loss: 2.5626 - accuracy: 0.2514 - val_loss: 2.3047 - val_accuracy: 0.2302\n",
      "Epoch 9/10\n",
      "375/375 [==============================] - 4s 11ms/step - loss: 2.4325 - accuracy: 0.2692 - val_loss: 2.2849 - val_accuracy: 0.2730\n",
      "Epoch 10/10\n",
      "375/375 [==============================] - 4s 12ms/step - loss: 2.3467 - accuracy: 0.2586 - val_loss: 2.2698 - val_accuracy: 0.2640\n"
     ]
    },
    {
     "data": {
      "text/plain": [
       "<keras.callbacks.History at 0x1665cd566d0>"
      ]
     },
     "execution_count": 11,
     "metadata": {},
     "output_type": "execute_result"
    }
   ],
   "source": [
    "from tensorflow import keras\n",
    "from tensorflow.keras import layers\n",
    "model=keras.Sequential([\n",
    "    layers.Dense(512,activation='relu'),\n",
    "    layers.Dense(10,activation='softmax')\n",
    "])\n",
    "model.compile(optimizer=keras.optimizers.RMSprop(1.),\n",
    "             loss='sparse_categorical_crossentropy',\n",
    "             metrics='accuracy')\n",
    "model.fit(train_dt,train_label,\n",
    "         epochs=10,\n",
    "         batch_size=128,\n",
    "         validation_split=0.2)"
   ]
  },
  {
   "cell_type": "markdown",
   "id": "7b23bb55",
   "metadata": {},
   "source": [
    "성능이 0.2~0.3에서 올라가지않음."
   ]
  },
  {
   "cell_type": "markdown",
   "id": "783acf10",
   "metadata": {},
   "source": [
    "### 학습률을 0.01로 설정해서 학습 진행  \n",
    "optimizer 튜닝만으로 모델의 성능이 크게 차이남.  \n",
    "학습률을 낮게하면 모델의 성능이 향상될 수 있지만, 학습 시간이 길어질 수 있음.  \n",
    "학습률을 높게하면 모델의 성능이 저하될 수 있지만, 학습 시간은 짧아짐.  \n",
    "적절한 학습률을 설정해야 모델의 효율성을 높일 수 있음.  \n",
    "\n",
    "\n",
    "학습률 이외에도 배치사이즈를 늘려 분산이 낮은 Gradient가 만들어 질 수 있음."
   ]
  },
  {
   "cell_type": "code",
   "execution_count": 13,
   "id": "c1c163b9",
   "metadata": {
    "scrolled": false
   },
   "outputs": [
    {
     "name": "stdout",
     "output_type": "stream",
     "text": [
      "Epoch 1/10\n",
      "375/375 [==============================] - 5s 12ms/step - loss: 0.3676 - accuracy: 0.9131 - val_loss: 0.1420 - val_accuracy: 0.9612\n",
      "Epoch 2/10\n",
      "375/375 [==============================] - 5s 12ms/step - loss: 0.1405 - accuracy: 0.9639 - val_loss: 0.1701 - val_accuracy: 0.9585\n",
      "Epoch 3/10\n",
      "375/375 [==============================] - 4s 12ms/step - loss: 0.1151 - accuracy: 0.9729 - val_loss: 0.1589 - val_accuracy: 0.9697\n",
      "Epoch 4/10\n",
      "375/375 [==============================] - 4s 12ms/step - loss: 0.0979 - accuracy: 0.9782 - val_loss: 0.2272 - val_accuracy: 0.9616\n",
      "Epoch 5/10\n",
      "375/375 [==============================] - 5s 12ms/step - loss: 0.0835 - accuracy: 0.9821 - val_loss: 0.2612 - val_accuracy: 0.9661\n",
      "Epoch 6/10\n",
      "375/375 [==============================] - 5s 12ms/step - loss: 0.0727 - accuracy: 0.9854 - val_loss: 0.1963 - val_accuracy: 0.9744\n",
      "Epoch 7/10\n",
      "375/375 [==============================] - 4s 11ms/step - loss: 0.0642 - accuracy: 0.9868 - val_loss: 0.2649 - val_accuracy: 0.9688\n",
      "Epoch 8/10\n",
      "375/375 [==============================] - 4s 12ms/step - loss: 0.0630 - accuracy: 0.9887 - val_loss: 0.2737 - val_accuracy: 0.9731\n",
      "Epoch 9/10\n",
      "375/375 [==============================] - 5s 12ms/step - loss: 0.0640 - accuracy: 0.9892 - val_loss: 0.2499 - val_accuracy: 0.9736\n",
      "Epoch 10/10\n",
      "375/375 [==============================] - 4s 12ms/step - loss: 0.0521 - accuracy: 0.9902 - val_loss: 0.2912 - val_accuracy: 0.9708\n"
     ]
    },
    {
     "data": {
      "text/plain": [
       "<keras.callbacks.History at 0x1666226fcd0>"
      ]
     },
     "execution_count": 13,
     "metadata": {},
     "output_type": "execute_result"
    }
   ],
   "source": [
    "model=keras.Sequential([\n",
    "    layers.Dense(512,activation='relu'),\n",
    "    layers.Dense(10,activation='softmax')\n",
    "])\n",
    "model.compile(optimizer=keras.optimizers.RMSprop(1e-2),\n",
    "             loss='sparse_categorical_crossentropy',\n",
    "             metrics='accuracy')\n",
    "model.fit(train_dt,train_label,\n",
    "         epochs=10,\n",
    "         batch_size=128,\n",
    "         validation_split=0.2)"
   ]
  },
  {
   "cell_type": "markdown",
   "id": "8b92660e",
   "metadata": {},
   "source": [
    "## 모델 용량 늘리기(층 확장)\n",
    "### 간단하게 로지스틱 회귀 분류 모델 생성"
   ]
  },
  {
   "cell_type": "code",
   "execution_count": 28,
   "id": "6c34a6ab",
   "metadata": {},
   "outputs": [
    {
     "name": "stdout",
     "output_type": "stream",
     "text": [
      "Epoch 1/20\n",
      "188/188 [==============================] - 1s 4ms/step - loss: 0.8703 - accuracy: 0.7921 - val_loss: 0.4346 - val_accuracy: 0.8904\n",
      "Epoch 2/20\n",
      "188/188 [==============================] - 1s 3ms/step - loss: 0.4032 - accuracy: 0.8928 - val_loss: 0.3385 - val_accuracy: 0.9076\n",
      "Epoch 3/20\n",
      "188/188 [==============================] - 1s 3ms/step - loss: 0.3428 - accuracy: 0.9067 - val_loss: 0.3102 - val_accuracy: 0.9130\n",
      "Epoch 4/20\n",
      "188/188 [==============================] - 1s 3ms/step - loss: 0.3185 - accuracy: 0.9123 - val_loss: 0.2949 - val_accuracy: 0.9181\n",
      "Epoch 5/20\n",
      "188/188 [==============================] - 1s 3ms/step - loss: 0.3042 - accuracy: 0.9160 - val_loss: 0.2859 - val_accuracy: 0.9215\n",
      "Epoch 6/20\n",
      "188/188 [==============================] - 1s 3ms/step - loss: 0.2951 - accuracy: 0.9174 - val_loss: 0.2805 - val_accuracy: 0.9224\n",
      "Epoch 7/20\n",
      "188/188 [==============================] - 1s 4ms/step - loss: 0.2884 - accuracy: 0.9198 - val_loss: 0.2767 - val_accuracy: 0.9237\n",
      "Epoch 8/20\n",
      "188/188 [==============================] - 1s 4ms/step - loss: 0.2830 - accuracy: 0.9212 - val_loss: 0.2745 - val_accuracy: 0.9245\n",
      "Epoch 9/20\n",
      "188/188 [==============================] - 1s 3ms/step - loss: 0.2792 - accuracy: 0.9224 - val_loss: 0.2723 - val_accuracy: 0.9240\n",
      "Epoch 10/20\n",
      "188/188 [==============================] - 1s 3ms/step - loss: 0.2758 - accuracy: 0.9228 - val_loss: 0.2691 - val_accuracy: 0.9258\n",
      "Epoch 11/20\n",
      "188/188 [==============================] - 1s 3ms/step - loss: 0.2726 - accuracy: 0.9240 - val_loss: 0.2680 - val_accuracy: 0.9266\n",
      "Epoch 12/20\n",
      "188/188 [==============================] - 1s 3ms/step - loss: 0.2702 - accuracy: 0.9247 - val_loss: 0.2667 - val_accuracy: 0.9265\n",
      "Epoch 13/20\n",
      "188/188 [==============================] - 1s 3ms/step - loss: 0.2680 - accuracy: 0.9257 - val_loss: 0.2678 - val_accuracy: 0.9277\n",
      "Epoch 14/20\n",
      "188/188 [==============================] - 1s 3ms/step - loss: 0.2661 - accuracy: 0.9262 - val_loss: 0.2651 - val_accuracy: 0.9270\n",
      "Epoch 15/20\n",
      "188/188 [==============================] - 1s 3ms/step - loss: 0.2644 - accuracy: 0.9263 - val_loss: 0.2634 - val_accuracy: 0.9292\n",
      "Epoch 16/20\n",
      "188/188 [==============================] - 1s 3ms/step - loss: 0.2626 - accuracy: 0.9267 - val_loss: 0.2624 - val_accuracy: 0.9277\n",
      "Epoch 17/20\n",
      "188/188 [==============================] - 1s 4ms/step - loss: 0.2614 - accuracy: 0.9274 - val_loss: 0.2621 - val_accuracy: 0.9293\n",
      "Epoch 18/20\n",
      "188/188 [==============================] - 1s 3ms/step - loss: 0.2601 - accuracy: 0.9274 - val_loss: 0.2609 - val_accuracy: 0.9300\n",
      "Epoch 19/20\n",
      "188/188 [==============================] - 1s 3ms/step - loss: 0.2587 - accuracy: 0.9287 - val_loss: 0.2616 - val_accuracy: 0.9293\n",
      "Epoch 20/20\n",
      "188/188 [==============================] - 1s 3ms/step - loss: 0.2578 - accuracy: 0.9291 - val_loss: 0.2601 - val_accuracy: 0.9292\n"
     ]
    }
   ],
   "source": [
    "model=keras.Sequential([\n",
    "    layers.Dense(10,activation='softmax')\n",
    "])\n",
    "model.compile(optimizer='rmsprop',\n",
    "             loss='sparse_categorical_crossentropy',\n",
    "             metrics='accuracy')\n",
    "history=model.fit(train_dt,train_label,\n",
    "          epochs=20,\n",
    "          batch_size=256,\n",
    "          validation_split=0.2)"
   ]
  },
  {
   "cell_type": "code",
   "execution_count": 21,
   "id": "0d8d215f",
   "metadata": {
    "scrolled": true
   },
   "outputs": [
    {
     "data": {
      "text/plain": [
       "dict_keys(['loss', 'accuracy', 'val_loss', 'val_accuracy'])"
      ]
     },
     "execution_count": 21,
     "metadata": {},
     "output_type": "execute_result"
    }
   ],
   "source": [
    "history.history.keys()"
   ]
  },
  {
   "cell_type": "code",
   "execution_count": 29,
   "id": "fb92ae10",
   "metadata": {},
   "outputs": [
    {
     "data": {
      "text/html": [
       "<div>\n",
       "<style scoped>\n",
       "    .dataframe tbody tr th:only-of-type {\n",
       "        vertical-align: middle;\n",
       "    }\n",
       "\n",
       "    .dataframe tbody tr th {\n",
       "        vertical-align: top;\n",
       "    }\n",
       "\n",
       "    .dataframe thead th {\n",
       "        text-align: right;\n",
       "    }\n",
       "</style>\n",
       "<table border=\"1\" class=\"dataframe\">\n",
       "  <thead>\n",
       "    <tr style=\"text-align: right;\">\n",
       "      <th></th>\n",
       "      <th>loss</th>\n",
       "      <th>accuracy</th>\n",
       "      <th>val_loss</th>\n",
       "      <th>val_accuracy</th>\n",
       "    </tr>\n",
       "  </thead>\n",
       "  <tbody>\n",
       "    <tr>\n",
       "      <th>0</th>\n",
       "      <td>0.870254</td>\n",
       "      <td>0.792063</td>\n",
       "      <td>0.434558</td>\n",
       "      <td>0.890417</td>\n",
       "    </tr>\n",
       "    <tr>\n",
       "      <th>1</th>\n",
       "      <td>0.403155</td>\n",
       "      <td>0.892771</td>\n",
       "      <td>0.338468</td>\n",
       "      <td>0.907583</td>\n",
       "    </tr>\n",
       "    <tr>\n",
       "      <th>2</th>\n",
       "      <td>0.342771</td>\n",
       "      <td>0.906729</td>\n",
       "      <td>0.310161</td>\n",
       "      <td>0.913000</td>\n",
       "    </tr>\n",
       "    <tr>\n",
       "      <th>3</th>\n",
       "      <td>0.318548</td>\n",
       "      <td>0.912292</td>\n",
       "      <td>0.294896</td>\n",
       "      <td>0.918083</td>\n",
       "    </tr>\n",
       "    <tr>\n",
       "      <th>4</th>\n",
       "      <td>0.304239</td>\n",
       "      <td>0.916021</td>\n",
       "      <td>0.285893</td>\n",
       "      <td>0.921500</td>\n",
       "    </tr>\n",
       "    <tr>\n",
       "      <th>5</th>\n",
       "      <td>0.295090</td>\n",
       "      <td>0.917354</td>\n",
       "      <td>0.280549</td>\n",
       "      <td>0.922417</td>\n",
       "    </tr>\n",
       "    <tr>\n",
       "      <th>6</th>\n",
       "      <td>0.288353</td>\n",
       "      <td>0.919771</td>\n",
       "      <td>0.276691</td>\n",
       "      <td>0.923750</td>\n",
       "    </tr>\n",
       "    <tr>\n",
       "      <th>7</th>\n",
       "      <td>0.283028</td>\n",
       "      <td>0.921167</td>\n",
       "      <td>0.274485</td>\n",
       "      <td>0.924500</td>\n",
       "    </tr>\n",
       "    <tr>\n",
       "      <th>8</th>\n",
       "      <td>0.279169</td>\n",
       "      <td>0.922375</td>\n",
       "      <td>0.272274</td>\n",
       "      <td>0.924000</td>\n",
       "    </tr>\n",
       "    <tr>\n",
       "      <th>9</th>\n",
       "      <td>0.275798</td>\n",
       "      <td>0.922813</td>\n",
       "      <td>0.269141</td>\n",
       "      <td>0.925750</td>\n",
       "    </tr>\n",
       "    <tr>\n",
       "      <th>10</th>\n",
       "      <td>0.272604</td>\n",
       "      <td>0.924000</td>\n",
       "      <td>0.268000</td>\n",
       "      <td>0.926583</td>\n",
       "    </tr>\n",
       "    <tr>\n",
       "      <th>11</th>\n",
       "      <td>0.270238</td>\n",
       "      <td>0.924708</td>\n",
       "      <td>0.266702</td>\n",
       "      <td>0.926500</td>\n",
       "    </tr>\n",
       "    <tr>\n",
       "      <th>12</th>\n",
       "      <td>0.267975</td>\n",
       "      <td>0.925667</td>\n",
       "      <td>0.267767</td>\n",
       "      <td>0.927750</td>\n",
       "    </tr>\n",
       "    <tr>\n",
       "      <th>13</th>\n",
       "      <td>0.266052</td>\n",
       "      <td>0.926167</td>\n",
       "      <td>0.265100</td>\n",
       "      <td>0.927000</td>\n",
       "    </tr>\n",
       "    <tr>\n",
       "      <th>14</th>\n",
       "      <td>0.264382</td>\n",
       "      <td>0.926292</td>\n",
       "      <td>0.263367</td>\n",
       "      <td>0.929167</td>\n",
       "    </tr>\n",
       "    <tr>\n",
       "      <th>15</th>\n",
       "      <td>0.262578</td>\n",
       "      <td>0.926708</td>\n",
       "      <td>0.262352</td>\n",
       "      <td>0.927750</td>\n",
       "    </tr>\n",
       "    <tr>\n",
       "      <th>16</th>\n",
       "      <td>0.261419</td>\n",
       "      <td>0.927417</td>\n",
       "      <td>0.262131</td>\n",
       "      <td>0.929333</td>\n",
       "    </tr>\n",
       "    <tr>\n",
       "      <th>17</th>\n",
       "      <td>0.260057</td>\n",
       "      <td>0.927437</td>\n",
       "      <td>0.260903</td>\n",
       "      <td>0.930000</td>\n",
       "    </tr>\n",
       "    <tr>\n",
       "      <th>18</th>\n",
       "      <td>0.258686</td>\n",
       "      <td>0.928750</td>\n",
       "      <td>0.261573</td>\n",
       "      <td>0.929250</td>\n",
       "    </tr>\n",
       "    <tr>\n",
       "      <th>19</th>\n",
       "      <td>0.257833</td>\n",
       "      <td>0.929083</td>\n",
       "      <td>0.260107</td>\n",
       "      <td>0.929167</td>\n",
       "    </tr>\n",
       "  </tbody>\n",
       "</table>\n",
       "</div>"
      ],
      "text/plain": [
       "        loss  accuracy  val_loss  val_accuracy\n",
       "0   0.870254  0.792063  0.434558      0.890417\n",
       "1   0.403155  0.892771  0.338468      0.907583\n",
       "2   0.342771  0.906729  0.310161      0.913000\n",
       "3   0.318548  0.912292  0.294896      0.918083\n",
       "4   0.304239  0.916021  0.285893      0.921500\n",
       "5   0.295090  0.917354  0.280549      0.922417\n",
       "6   0.288353  0.919771  0.276691      0.923750\n",
       "7   0.283028  0.921167  0.274485      0.924500\n",
       "8   0.279169  0.922375  0.272274      0.924000\n",
       "9   0.275798  0.922813  0.269141      0.925750\n",
       "10  0.272604  0.924000  0.268000      0.926583\n",
       "11  0.270238  0.924708  0.266702      0.926500\n",
       "12  0.267975  0.925667  0.267767      0.927750\n",
       "13  0.266052  0.926167  0.265100      0.927000\n",
       "14  0.264382  0.926292  0.263367      0.929167\n",
       "15  0.262578  0.926708  0.262352      0.927750\n",
       "16  0.261419  0.927417  0.262131      0.929333\n",
       "17  0.260057  0.927437  0.260903      0.930000\n",
       "18  0.258686  0.928750  0.261573      0.929250\n",
       "19  0.257833  0.929083  0.260107      0.929167"
      ]
     },
     "execution_count": 29,
     "metadata": {},
     "output_type": "execute_result"
    }
   ],
   "source": [
    "import pandas as pd\n",
    "history_df=pd.DataFrame(history.history,columns=history.history.keys())\n",
    "history_df"
   ]
  },
  {
   "cell_type": "markdown",
   "id": "4dddcf6c",
   "metadata": {},
   "source": [
    "손실이 0.275쯤에서 더이상 개선되지 않는 것으로 보임.  \n",
    "이런 경우 모델의 용량을 늘려 성능을 개선할 수 있음"
   ]
  },
  {
   "cell_type": "code",
   "execution_count": 30,
   "id": "513c2f86",
   "metadata": {},
   "outputs": [
    {
     "data": {
      "text/plain": [
       "[<matplotlib.lines.Line2D at 0x1667b11a0a0>]"
      ]
     },
     "execution_count": 30,
     "metadata": {},
     "output_type": "execute_result"
    },
    {
     "data": {
      "image/png": "[encoded data removed]",
      "text/plain": [
       "<Figure size 432x288 with 1 Axes>"
      ]
     },
     "metadata": {
      "needs_background": "light"
     },
     "output_type": "display_data"
    }
   ],
   "source": [
    "import matplotlib.pyplot as plt\n",
    "plt.plot(history_df.index,history_df.val_loss,'--')"
   ]
  },
  {
   "cell_type": "markdown",
   "id": "a267164a",
   "metadata": {},
   "source": [
    "### 층을 2개 늘려 모델 재생성"
   ]
  },
  {
   "cell_type": "code",
   "execution_count": 32,
   "id": "4e784ea2",
   "metadata": {},
   "outputs": [
    {
     "name": "stdout",
     "output_type": "stream",
     "text": [
      "Epoch 1/20\n",
      "188/188 [==============================] - 2s 6ms/step - loss: 0.4483 - accuracy: 0.8760 - val_loss: 0.2644 - val_accuracy: 0.9221\n",
      "Epoch 2/20\n",
      "188/188 [==============================] - 1s 4ms/step - loss: 0.2059 - accuracy: 0.9400 - val_loss: 0.1826 - val_accuracy: 0.9454\n",
      "Epoch 3/20\n",
      "188/188 [==============================] - 1s 4ms/step - loss: 0.1498 - accuracy: 0.9550 - val_loss: 0.1486 - val_accuracy: 0.9546\n",
      "Epoch 4/20\n",
      "188/188 [==============================] - 1s 5ms/step - loss: 0.1166 - accuracy: 0.9658 - val_loss: 0.1482 - val_accuracy: 0.9547\n",
      "Epoch 5/20\n",
      "188/188 [==============================] - 1s 6ms/step - loss: 0.0941 - accuracy: 0.9716 - val_loss: 0.1161 - val_accuracy: 0.9670\n",
      "Epoch 6/20\n",
      "188/188 [==============================] - 1s 4ms/step - loss: 0.0780 - accuracy: 0.9767 - val_loss: 0.1237 - val_accuracy: 0.9617\n",
      "Epoch 7/20\n",
      "188/188 [==============================] - 1s 4ms/step - loss: 0.0657 - accuracy: 0.9797 - val_loss: 0.0953 - val_accuracy: 0.9730\n",
      "Epoch 8/20\n",
      "188/188 [==============================] - 1s 4ms/step - loss: 0.0562 - accuracy: 0.9825 - val_loss: 0.1052 - val_accuracy: 0.9688\n",
      "Epoch 9/20\n",
      "188/188 [==============================] - 1s 4ms/step - loss: 0.0471 - accuracy: 0.9859 - val_loss: 0.0985 - val_accuracy: 0.9717\n",
      "Epoch 10/20\n",
      "188/188 [==============================] - 1s 4ms/step - loss: 0.0410 - accuracy: 0.9875 - val_loss: 0.0945 - val_accuracy: 0.9736\n",
      "Epoch 11/20\n",
      "188/188 [==============================] - 1s 5ms/step - loss: 0.0346 - accuracy: 0.9898 - val_loss: 0.1000 - val_accuracy: 0.9712\n",
      "Epoch 12/20\n",
      "188/188 [==============================] - 1s 5ms/step - loss: 0.0300 - accuracy: 0.9906 - val_loss: 0.1212 - val_accuracy: 0.9664\n",
      "Epoch 13/20\n",
      "188/188 [==============================] - 1s 4ms/step - loss: 0.0260 - accuracy: 0.9922 - val_loss: 0.1105 - val_accuracy: 0.9703\n",
      "Epoch 14/20\n",
      "188/188 [==============================] - 1s 4ms/step - loss: 0.0222 - accuracy: 0.9934 - val_loss: 0.1230 - val_accuracy: 0.9687\n",
      "Epoch 15/20\n",
      "188/188 [==============================] - 1s 4ms/step - loss: 0.0181 - accuracy: 0.9951 - val_loss: 0.0979 - val_accuracy: 0.9763\n",
      "Epoch 16/20\n",
      "188/188 [==============================] - 1s 4ms/step - loss: 0.0162 - accuracy: 0.9953 - val_loss: 0.1045 - val_accuracy: 0.9747\n",
      "Epoch 17/20\n",
      "188/188 [==============================] - 1s 4ms/step - loss: 0.0143 - accuracy: 0.9959 - val_loss: 0.1134 - val_accuracy: 0.9737\n",
      "Epoch 18/20\n",
      "188/188 [==============================] - 1s 5ms/step - loss: 0.0119 - accuracy: 0.9968 - val_loss: 0.1142 - val_accuracy: 0.9749\n",
      "Epoch 19/20\n",
      "188/188 [==============================] - 1s 5ms/step - loss: 0.0110 - accuracy: 0.9968 - val_loss: 0.1114 - val_accuracy: 0.9752\n",
      "Epoch 20/20\n",
      "188/188 [==============================] - 1s 4ms/step - loss: 0.0089 - accuracy: 0.9974 - val_loss: 0.1242 - val_accuracy: 0.9737\n"
     ]
    }
   ],
   "source": [
    "model=keras.Sequential([\n",
    "    layers.Dense(96,activation='relu'),\n",
    "    layers.Dense(96,activation='relu'),\n",
    "    layers.Dense(10,activation='softmax')\n",
    "])\n",
    "model.compile(optimizer='rmsprop',\n",
    "             loss='sparse_categorical_crossentropy',\n",
    "             metrics='accuracy')\n",
    "history2=model.fit(train_dt,train_label,\n",
    "                  epochs=20,\n",
    "                  batch_size=256,\n",
    "                  validation_split=0.2)"
   ]
  },
  {
   "cell_type": "code",
   "execution_count": 33,
   "id": "2b04f766",
   "metadata": {},
   "outputs": [],
   "source": [
    "history_df2=pd.DataFrame(history2.history,columns=history2.history.keys())"
   ]
  },
  {
   "cell_type": "code",
   "execution_count": 34,
   "id": "e7a43171",
   "metadata": {},
   "outputs": [
    {
     "data": {
      "text/plain": [
       "[<matplotlib.lines.Line2D at 0x166651f4d60>]"
      ]
     },
     "execution_count": 34,
     "metadata": {},
     "output_type": "execute_result"
    },
    {
     "data": {
      "image/png": "[encoded data removed]",
      "text/plain": [
       "<Figure size 432x288 with 1 Axes>"
      ]
     },
     "metadata": {
      "needs_background": "light"
     },
     "output_type": "display_data"
    }
   ],
   "source": [
    "plt.plot(history_df2.index,history_df2.val_loss)"
   ]
  },
  {
   "cell_type": "markdown",
   "id": "a9e5bc48",
   "metadata": {},
   "source": [
    "5번째 에포크에서 이미 최저 손실을 달성함. 층을 늘려 이전보다 모델의 성능이 향상됨."
   ]
  }
 ],
 "metadata": {
  "kernelspec": {
   "display_name": "Python 3 (ipykernel)",
   "language": "python",
   "name": "python3"
  },
  "language_info": {
   "codemirror_mode": {
    "name": "ipython",
    "version": 3
   },
   "file_extension": ".py",
   "mimetype": "text/x-python",
   "name": "python",
   "nbconvert_exporter": "python",
   "pygments_lexer": "ipython3",
   "version": "3.9.12"
  }
 },
 "nbformat": 4,
 "nbformat_minor": 5
}
