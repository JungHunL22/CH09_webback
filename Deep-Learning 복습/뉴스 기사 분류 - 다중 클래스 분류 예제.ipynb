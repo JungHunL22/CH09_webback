{
 "cells": [
  {
   "cell_type": "markdown",
   "id": "f9d59a6d",
   "metadata": {},
   "source": [
    "# 뉴스 기사 분류 : 다중 분류 문제\n",
    "1986년 로이터에서 공개한 뉴스기사와 토픽의 집합인 로이터 데이터셋을 사용  \n",
    "타겟데이터셋이 46개의 클래스를 가짐."
   ]
  },
  {
   "cell_type": "code",
   "execution_count": 99,
   "id": "a9206608",
   "metadata": {},
   "outputs": [],
   "source": [
    "import pandas as pd\n",
    "import matplotlib.pyplot as plt"
   ]
  },
  {
   "cell_type": "code",
   "execution_count": 100,
   "id": "8e3c74a8",
   "metadata": {},
   "outputs": [],
   "source": [
    "from tensorflow.keras.datasets import reuters\n",
    "(train,train_label),(test,test_label)=reuters.load_data(num_words=10000)"
   ]
  },
  {
   "cell_type": "markdown",
   "id": "b05dc259",
   "metadata": {},
   "source": [
    "## 데이터셋 확인"
   ]
  },
  {
   "cell_type": "markdown",
   "id": "2af02b2c",
   "metadata": {},
   "source": [
    "### Train datasets"
   ]
  },
  {
   "cell_type": "code",
   "execution_count": 101,
   "id": "ec9407c1",
   "metadata": {},
   "outputs": [
    {
     "data": {
      "text/plain": [
       "array([list([1, 2, 2, 8, 43, 10, 447, 5, 25, 207, 270, 5, 3095, 111, 16, 369, 186, 90, 67, 7, 89, 5, 19, 102, 6, 19, 124, 15, 90, 67, 84, 22, 482, 26, 7, 48, 4, 49, 8, 864, 39, 209, 154, 6, 151, 6, 83, 11, 15, 22, 155, 11, 15, 7, 48, 9, 4579, 1005, 504, 6, 258, 6, 272, 11, 15, 22, 134, 44, 11, 15, 16, 8, 197, 1245, 90, 67, 52, 29, 209, 30, 32, 132, 6, 109, 15, 17, 12]),\n",
       "       list([1, 3267, 699, 3434, 2295, 56, 2, 7511, 9, 56, 3906, 1073, 81, 5, 1198, 57, 366, 737, 132, 20, 4093, 7, 2, 49, 2295, 2, 1037, 3267, 699, 3434, 8, 7, 10, 241, 16, 855, 129, 231, 783, 5, 4, 587, 2295, 2, 2, 775, 7, 48, 34, 191, 44, 35, 1795, 505, 17, 12]),\n",
       "       list([1, 53, 12, 284, 15, 14, 272, 26, 53, 959, 32, 818, 15, 14, 272, 26, 39, 684, 70, 11, 14, 12, 3886, 18, 180, 183, 187, 70, 11, 14, 102, 32, 11, 29, 53, 44, 704, 15, 14, 19, 758, 15, 53, 959, 47, 1013, 15, 14, 19, 132, 15, 39, 965, 32, 11, 14, 147, 72, 11, 180, 183, 187, 44, 11, 14, 102, 19, 11, 123, 186, 90, 67, 960, 4, 78, 13, 68, 467, 511, 110, 59, 89, 90, 67, 1390, 55, 2678, 92, 617, 80, 1274, 46, 905, 220, 13, 4, 346, 48, 235, 629, 5, 211, 5, 1118, 7, 2, 81, 5, 187, 11, 15, 9, 1709, 201, 5, 47, 3615, 18, 478, 4514, 5, 1118, 7, 232, 2, 71, 5, 160, 63, 11, 9, 2, 81, 5, 102, 59, 11, 17, 12]),\n",
       "       list([1, 4, 686, 867, 558, 4, 37, 38, 309, 2276, 465, 893, 3541, 114, 2902, 69, 312, 35, 15, 7, 335, 1679, 21, 25, 3675, 2, 3498, 58, 69, 68, 493, 5, 25, 465, 377, 2430, 4, 293, 1172, 739, 4379, 8, 7, 1510, 1131, 13, 899, 6, 4, 990, 309, 415, 4519, 6920, 645, 3916, 791, 5, 4379, 75, 8, 24, 10, 1311, 4677, 5, 344, 756, 7, 2, 231, 9691, 2603, 1413, 43, 509, 43, 68, 327, 5, 2, 3498, 297, 638, 73, 430, 22, 4, 580, 7, 48, 41, 30, 2, 136, 4, 344, 298, 4, 580, 40, 344, 5078, 2, 291, 1488, 10, 3148, 5, 231, 6250, 1308, 5, 8250, 7043, 21, 2, 1622, 990, 309, 415, 265, 5992, 8945, 1149, 9118, 2, 4, 344, 9691, 756, 3729, 2, 4667, 2, 3249, 28, 10, 2190, 24, 77, 41, 682, 10, 4851, 2048, 7, 4, 5540, 2926, 1598, 22, 370, 5954, 7541, 5, 54, 5232, 1685, 2916, 10, 1571, 946, 60, 51, 3249, 5249, 4, 73, 2135, 669, 4, 580, 64, 10, 4280, 6, 2, 25, 482, 35, 150, 377, 2430, 7, 10, 2, 836, 2, 4730, 6920, 5, 4379, 2, 2, 3541, 8, 4, 344, 291, 2, 298, 4228, 6, 2223, 24, 2, 41, 343, 430, 210, 6, 3498, 297, 64, 10, 2281, 455, 5, 7003, 125, 222, 17, 12]),\n",
       "       list([1, 8295, 111, 8, 25, 166, 40, 638, 10, 436, 22, 265, 9, 621, 575, 1080, 4742, 1149, 2, 6, 438, 8295, 13, 102, 388, 15, 90, 67, 7, 197, 8295, 8, 4, 270, 416, 23, 527, 6, 2, 4891, 4, 1055, 742, 16, 8, 36, 1480, 6, 2124, 100, 543, 5, 645, 362, 6, 2912, 4, 49, 8, 2, 976, 124, 20, 5, 8295, 80, 9, 100, 362, 543, 395, 61, 44, 20, 8295, 8, 16, 40, 1276, 42, 1436, 166, 415, 6, 888, 4, 116, 9, 40, 3089, 4, 303, 163, 16, 64, 772, 13, 94, 156, 17, 12]),\n",
       "       list([1, 4, 37, 38, 309, 213, 349, 1632, 48, 193, 229, 463, 28, 156, 635, 11, 82, 14, 156, 635, 11, 82, 54, 139, 16, 349, 105, 462, 311, 28, 296, 147, 11, 82, 14, 296, 147, 11, 54, 139, 342, 48, 193, 3234, 361, 122, 23, 1332, 28, 318, 942, 11, 82, 14, 318, 942, 11, 82, 54, 139, 122, 7, 105, 462, 23, 349, 28, 296, 767, 11, 82, 14, 296, 767, 11, 54, 139, 342, 229, 162, 7, 48, 193, 55, 408, 28, 258, 557, 11, 82, 14, 196, 557, 11, 82, 54, 139, 162, 7, 105, 462, 55, 349, 28, 191, 968, 11, 82, 14, 191, 785, 11, 54, 139, 17, 12]),\n",
       "       list([1, 56, 5539, 925, 149, 8, 16, 23, 931, 3875, 25, 116, 5, 165, 15, 10, 67, 13, 12, 12, 11, 5311, 400, 81, 79, 457, 145, 22, 331, 28, 3026, 331, 61, 3609, 2097, 5311, 79, 64, 85, 1863, 84, 22, 44, 6206, 2275, 79, 296, 1384, 157, 5539, 8, 16, 23, 3875, 4, 116, 6, 837, 5311, 6, 3834, 31, 248, 1032, 8757, 4, 1618, 5, 37, 38, 1639, 27, 358, 37, 38, 4716, 9, 6, 9474, 4, 316, 9, 662, 5, 4, 765, 5, 291, 58, 60, 2660, 1067, 136, 4, 384, 292, 270, 120, 17, 12]),\n",
       "       list([1, 53, 648, 26, 14, 749, 26, 39, 6207, 5466, 14, 4922, 4001, 86, 147, 72, 11, 14, 321, 61, 11, 29, 53, 19, 965, 150, 14, 19, 492, 150, 39, 12, 3200, 3859, 14, 32, 3327, 5756, 86, 251, 59, 11, 14, 193, 47, 11, 123, 48, 1642, 346, 9, 29, 39, 235, 338, 46, 5, 2, 323, 5, 187, 5532, 15, 9, 4315, 6675, 15, 58, 191, 26, 90, 67, 773, 105, 1642, 346, 9, 29, 39, 235, 46, 7, 2, 304, 5, 1929, 4016, 15, 9, 4527, 5086, 15, 58, 158, 26, 90, 67, 773, 17, 12]),\n",
       "       list([1, 178, 53, 321, 26, 14, 948, 26, 178, 39, 44, 2860, 3820, 14, 191, 59, 11, 86, 539, 63, 11, 14, 892, 61, 11, 123, 197, 1245, 258, 44, 11, 15, 58, 462, 26, 53, 14, 597, 61, 11, 15, 58, 19, 942, 15, 53, 105, 39, 633, 472, 927, 53, 46, 22, 710, 220, 851, 2861, 9, 4297, 282, 5, 317, 65, 9, 659, 249, 2, 196, 47, 11, 428, 410, 61, 59, 20, 22, 10, 29, 254, 17, 12]),\n",
       "       list([1, 56, 7224, 81, 40, 1175, 174, 2, 6, 1793, 10, 266, 3315, 5, 1574, 799, 317, 65, 136, 277, 801, 7, 429, 65, 182, 199, 8, 174, 201, 2540, 10, 1806, 5, 401, 20, 1574, 799, 6, 119, 20, 1574, 1075, 136, 10, 277, 498, 120, 31, 7224, 13, 251, 18, 428, 90, 289, 4, 199, 8, 4, 5880, 1806, 23, 124, 20, 799, 317, 6, 482, 20, 1075, 174, 287, 13, 799, 317, 65, 40, 333, 1398, 224, 4, 137, 130, 2, 356, 8181, 2, 172, 4, 1150, 3727, 403, 54, 139, 3045, 692, 31, 6473, 5, 799, 1306, 9, 2, 2735, 17, 12])],\n",
       "      dtype=object)"
      ]
     },
     "execution_count": 101,
     "metadata": {},
     "output_type": "execute_result"
    }
   ],
   "source": [
    "train[:10]"
   ]
  },
  {
   "cell_type": "code",
   "execution_count": 102,
   "id": "3ea91ee4",
   "metadata": {},
   "outputs": [
    {
     "data": {
      "text/plain": [
       "array([ 3,  4,  3,  4,  4,  4,  4,  3,  3, 16], dtype=int64)"
      ]
     },
     "execution_count": 102,
     "metadata": {},
     "output_type": "execute_result"
    }
   ],
   "source": [
    "train_label[:10]"
   ]
  },
  {
   "cell_type": "code",
   "execution_count": 103,
   "id": "fcd33249",
   "metadata": {},
   "outputs": [
    {
     "data": {
      "text/plain": [
       "46"
      ]
     },
     "execution_count": 103,
     "metadata": {},
     "output_type": "execute_result"
    }
   ],
   "source": [
    "# 클래스 수 확인\n",
    "len(set(train_label))"
   ]
  },
  {
   "cell_type": "code",
   "execution_count": 104,
   "id": "23b68cfc",
   "metadata": {},
   "outputs": [
    {
     "data": {
      "text/plain": [
       "8982"
      ]
     },
     "execution_count": 104,
     "metadata": {},
     "output_type": "execute_result"
    }
   ],
   "source": [
    "# Train데이터 확인\n",
    "len(train)"
   ]
  },
  {
   "cell_type": "markdown",
   "id": "e735139a",
   "metadata": {},
   "source": [
    "### Test datasets"
   ]
  },
  {
   "cell_type": "code",
   "execution_count": 105,
   "id": "2a23598e",
   "metadata": {},
   "outputs": [
    {
     "data": {
      "text/plain": [
       "array([list([1, 4, 1378, 2025, 9, 697, 4622, 111, 8, 25, 109, 29, 3650, 11, 150, 244, 364, 33, 30, 30, 1398, 333, 6, 2, 159, 9, 1084, 363, 13, 2, 71, 9, 2, 71, 117, 4, 225, 78, 206, 10, 9, 1214, 8, 4, 270, 5, 2, 7, 748, 48, 9, 2, 7, 207, 1451, 966, 1864, 793, 97, 133, 336, 7, 4, 493, 98, 273, 104, 284, 25, 39, 338, 22, 905, 220, 3465, 644, 59, 20, 6, 119, 61, 11, 15, 58, 579, 26, 10, 67, 7, 4, 738, 98, 43, 88, 333, 722, 12, 20, 6, 19, 746, 35, 15, 10, 9, 1214, 855, 129, 783, 21, 4, 2280, 244, 364, 51, 16, 299, 452, 16, 515, 4, 99, 29, 5, 4, 364, 281, 48, 10, 9, 1214, 23, 644, 47, 20, 324, 27, 56, 2, 2, 5, 192, 510, 17, 12]),\n",
       "       list([1, 2768, 283, 122, 7, 4, 89, 544, 463, 29, 798, 748, 40, 85, 306, 28, 19, 59, 11, 82, 84, 22, 10, 1315, 19, 12, 11, 82, 52, 29, 283, 1135, 558, 2, 265, 2, 6607, 8, 6607, 118, 371, 10, 1503, 281, 4, 143, 4811, 760, 50, 2088, 225, 139, 683, 4, 48, 193, 862, 41, 967, 1999, 30, 1086, 36, 8, 28, 602, 19, 32, 11, 82, 5, 4, 89, 544, 463, 41, 30, 6273, 13, 260, 951, 6607, 8, 69, 1749, 18, 82, 41, 30, 306, 3342, 13, 4, 37, 38, 283, 555, 649, 18, 82, 13, 1721, 282, 9, 132, 18, 82, 41, 30, 385, 21, 4, 169, 76, 36, 8, 107, 4, 106, 524, 10, 295, 3825, 2, 2476, 6, 3684, 6940, 4, 1126, 41, 263, 84, 395, 649, 18, 82, 838, 1317, 4, 572, 4, 106, 13, 25, 595, 2445, 40, 85, 7369, 518, 5, 4, 1126, 51, 115, 680, 16, 6, 719, 250, 27, 429, 6607, 8, 6940, 114, 343, 84, 142, 20, 5, 1145, 1538, 4, 65, 494, 474, 27, 69, 445, 11, 1816, 6607, 8, 109, 181, 2768, 2, 62, 1810, 6, 624, 901, 6940, 107, 4, 1126, 34, 524, 4, 6940, 1126, 41, 447, 7, 1427, 13, 69, 251, 18, 872, 876, 1539, 468, 9063, 242, 5, 646, 27, 1888, 169, 283, 87, 9, 10, 2, 260, 182, 122, 678, 306, 13, 4, 99, 216, 7, 89, 544, 64, 85, 2333, 6, 195, 7254, 6337, 268, 609, 4, 195, 41, 1017, 2765, 2, 4, 73, 706, 2, 92, 4, 91, 3917, 36, 8, 51, 144, 23, 1858, 129, 564, 13, 269, 678, 115, 55, 866, 189, 814, 604, 838, 117, 380, 595, 951, 320, 4, 398, 57, 2233, 7411, 269, 274, 87, 6607, 8, 787, 283, 34, 596, 661, 5467, 13, 2362, 1816, 90, 2, 84, 22, 2202, 1816, 54, 748, 6607, 8, 87, 62, 6154, 84, 161, 5, 1208, 480, 4, 2, 416, 6, 538, 122, 115, 55, 129, 1104, 1445, 345, 389, 31, 4, 169, 76, 36, 8, 787, 398, 7, 4, 2, 1507, 64, 8862, 22, 125, 2, 9, 2876, 172, 399, 9, 2, 5206, 9, 2, 122, 36, 8, 6642, 172, 247, 100, 97, 6940, 34, 75, 477, 541, 4, 283, 182, 4, 2, 295, 301, 2, 125, 2, 6607, 8, 77, 57, 445, 283, 1998, 217, 31, 380, 704, 51, 77, 2, 509, 5, 476, 9, 2876, 122, 115, 853, 6, 1061, 52, 10, 2, 2, 1308, 5, 4, 283, 182, 36, 8, 5296, 114, 30, 531, 6, 6376, 9, 2470, 529, 13, 2, 2, 58, 529, 7, 2148, 2, 185, 1028, 240, 5296, 1028, 949, 657, 57, 6, 1046, 283, 36, 8, 6607, 8, 4, 2217, 34, 9177, 13, 10, 4910, 5, 4, 141, 283, 120, 50, 2877, 7, 1049, 43, 10, 181, 283, 734, 115, 55, 3356, 476, 6, 2195, 10, 73, 120, 50, 41, 6877, 169, 87, 6607, 8, 107, 144, 23, 129, 120, 169, 87, 33, 2409, 30, 1888, 1171, 161, 4, 294, 517, 23, 2, 25, 398, 9, 2060, 283, 21, 4, 236, 36, 8, 143, 169, 87, 641, 1569, 28, 69, 61, 376, 514, 90, 1249, 62, 2, 13, 4, 2217, 696, 122, 404, 2936, 22, 134, 6, 187, 514, 10, 1249, 107, 4, 96, 1043, 1569, 13, 10, 184, 28, 61, 376, 514, 268, 680, 4, 320, 6, 154, 6, 69, 160, 514, 10, 1249, 27, 4, 153, 5, 52, 29, 36, 8, 6607, 8, 612, 408, 10, 3133, 283, 76, 27, 1504, 31, 169, 951, 2, 122, 36, 8, 283, 236, 62, 641, 84, 618, 2, 22, 8417, 8409, 9, 274, 7322, 399, 7587, 51, 115, 55, 45, 4044, 31, 4, 490, 558, 36, 8, 224, 2, 115, 57, 85, 1655, 2671, 5, 283, 6, 4, 37, 38, 7, 1797, 185, 77, 4446, 4, 555, 298, 77, 240, 2, 7, 327, 652, 194, 8773, 6233, 34, 2, 5463, 4884, 1297, 6, 240, 260, 458, 87, 6, 134, 514, 10, 1249, 22, 196, 514, 4, 37, 38, 309, 213, 54, 207, 8577, 25, 134, 139, 89, 283, 494, 555, 22, 4, 2217, 6, 2172, 4278, 434, 835, 22, 3598, 3746, 434, 835, 7, 48, 6607, 8, 618, 225, 586, 333, 122, 572, 126, 2768, 1998, 62, 133, 6, 2458, 233, 28, 602, 188, 5, 4, 704, 1998, 62, 45, 885, 281, 4, 48, 193, 760, 36, 8, 115, 680, 78, 58, 109, 95, 6, 1732, 1516, 281, 4, 225, 760, 17, 12]),\n",
       "       list([1, 4, 309, 2276, 4759, 5, 2015, 403, 1920, 33, 1575, 1627, 1173, 87, 13, 536, 78, 6490, 399, 7, 2068, 212, 10, 634, 179, 8, 137, 5602, 7, 2775, 33, 30, 1015, 43, 33, 5602, 50, 489, 4, 403, 6, 96, 399, 7, 1953, 3587, 8427, 6603, 4132, 3669, 8180, 7163, 9, 2015, 8, 2, 2, 1683, 791, 5, 740, 220, 707, 13, 4, 634, 634, 54, 1405, 6331, 4, 361, 182, 24, 511, 972, 137, 403, 1920, 529, 6, 96, 3711, 399, 41, 30, 2776, 21, 10, 8491, 2002, 503, 5, 188, 6, 353, 26, 2474, 21, 432, 4, 4234, 23, 3288, 435, 34, 737, 6, 246, 7528, 274, 1173, 1627, 87, 13, 399, 992, 27, 274, 403, 87, 2631, 85, 480, 52, 2015, 403, 820, 13, 10, 139, 9, 115, 949, 609, 890, 819, 6, 812, 593, 7, 576, 7, 194, 2329, 216, 2, 8, 2, 8, 634, 33, 768, 2085, 593, 4, 403, 1920, 185, 9, 107, 403, 87, 2, 107, 1635, 410, 4, 682, 189, 161, 1635, 762, 274, 5319, 115, 30, 43, 389, 410, 4, 682, 107, 1635, 762, 456, 36, 8, 184, 4057, 95, 1854, 107, 403, 87, 302, 2, 8, 129, 100, 756, 7, 3288, 96, 298, 55, 370, 731, 866, 189, 115, 949, 9695, 115, 949, 343, 756, 2, 9, 115, 949, 343, 756, 2509, 36, 8, 17, 12]),\n",
       "       list([1, 2, 2, 65, 9, 249, 1096, 8, 16, 515, 4, 211, 5, 881, 7, 78, 181, 65, 9, 249, 1441, 6, 56, 387, 280, 141, 81, 13, 360, 11, 15, 4, 49, 8, 16, 385, 69, 68, 327, 5, 25, 132, 20, 128, 7, 4, 6452, 3254, 9, 681, 2, 1441, 25, 78, 473, 814, 1110, 16, 8, 16, 529, 69, 119, 11, 15, 5, 4, 1154, 6, 2, 1679, 21, 25, 645, 4005, 975, 2170, 303, 1679, 464, 21, 4, 1004, 279, 11, 15, 5, 975, 57, 85, 2589, 457, 207, 448, 43, 10, 447, 16, 8, 4, 49, 8, 4, 123, 755, 62, 4198, 6, 960, 42, 2559, 5, 126, 231, 8326, 9, 42, 148, 5, 128, 6, 165, 44, 20, 22, 165, 70, 20, 457, 207, 1504, 16, 8, 4, 2, 2049, 96, 13, 19, 1340, 18, 1379, 34, 75, 717, 6, 132, 26, 22, 19, 132, 15, 4, 49, 8, 387, 280, 200, 6, 67, 4, 404, 5, 879, 122, 28, 4, 6452, 3254, 979, 17, 12]),\n",
       "       list([1, 470, 354, 2, 4231, 62, 2373, 509, 1687, 5138, 7, 4, 4893, 410, 4, 8178, 9, 2185, 9371, 7, 68, 5, 4, 2414, 9676, 1025, 7, 4, 4051, 13, 509, 206, 4, 8178, 166, 5, 4821, 8, 7, 5271, 9, 2774, 84, 6, 132, 1687, 62, 257, 6, 30, 8908, 7, 4, 4893, 9, 657, 4, 473, 5, 4, 2, 2, 62, 1465, 2125, 7, 4897, 250, 6, 4, 2, 1094, 2, 173, 8, 290, 9676, 662, 7, 4, 1033, 4051, 28, 4, 460, 65, 1843, 5, 2, 9, 2, 64, 2243, 77, 8, 859, 173, 7, 7212, 2774, 8, 4, 9676, 662, 7, 4, 4051, 62, 4, 2414, 13, 124, 206, 31, 1094, 4898, 10, 3274, 2598, 6, 933, 1564, 7, 4, 2308, 9334, 5, 4, 403, 5, 2, 50, 2, 5271, 9, 2774, 4, 4893, 23, 84, 6, 68, 2, 9764, 31, 2, 9, 2, 8030, 16, 172, 967, 2, 9652, 109, 4165, 274, 2185, 2, 173, 8, 859, 1190, 452, 4231, 91, 1671, 281, 4, 1438, 51, 10, 226, 499, 7, 9064, 114, 1099, 871, 6, 10, 4748, 4, 173, 8, 17, 12]),\n",
       "       list([1, 53, 134, 26, 14, 102, 26, 39, 5150, 18, 14, 2013, 18, 86, 44, 4121, 18, 14, 44, 4577, 18, 180, 183, 32, 4335, 18, 14, 32, 6118, 18, 29, 53, 1045, 26, 14, 19, 821, 15, 39, 32, 1842, 18, 14, 32, 5821, 18, 86, 284, 32, 11, 14, 284, 12, 11, 180, 183, 32, 3762, 18, 14, 32, 4846, 18, 123, 48, 98, 39, 235, 785, 18, 150, 728, 22, 2, 5, 205, 131, 291, 17, 12]),\n",
       "       list([1, 7236, 1650, 71, 8, 16, 369, 99, 98, 186, 6, 30, 119, 6, 147, 20, 420, 4, 29, 301, 165, 59, 11, 15, 958, 208, 6, 742, 404, 1593, 22, 4, 110, 89, 270, 5, 2, 81, 4, 49, 8, 16, 40, 1059, 13, 42, 770, 5, 188, 11, 175, 79, 9, 649, 11, 15, 5, 1612, 1265, 208, 2, 31, 1154, 6, 30, 529, 6, 7356, 4, 434, 277, 60, 222, 3340, 13, 4, 2, 270, 6, 313, 100, 404, 5, 4, 587, 9, 13, 293, 1120, 1619, 7236, 8, 12, 315, 18, 79, 33, 30, 385, 7, 4, 37, 38, 9, 4, 2801, 1073, 7236, 600, 69, 3533, 11, 15, 13, 2, 10, 1770, 5, 806, 267, 9097, 9, 538, 647, 529, 7, 5952, 9, 910, 1998, 4, 49, 8, 16, 369, 6, 1491, 99, 98, 336, 7, 4, 393, 121, 7, 93, 7236, 8, 16, 369, 226, 753, 5, 2292, 971, 1171, 2, 2, 52, 29, 250, 1589, 1990, 2, 9, 4, 3869, 5, 1367, 7236, 8, 4, 753, 28, 2, 2, 23, 133, 6, 1398, 501, 51, 45, 3716, 52, 29, 508, 7, 4, 1650, 9, 1167, 3517, 51, 16, 8, 1071, 28, 2, 2, 23, 133, 6, 30, 1737, 1164, 27, 10, 536, 5, 1037, 348, 10, 3475, 246, 320, 5, 186, 7, 4, 800, 6418, 3517, 97, 7, 48, 742, 404, 5, 4, 2, 270, 404, 1709, 31, 2, 2, 886, 9, 220, 9, 3774, 7, 2050, 6, 387, 1640, 17, 12]),\n",
       "       list([1, 53, 321, 26, 14, 284, 26, 39, 63, 5201, 18, 14, 72, 3538, 18, 86, 4849, 11, 14, 3635, 72, 11, 180, 183, 749, 47, 11, 14, 492, 11, 29, 53, 19, 1045, 15, 14, 19, 942, 15, 39, 482, 44, 11, 14, 132, 44, 11, 86, 19, 12, 35, 14, 6163, 44, 11, 180, 183, 539, 11, 14, 156, 12, 11, 123, 21, 1555, 68, 48, 49, 471, 9239, 2, 9, 2, 9, 1972, 894, 9126, 9, 4, 2, 882, 9, 125, 127, 1478, 27, 348, 405, 201, 13, 4, 1559, 139, 5, 207, 48, 1642, 346, 186, 62, 560, 27, 312, 26, 90, 53, 9, 13, 4, 29, 27, 353, 26, 90, 53, 17, 12]),\n",
       "       list([1, 178, 53, 74, 19, 865, 15, 14, 46, 353, 26, 178, 39, 74, 134, 70, 11, 14, 46, 4596, 18, 86, 318, 47, 11, 14, 47, 4315, 18, 29, 178, 53, 74, 19, 597, 15, 14, 46, 688, 26, 178, 39, 74, 72, 5242, 18, 14, 46, 32, 4215, 18, 86, 352, 70, 11, 14, 165, 63, 11, 180, 183, 61, 2979, 18, 14, 59, 4999, 18, 123, 105, 39, 235, 131, 891, 5, 4088, 18, 15, 7, 98, 9, 32, 4215, 18, 15, 7, 29, 105, 39, 286, 1025, 633, 2543, 18, 150, 46, 22, 710, 220, 48, 39, 286, 1025, 235, 864, 276, 360, 63, 11, 15, 22, 211, 5, 1004, 128, 7, 2, 5769, 651, 574, 400, 17, 12]),\n",
       "       list([1, 790, 752, 73, 418, 81, 8, 16, 40, 1954, 25, 1737, 3816, 11, 15, 5, 1430, 9, 295, 277, 430, 6, 569, 21, 358, 4288, 1969, 9, 24, 99, 98, 39, 338, 33, 30, 717, 27, 69, 312, 11, 15, 43, 10, 447, 569, 1669, 128, 464, 21, 25, 844, 35, 15, 5, 1430, 9, 295, 277, 222, 21, 104, 272, 37, 38, 495, 2135, 391, 45, 1521, 171, 6, 1366, 8052, 128, 21, 430, 457, 464, 55, 512, 407, 8760, 51, 790, 752, 8, 16, 4832, 189, 161, 5, 4, 274, 917, 5, 10, 670, 2365, 24, 41, 447, 7, 3039, 4, 512, 289, 1003, 7, 4, 390, 98, 5, 89, 4080, 129, 197, 464, 28, 143, 128, 140, 55, 638, 13, 4, 1353, 5, 89, 790, 752, 349, 24, 382, 29, 39, 338, 41, 30, 717, 27, 69, 124, 11, 15, 790, 752, 8, 16, 6923, 24, 222, 676, 164, 569, 9, 25, 577, 60, 2914, 33, 616, 6, 4, 7973, 5, 128, 464, 4, 676, 2369, 7, 73, 418, 21, 712, 185, 204, 60, 1461, 4171, 4471, 23, 133, 6, 2124, 171, 13, 10, 512, 289, 2, 5, 126, 72, 44, 35, 15, 5, 277, 222, 24, 2, 21, 93, 102, 17, 12])],\n",
       "      dtype=object)"
      ]
     },
     "execution_count": 105,
     "metadata": {},
     "output_type": "execute_result"
    }
   ],
   "source": [
    "test[:10]"
   ]
  },
  {
   "cell_type": "code",
   "execution_count": 106,
   "id": "6ca11d88",
   "metadata": {},
   "outputs": [
    {
     "data": {
      "text/plain": [
       "array([ 3, 10,  1,  4,  4,  3,  3,  3,  3,  3], dtype=int64)"
      ]
     },
     "execution_count": 106,
     "metadata": {},
     "output_type": "execute_result"
    }
   ],
   "source": [
    "test_label[:10]"
   ]
  },
  {
   "cell_type": "code",
   "execution_count": 107,
   "id": "e629ffcc",
   "metadata": {},
   "outputs": [
    {
     "data": {
      "text/plain": [
       "46"
      ]
     },
     "execution_count": 107,
     "metadata": {},
     "output_type": "execute_result"
    }
   ],
   "source": [
    "# 클래스 수 확인\n",
    "len(set(test_label))"
   ]
  },
  {
   "cell_type": "code",
   "execution_count": 108,
   "id": "48a52dc8",
   "metadata": {},
   "outputs": [
    {
     "data": {
      "text/plain": [
       "2246"
      ]
     },
     "execution_count": 108,
     "metadata": {},
     "output_type": "execute_result"
    }
   ],
   "source": [
    "# Test데이터 확인\n",
    "len(test)"
   ]
  },
  {
   "cell_type": "markdown",
   "id": "52c43031",
   "metadata": {},
   "source": [
    "### 뉴스데이터 출력 예시"
   ]
  },
  {
   "cell_type": "code",
   "execution_count": 109,
   "id": "ea1ca3df",
   "metadata": {},
   "outputs": [],
   "source": [
    "word_index=reuters.get_word_index()\n",
    "decode=dict([(value,key) for (key,value) in word_index.items()])\n",
    "decode_news=' '.join([decode.get(i-3,' ') for i in train[0]]) "
   ]
  },
  {
   "cell_type": "code",
   "execution_count": 110,
   "id": "5b1fd50d",
   "metadata": {},
   "outputs": [
    {
     "data": {
      "text/plain": [
       "'      said as a result of its december acquisition of space co it expects earnings per share in 1987 of 1 15 to 1 30 dlrs per share up from 70 cts in 1986 the company said pretax net should rise to nine to 10 mln dlrs from six mln dlrs in 1986 and rental operation revenues to 19 to 22 mln dlrs from 12 5 mln dlrs it said cash flow per share this year should be 2 50 to three dlrs reuter 3'"
      ]
     },
     "execution_count": 110,
     "metadata": {},
     "output_type": "execute_result"
    }
   ],
   "source": [
    "decode_news"
   ]
  },
  {
   "cell_type": "markdown",
   "id": "0bbaf6cd",
   "metadata": {},
   "source": [
    "#### 정수 시퀀스를 멀티-핫 인코딩"
   ]
  },
  {
   "cell_type": "code",
   "execution_count": 111,
   "id": "f6af55b3",
   "metadata": {},
   "outputs": [],
   "source": [
    "import numpy as np"
   ]
  },
  {
   "cell_type": "code",
   "execution_count": 112,
   "id": "53fc3f69",
   "metadata": {},
   "outputs": [],
   "source": [
    "def vectorize_sequences(sequences,dimension=10000):\n",
    "    res=np.zeros((len(sequences),dimension))\n",
    "    for i,seq in enumerate(sequences):\n",
    "        for j in seq:\n",
    "            res[i,j]=1.\n",
    "    return res"
   ]
  },
  {
   "cell_type": "code",
   "execution_count": 113,
   "id": "ec4e4755",
   "metadata": {},
   "outputs": [],
   "source": [
    "X_tr=vectorize_sequences(train)\n",
    "X_te=vectorize_sequences(test)"
   ]
  },
  {
   "cell_type": "code",
   "execution_count": 114,
   "id": "24eff099",
   "metadata": {},
   "outputs": [
    {
     "data": {
      "text/plain": [
       "array([[0., 1., 1., ..., 0., 0., 0.],\n",
       "       [0., 1., 1., ..., 0., 0., 0.],\n",
       "       [0., 1., 1., ..., 0., 0., 0.],\n",
       "       ...,\n",
       "       [0., 1., 1., ..., 0., 0., 0.],\n",
       "       [0., 1., 1., ..., 0., 0., 0.],\n",
       "       [0., 1., 1., ..., 0., 0., 0.]])"
      ]
     },
     "execution_count": 114,
     "metadata": {},
     "output_type": "execute_result"
    }
   ],
   "source": [
    "X_tr"
   ]
  },
  {
   "cell_type": "markdown",
   "id": "24e372da",
   "metadata": {},
   "source": [
    "#### 레이블을 벡터로 변환"
   ]
  },
  {
   "cell_type": "code",
   "execution_count": 115,
   "id": "e677a97a",
   "metadata": {},
   "outputs": [],
   "source": [
    "from keras.utils.np_utils import to_categorical"
   ]
  },
  {
   "cell_type": "code",
   "execution_count": 116,
   "id": "6edf5202",
   "metadata": {},
   "outputs": [],
   "source": [
    "y_tr=to_categorical(train_label)\n",
    "y_te=to_categorical(test_label)"
   ]
  },
  {
   "cell_type": "markdown",
   "id": "0623338e",
   "metadata": {},
   "source": [
    "## 모델 구성"
   ]
  },
  {
   "cell_type": "code",
   "execution_count": 117,
   "id": "db814c55",
   "metadata": {},
   "outputs": [],
   "source": [
    "from tensorflow import keras\n",
    "from tensorflow.keras import layers"
   ]
  },
  {
   "cell_type": "code",
   "execution_count": 118,
   "id": "9a09539f",
   "metadata": {},
   "outputs": [],
   "source": [
    "model=keras.Sequential([\n",
    "    layers.Dense(64,activation='relu'),\n",
    "    layers.Dense(64,activation='relu'),\n",
    "    layers.Dense(46,activation='softmax')\n",
    "])"
   ]
  },
  {
   "cell_type": "code",
   "execution_count": 119,
   "id": "453ca75a",
   "metadata": {},
   "outputs": [],
   "source": [
    "model.compile(optimizer='rmsprop',\n",
    "             loss='categorical_crossentropy',\n",
    "             metrics=['accuracy'])"
   ]
  },
  {
   "cell_type": "code",
   "execution_count": 120,
   "id": "f8faa611",
   "metadata": {},
   "outputs": [],
   "source": [
    "X_val=X_tr[:1000]\n",
    "X_tr2=X_tr[1000:]\n",
    "y_val=y_tr[:1000]\n",
    "y_tr2=y_tr[1000:]"
   ]
  },
  {
   "cell_type": "markdown",
   "id": "41aeccf4",
   "metadata": {},
   "source": [
    "## 학습"
   ]
  },
  {
   "cell_type": "code",
   "execution_count": 121,
   "id": "86904d06",
   "metadata": {},
   "outputs": [
    {
     "name": "stdout",
     "output_type": "stream",
     "text": [
      "Epoch 1/20\n",
      "16/16 [==============================] - 3s 75ms/step - loss: 2.5492 - accuracy: 0.5335 - val_loss: 1.6887 - val_accuracy: 0.6460\n",
      "Epoch 2/20\n",
      "16/16 [==============================] - 1s 44ms/step - loss: 1.3892 - accuracy: 0.7142 - val_loss: 1.2798 - val_accuracy: 0.7220\n",
      "Epoch 3/20\n",
      "16/16 [==============================] - 1s 56ms/step - loss: 1.0311 - accuracy: 0.7835 - val_loss: 1.1028 - val_accuracy: 0.7670\n",
      "Epoch 4/20\n",
      "16/16 [==============================] - 1s 45ms/step - loss: 0.8068 - accuracy: 0.8331 - val_loss: 1.0086 - val_accuracy: 0.7890\n",
      "Epoch 5/20\n",
      "16/16 [==============================] - 1s 46ms/step - loss: 0.6408 - accuracy: 0.8653 - val_loss: 0.9475 - val_accuracy: 0.7940\n",
      "Epoch 6/20\n",
      "16/16 [==============================] - 1s 48ms/step - loss: 0.5146 - accuracy: 0.8914 - val_loss: 0.9224 - val_accuracy: 0.8100\n",
      "Epoch 7/20\n",
      "16/16 [==============================] - 1s 44ms/step - loss: 0.4147 - accuracy: 0.9132 - val_loss: 0.8796 - val_accuracy: 0.8190\n",
      "Epoch 8/20\n",
      "16/16 [==============================] - 1s 43ms/step - loss: 0.3368 - accuracy: 0.9300 - val_loss: 0.8916 - val_accuracy: 0.8120\n",
      "Epoch 9/20\n",
      "16/16 [==============================] - 1s 42ms/step - loss: 0.2801 - accuracy: 0.9407 - val_loss: 0.8756 - val_accuracy: 0.8200\n",
      "Epoch 10/20\n",
      "16/16 [==============================] - 1s 41ms/step - loss: 0.2362 - accuracy: 0.9446 - val_loss: 0.9097 - val_accuracy: 0.8160\n",
      "Epoch 11/20\n",
      "16/16 [==============================] - 1s 42ms/step - loss: 0.2067 - accuracy: 0.9490 - val_loss: 0.9192 - val_accuracy: 0.8150\n",
      "Epoch 12/20\n",
      "16/16 [==============================] - 1s 44ms/step - loss: 0.1768 - accuracy: 0.9519 - val_loss: 0.9369 - val_accuracy: 0.8120\n",
      "Epoch 13/20\n",
      "16/16 [==============================] - 1s 46ms/step - loss: 0.1681 - accuracy: 0.9520 - val_loss: 0.9353 - val_accuracy: 0.8140\n",
      "Epoch 14/20\n",
      "16/16 [==============================] - 1s 47ms/step - loss: 0.1472 - accuracy: 0.9530 - val_loss: 0.9475 - val_accuracy: 0.8170\n",
      "Epoch 15/20\n",
      "16/16 [==============================] - 1s 46ms/step - loss: 0.1382 - accuracy: 0.9573 - val_loss: 0.9765 - val_accuracy: 0.8200\n",
      "Epoch 16/20\n",
      "16/16 [==============================] - 1s 45ms/step - loss: 0.1326 - accuracy: 0.9575 - val_loss: 1.0326 - val_accuracy: 0.8050\n",
      "Epoch 17/20\n",
      "16/16 [==============================] - 1s 48ms/step - loss: 0.1226 - accuracy: 0.9572 - val_loss: 1.0601 - val_accuracy: 0.8080\n",
      "Epoch 18/20\n",
      "16/16 [==============================] - 1s 43ms/step - loss: 0.1218 - accuracy: 0.9580 - val_loss: 1.0418 - val_accuracy: 0.8040\n",
      "Epoch 19/20\n",
      "16/16 [==============================] - 1s 42ms/step - loss: 0.1119 - accuracy: 0.9569 - val_loss: 1.1224 - val_accuracy: 0.7950\n",
      "Epoch 20/20\n",
      "16/16 [==============================] - 1s 45ms/step - loss: 0.1089 - accuracy: 0.9569 - val_loss: 1.0491 - val_accuracy: 0.8090\n"
     ]
    }
   ],
   "source": [
    "history=model.fit(X_tr2,y_tr2,\n",
    "                  epochs=20,\n",
    "                  batch_size=512,\n",
    "                  validation_data=(X_val,y_val))"
   ]
  },
  {
   "cell_type": "code",
   "execution_count": 122,
   "id": "0749e168",
   "metadata": {},
   "outputs": [
    {
     "data": {
      "text/plain": [
       "dict_keys(['loss', 'accuracy', 'val_loss', 'val_accuracy'])"
      ]
     },
     "execution_count": 122,
     "metadata": {},
     "output_type": "execute_result"
    }
   ],
   "source": [
    "history.history.keys()"
   ]
  },
  {
   "cell_type": "code",
   "execution_count": 123,
   "id": "9c1109a8",
   "metadata": {},
   "outputs": [
    {
     "data": {
      "text/html": [
       "<div>\n",
       "<style scoped>\n",
       "    .dataframe tbody tr th:only-of-type {\n",
       "        vertical-align: middle;\n",
       "    }\n",
       "\n",
       "    .dataframe tbody tr th {\n",
       "        vertical-align: top;\n",
       "    }\n",
       "\n",
       "    .dataframe thead th {\n",
       "        text-align: right;\n",
       "    }\n",
       "</style>\n",
       "<table border=\"1\" class=\"dataframe\">\n",
       "  <thead>\n",
       "    <tr style=\"text-align: right;\">\n",
       "      <th></th>\n",
       "      <th>loss</th>\n",
       "      <th>accuracy</th>\n",
       "      <th>val_loss</th>\n",
       "      <th>val_accuracy</th>\n",
       "    </tr>\n",
       "  </thead>\n",
       "  <tbody>\n",
       "    <tr>\n",
       "      <th>0</th>\n",
       "      <td>2.549184</td>\n",
       "      <td>0.533450</td>\n",
       "      <td>1.688652</td>\n",
       "      <td>0.646</td>\n",
       "    </tr>\n",
       "    <tr>\n",
       "      <th>1</th>\n",
       "      <td>1.389228</td>\n",
       "      <td>0.714232</td>\n",
       "      <td>1.279839</td>\n",
       "      <td>0.722</td>\n",
       "    </tr>\n",
       "    <tr>\n",
       "      <th>2</th>\n",
       "      <td>1.031134</td>\n",
       "      <td>0.783513</td>\n",
       "      <td>1.102766</td>\n",
       "      <td>0.767</td>\n",
       "    </tr>\n",
       "    <tr>\n",
       "      <th>3</th>\n",
       "      <td>0.806807</td>\n",
       "      <td>0.833125</td>\n",
       "      <td>1.008609</td>\n",
       "      <td>0.789</td>\n",
       "    </tr>\n",
       "    <tr>\n",
       "      <th>4</th>\n",
       "      <td>0.640775</td>\n",
       "      <td>0.865322</td>\n",
       "      <td>0.947496</td>\n",
       "      <td>0.794</td>\n",
       "    </tr>\n",
       "    <tr>\n",
       "      <th>5</th>\n",
       "      <td>0.514592</td>\n",
       "      <td>0.891381</td>\n",
       "      <td>0.922431</td>\n",
       "      <td>0.810</td>\n",
       "    </tr>\n",
       "    <tr>\n",
       "      <th>6</th>\n",
       "      <td>0.414715</td>\n",
       "      <td>0.913180</td>\n",
       "      <td>0.879618</td>\n",
       "      <td>0.819</td>\n",
       "    </tr>\n",
       "    <tr>\n",
       "      <th>7</th>\n",
       "      <td>0.336804</td>\n",
       "      <td>0.929967</td>\n",
       "      <td>0.891648</td>\n",
       "      <td>0.812</td>\n",
       "    </tr>\n",
       "    <tr>\n",
       "      <th>8</th>\n",
       "      <td>0.280063</td>\n",
       "      <td>0.940742</td>\n",
       "      <td>0.875634</td>\n",
       "      <td>0.820</td>\n",
       "    </tr>\n",
       "    <tr>\n",
       "      <th>9</th>\n",
       "      <td>0.236206</td>\n",
       "      <td>0.944625</td>\n",
       "      <td>0.909712</td>\n",
       "      <td>0.816</td>\n",
       "    </tr>\n",
       "    <tr>\n",
       "      <th>10</th>\n",
       "      <td>0.206724</td>\n",
       "      <td>0.949010</td>\n",
       "      <td>0.919220</td>\n",
       "      <td>0.815</td>\n",
       "    </tr>\n",
       "    <tr>\n",
       "      <th>11</th>\n",
       "      <td>0.176838</td>\n",
       "      <td>0.951892</td>\n",
       "      <td>0.936895</td>\n",
       "      <td>0.812</td>\n",
       "    </tr>\n",
       "    <tr>\n",
       "      <th>12</th>\n",
       "      <td>0.168059</td>\n",
       "      <td>0.952017</td>\n",
       "      <td>0.935324</td>\n",
       "      <td>0.814</td>\n",
       "    </tr>\n",
       "    <tr>\n",
       "      <th>13</th>\n",
       "      <td>0.147212</td>\n",
       "      <td>0.953019</td>\n",
       "      <td>0.947486</td>\n",
       "      <td>0.817</td>\n",
       "    </tr>\n",
       "    <tr>\n",
       "      <th>14</th>\n",
       "      <td>0.138195</td>\n",
       "      <td>0.957279</td>\n",
       "      <td>0.976491</td>\n",
       "      <td>0.820</td>\n",
       "    </tr>\n",
       "    <tr>\n",
       "      <th>15</th>\n",
       "      <td>0.132553</td>\n",
       "      <td>0.957529</td>\n",
       "      <td>1.032552</td>\n",
       "      <td>0.805</td>\n",
       "    </tr>\n",
       "    <tr>\n",
       "      <th>16</th>\n",
       "      <td>0.122599</td>\n",
       "      <td>0.957154</td>\n",
       "      <td>1.060068</td>\n",
       "      <td>0.808</td>\n",
       "    </tr>\n",
       "    <tr>\n",
       "      <th>17</th>\n",
       "      <td>0.121803</td>\n",
       "      <td>0.958031</td>\n",
       "      <td>1.041818</td>\n",
       "      <td>0.804</td>\n",
       "    </tr>\n",
       "    <tr>\n",
       "      <th>18</th>\n",
       "      <td>0.111947</td>\n",
       "      <td>0.956903</td>\n",
       "      <td>1.122447</td>\n",
       "      <td>0.795</td>\n",
       "    </tr>\n",
       "    <tr>\n",
       "      <th>19</th>\n",
       "      <td>0.108936</td>\n",
       "      <td>0.956903</td>\n",
       "      <td>1.049062</td>\n",
       "      <td>0.809</td>\n",
       "    </tr>\n",
       "  </tbody>\n",
       "</table>\n",
       "</div>"
      ],
      "text/plain": [
       "        loss  accuracy  val_loss  val_accuracy\n",
       "0   2.549184  0.533450  1.688652         0.646\n",
       "1   1.389228  0.714232  1.279839         0.722\n",
       "2   1.031134  0.783513  1.102766         0.767\n",
       "3   0.806807  0.833125  1.008609         0.789\n",
       "4   0.640775  0.865322  0.947496         0.794\n",
       "5   0.514592  0.891381  0.922431         0.810\n",
       "6   0.414715  0.913180  0.879618         0.819\n",
       "7   0.336804  0.929967  0.891648         0.812\n",
       "8   0.280063  0.940742  0.875634         0.820\n",
       "9   0.236206  0.944625  0.909712         0.816\n",
       "10  0.206724  0.949010  0.919220         0.815\n",
       "11  0.176838  0.951892  0.936895         0.812\n",
       "12  0.168059  0.952017  0.935324         0.814\n",
       "13  0.147212  0.953019  0.947486         0.817\n",
       "14  0.138195  0.957279  0.976491         0.820\n",
       "15  0.132553  0.957529  1.032552         0.805\n",
       "16  0.122599  0.957154  1.060068         0.808\n",
       "17  0.121803  0.958031  1.041818         0.804\n",
       "18  0.111947  0.956903  1.122447         0.795\n",
       "19  0.108936  0.956903  1.049062         0.809"
      ]
     },
     "execution_count": 123,
     "metadata": {},
     "output_type": "execute_result"
    }
   ],
   "source": [
    "res=pd.DataFrame(history.history,columns=history.history.keys())\n",
    "res"
   ]
  },
  {
   "cell_type": "markdown",
   "id": "b3c631ee",
   "metadata": {},
   "source": [
    "##  손실함수 비교"
   ]
  },
  {
   "cell_type": "code",
   "execution_count": 124,
   "id": "835d46c7",
   "metadata": {},
   "outputs": [
    {
     "data": {
      "text/plain": [
       "Text(0, 0.5, 'loss')"
      ]
     },
     "execution_count": 124,
     "metadata": {},
     "output_type": "execute_result"
    },
    {
     "data": {
      "image/png": "[encoded data removed]",
      "text/plain": [
       "<Figure size 432x288 with 1 Axes>"
      ]
     },
     "metadata": {
      "needs_background": "light"
     },
     "output_type": "display_data"
    }
   ],
   "source": [
    "plt.plot(res.index,res.loss,'bo',label='Train_loss')\n",
    "plt.plot(res.index,res.val_loss,'b',label='Val_loss')\n",
    "plt.legend()\n",
    "plt.title('Train VS Val loss')\n",
    "plt.xlabel('epochs')\n",
    "plt.ylabel('loss')"
   ]
  },
  {
   "cell_type": "markdown",
   "id": "cfa65844",
   "metadata": {},
   "source": [
    "## 정확도 비교"
   ]
  },
  {
   "cell_type": "code",
   "execution_count": 125,
   "id": "bce4ee6f",
   "metadata": {},
   "outputs": [
    {
     "data": {
      "text/plain": [
       "Text(0, 0.5, 'accuracy')"
      ]
     },
     "execution_count": 125,
     "metadata": {},
     "output_type": "execute_result"
    },
    {
     "data": {
      "image/png": "[encoded data removed]",
      "text/plain": [
       "<Figure size 432x288 with 1 Axes>"
      ]
     },
     "metadata": {
      "needs_background": "light"
     },
     "output_type": "display_data"
    }
   ],
   "source": [
    "plt.plot(res.index,res.accuracy,'ro',label='Train_accuracy')\n",
    "plt.plot(res.index,res.val_accuracy,'r',label='Val_accuracy')\n",
    "plt.legend()\n",
    "plt.title('Train VS Val accuracy')\n",
    "plt.xlabel('epochs')\n",
    "plt.ylabel('accuracy')"
   ]
  },
  {
   "cell_type": "markdown",
   "id": "1b81b018",
   "metadata": {},
   "source": [
    "아홉번쨰 epochs부터 과대적합이 된것으로 보임"
   ]
  },
  {
   "cell_type": "markdown",
   "id": "1b111460",
   "metadata": {},
   "source": [
    "## 재학습"
   ]
  },
  {
   "cell_type": "code",
   "execution_count": 126,
   "id": "7fdb9169",
   "metadata": {},
   "outputs": [
    {
     "name": "stdout",
     "output_type": "stream",
     "text": [
      "Epoch 1/9\n",
      "16/16 [==============================] - 3s 94ms/step - loss: 2.6966 - accuracy: 0.5301 - val_loss: 1.7570 - val_accuracy: 0.6500\n",
      "Epoch 2/9\n",
      "16/16 [==============================] - 1s 55ms/step - loss: 1.4163 - accuracy: 0.7067 - val_loss: 1.3206 - val_accuracy: 0.7080\n",
      "Epoch 3/9\n",
      "16/16 [==============================] - 1s 44ms/step - loss: 1.0397 - accuracy: 0.7771 - val_loss: 1.1435 - val_accuracy: 0.7540\n",
      "Epoch 4/9\n",
      "16/16 [==============================] - 1s 43ms/step - loss: 0.8186 - accuracy: 0.8309 - val_loss: 1.0399 - val_accuracy: 0.7780\n",
      "Epoch 5/9\n",
      "16/16 [==============================] - 1s 43ms/step - loss: 0.6508 - accuracy: 0.8697 - val_loss: 0.9763 - val_accuracy: 0.7880\n",
      "Epoch 6/9\n",
      "16/16 [==============================] - 1s 46ms/step - loss: 0.5214 - accuracy: 0.8964 - val_loss: 0.9194 - val_accuracy: 0.8110\n",
      "Epoch 7/9\n",
      "16/16 [==============================] - 1s 43ms/step - loss: 0.4179 - accuracy: 0.9166 - val_loss: 0.9045 - val_accuracy: 0.8160\n",
      "Epoch 8/9\n",
      "16/16 [==============================] - 1s 43ms/step - loss: 0.3425 - accuracy: 0.9288 - val_loss: 0.8818 - val_accuracy: 0.8160\n",
      "Epoch 9/9\n",
      "16/16 [==============================] - 1s 42ms/step - loss: 0.2816 - accuracy: 0.9400 - val_loss: 0.9096 - val_accuracy: 0.8060\n"
     ]
    },
    {
     "data": {
      "text/plain": [
       "<keras.callbacks.History at 0x22536956760>"
      ]
     },
     "execution_count": 126,
     "metadata": {},
     "output_type": "execute_result"
    }
   ],
   "source": [
    "model=keras.Sequential([\n",
    "    layers.Dense(64,activation='relu'),\n",
    "    layers.Dense(64,activation='relu'),\n",
    "    layers.Dense(46,activation='softmax')\n",
    "])\n",
    "model.compile(optimizer='rmsprop',\n",
    "             loss='categorical_crossentropy',\n",
    "             metrics='accuracy')\n",
    "model.fit(X_tr2,y_tr2,\n",
    "         epochs=9,\n",
    "         batch_size=512,\n",
    "         validation_data=(X_val,y_val))"
   ]
  },
  {
   "cell_type": "code",
   "execution_count": 127,
   "id": "0f29f405",
   "metadata": {},
   "outputs": [
    {
     "name": "stdout",
     "output_type": "stream",
     "text": [
      "71/71 [==============================] - 0s 5ms/step - loss: 1.0107 - accuracy: 0.7805\n"
     ]
    }
   ],
   "source": [
    "result=model.evaluate(X_te,y_te)"
   ]
  },
  {
   "cell_type": "code",
   "execution_count": 128,
   "id": "0f9f94ad",
   "metadata": {},
   "outputs": [
    {
     "data": {
      "text/plain": [
       "[1.0107144117355347, 0.7804986834526062]"
      ]
     },
     "execution_count": 128,
     "metadata": {},
     "output_type": "execute_result"
    }
   ],
   "source": [
    "result"
   ]
  },
  {
   "cell_type": "markdown",
   "id": "ef6e4a14",
   "metadata": {},
   "source": [
    "## 새로운데이터 모델로 예측해보기"
   ]
  },
  {
   "cell_type": "code",
   "execution_count": 129,
   "id": "b8be9dd4",
   "metadata": {},
   "outputs": [
    {
     "name": "stdout",
     "output_type": "stream",
     "text": [
      "71/71 [==============================] - 0s 4ms/step\n"
     ]
    }
   ],
   "source": [
    "pred=model.predict(X_te)"
   ]
  },
  {
   "cell_type": "code",
   "execution_count": 130,
   "id": "bc5ea2ab",
   "metadata": {},
   "outputs": [
    {
     "data": {
      "text/plain": [
       "0.6594434"
      ]
     },
     "execution_count": 130,
     "metadata": {},
     "output_type": "execute_result"
    }
   ],
   "source": [
    "pred[0].max()"
   ]
  },
  {
   "cell_type": "code",
   "execution_count": 131,
   "id": "6045c52e",
   "metadata": {},
   "outputs": [
    {
     "data": {
      "text/plain": [
       "4"
      ]
     },
     "execution_count": 131,
     "metadata": {},
     "output_type": "execute_result"
    }
   ],
   "source": [
    "pred[0].argmax()"
   ]
  },
  {
   "cell_type": "markdown",
   "id": "b7a51ec7",
   "metadata": {},
   "source": [
    "## 레이블 인코딩 다른 방법\n",
    "loss함수가 categorical_crossentropy이면 범주형 인코딩이 되어있을 것으로 기대함.  \n",
    "그러나 정수형 인코딩이 되어있다면 sparse_categorical_crossentropy를 사용.  \n",
    "두 인코딩방식은 인터페이스만 다르고 수학적으로는 동일함"
   ]
  },
  {
   "cell_type": "code",
   "execution_count": 132,
   "id": "ac644292",
   "metadata": {},
   "outputs": [],
   "source": [
    "y_tr=np.array(train_label)\n",
    "y_val=y_tr[:1000]\n",
    "y_tr2=y_tr[1000:]\n",
    "y_te=np.array(test_label)"
   ]
  },
  {
   "cell_type": "code",
   "execution_count": 133,
   "id": "a6e416be",
   "metadata": {},
   "outputs": [],
   "source": [
    "model.compile(optimizer='rmsprop',\n",
    "             loss='sparse_categorical_crossentropy',\n",
    "             metrics='accuracy')"
   ]
  },
  {
   "cell_type": "code",
   "execution_count": 134,
   "id": "48e1a1b2",
   "metadata": {},
   "outputs": [
    {
     "name": "stdout",
     "output_type": "stream",
     "text": [
      "Epoch 1/20\n",
      "16/16 [==============================] - 3s 78ms/step - loss: 0.2653 - accuracy: 0.9415 - val_loss: 0.8918 - val_accuracy: 0.8280\n",
      "Epoch 2/20\n",
      "16/16 [==============================] - 1s 45ms/step - loss: 0.1991 - accuracy: 0.9499 - val_loss: 0.9175 - val_accuracy: 0.8210\n",
      "Epoch 3/20\n",
      "16/16 [==============================] - 1s 44ms/step - loss: 0.1781 - accuracy: 0.9513 - val_loss: 0.9342 - val_accuracy: 0.8170\n",
      "Epoch 4/20\n",
      "16/16 [==============================] - 1s 46ms/step - loss: 0.1623 - accuracy: 0.9524 - val_loss: 0.9361 - val_accuracy: 0.8170\n",
      "Epoch 5/20\n",
      "16/16 [==============================] - 1s 52ms/step - loss: 0.1475 - accuracy: 0.9550 - val_loss: 0.9676 - val_accuracy: 0.8200\n",
      "Epoch 6/20\n",
      "16/16 [==============================] - 1s 50ms/step - loss: 0.1357 - accuracy: 0.9553 - val_loss: 0.9746 - val_accuracy: 0.8180\n",
      "Epoch 7/20\n",
      "16/16 [==============================] - 1s 48ms/step - loss: 0.1330 - accuracy: 0.9560 - val_loss: 1.0181 - val_accuracy: 0.8100\n",
      "Epoch 8/20\n",
      "16/16 [==============================] - 1s 43ms/step - loss: 0.1258 - accuracy: 0.9560 - val_loss: 1.0077 - val_accuracy: 0.8130\n",
      "Epoch 9/20\n",
      "16/16 [==============================] - 1s 43ms/step - loss: 0.1193 - accuracy: 0.9582 - val_loss: 1.0315 - val_accuracy: 0.8130\n",
      "Epoch 10/20\n",
      "16/16 [==============================] - 1s 44ms/step - loss: 0.1124 - accuracy: 0.9557 - val_loss: 1.0412 - val_accuracy: 0.8150\n",
      "Epoch 11/20\n",
      "16/16 [==============================] - 1s 44ms/step - loss: 0.1142 - accuracy: 0.9577 - val_loss: 1.0862 - val_accuracy: 0.8070\n",
      "Epoch 12/20\n",
      "16/16 [==============================] - 1s 46ms/step - loss: 0.1105 - accuracy: 0.9583 - val_loss: 1.0652 - val_accuracy: 0.8190\n",
      "Epoch 13/20\n",
      "16/16 [==============================] - 1s 44ms/step - loss: 0.1106 - accuracy: 0.9584 - val_loss: 1.0825 - val_accuracy: 0.8100\n",
      "Epoch 14/20\n",
      "16/16 [==============================] - 1s 46ms/step - loss: 0.1047 - accuracy: 0.9550 - val_loss: 1.1432 - val_accuracy: 0.8050\n",
      "Epoch 15/20\n",
      "16/16 [==============================] - 1s 50ms/step - loss: 0.1018 - accuracy: 0.9593 - val_loss: 1.1242 - val_accuracy: 0.8150\n",
      "Epoch 16/20\n",
      "16/16 [==============================] - 1s 46ms/step - loss: 0.0984 - accuracy: 0.9580 - val_loss: 1.1630 - val_accuracy: 0.8020\n",
      "Epoch 17/20\n",
      "16/16 [==============================] - 1s 49ms/step - loss: 0.1030 - accuracy: 0.9582 - val_loss: 1.1740 - val_accuracy: 0.8000\n",
      "Epoch 18/20\n",
      "16/16 [==============================] - 1s 44ms/step - loss: 0.0968 - accuracy: 0.9588 - val_loss: 1.1718 - val_accuracy: 0.8060\n",
      "Epoch 19/20\n",
      "16/16 [==============================] - 1s 44ms/step - loss: 0.1008 - accuracy: 0.9567 - val_loss: 1.1617 - val_accuracy: 0.8070\n",
      "Epoch 20/20\n",
      "16/16 [==============================] - 1s 41ms/step - loss: 0.0935 - accuracy: 0.9599 - val_loss: 1.1461 - val_accuracy: 0.8100\n"
     ]
    }
   ],
   "source": [
    "history=model.fit(X_tr2,y_tr2,\n",
    "         epochs=20,\n",
    "         batch_size=512,\n",
    "         validation_data=(X_val,y_val))"
   ]
  },
  {
   "cell_type": "markdown",
   "id": "6f0fe1a8",
   "metadata": {},
   "source": [
    "## 은닉층 크기를 크게 만들어 모델 생성"
   ]
  },
  {
   "cell_type": "code",
   "execution_count": 135,
   "id": "091c5806",
   "metadata": {},
   "outputs": [],
   "source": [
    "model=keras.Sequential([\n",
    "    layers.Dense(128,activation='relu'),\n",
    "    layers.Dense(128,activation='relu'),\n",
    "    layers.Dense(46,activation='softmax')\n",
    "])\n",
    "model.compile(optimizer='rmsprop',\n",
    "             loss='sparse_categorical_crossentropy',\n",
    "             metrics='accuracy')"
   ]
  },
  {
   "cell_type": "code",
   "execution_count": 136,
   "id": "3e8569bb",
   "metadata": {},
   "outputs": [
    {
     "name": "stdout",
     "output_type": "stream",
     "text": [
      "Epoch 1/20\n",
      "16/16 [==============================] - 4s 107ms/step - loss: 2.2307 - accuracy: 0.5659 - val_loss: 1.3904 - val_accuracy: 0.6930\n",
      "Epoch 2/20\n",
      "16/16 [==============================] - 1s 65ms/step - loss: 1.1282 - accuracy: 0.7551 - val_loss: 1.0993 - val_accuracy: 0.7670\n",
      "Epoch 3/20\n",
      "16/16 [==============================] - 1s 64ms/step - loss: 0.8035 - accuracy: 0.8256 - val_loss: 0.9870 - val_accuracy: 0.7930\n",
      "Epoch 4/20\n",
      "16/16 [==============================] - 1s 66ms/step - loss: 0.5823 - accuracy: 0.8756 - val_loss: 0.9012 - val_accuracy: 0.8080\n",
      "Epoch 5/20\n",
      "16/16 [==============================] - 1s 71ms/step - loss: 0.4348 - accuracy: 0.9094 - val_loss: 0.9476 - val_accuracy: 0.8020\n",
      "Epoch 6/20\n",
      "16/16 [==============================] - 1s 64ms/step - loss: 0.3332 - accuracy: 0.9257 - val_loss: 0.8581 - val_accuracy: 0.8240\n",
      "Epoch 7/20\n",
      "16/16 [==============================] - 1s 70ms/step - loss: 0.2517 - accuracy: 0.9424 - val_loss: 0.9140 - val_accuracy: 0.8020\n",
      "Epoch 8/20\n",
      "16/16 [==============================] - 1s 69ms/step - loss: 0.2100 - accuracy: 0.9489 - val_loss: 0.8965 - val_accuracy: 0.8210\n",
      "Epoch 9/20\n",
      "16/16 [==============================] - 1s 68ms/step - loss: 0.1842 - accuracy: 0.9508 - val_loss: 0.9182 - val_accuracy: 0.8150\n",
      "Epoch 10/20\n",
      "16/16 [==============================] - 1s 65ms/step - loss: 0.1679 - accuracy: 0.9509 - val_loss: 1.0094 - val_accuracy: 0.8000\n",
      "Epoch 11/20\n",
      "16/16 [==============================] - 1s 64ms/step - loss: 0.1521 - accuracy: 0.9540 - val_loss: 1.0099 - val_accuracy: 0.8100\n",
      "Epoch 12/20\n",
      "16/16 [==============================] - 1s 67ms/step - loss: 0.1368 - accuracy: 0.9578 - val_loss: 1.0428 - val_accuracy: 0.8020\n",
      "Epoch 13/20\n",
      "16/16 [==============================] - 1s 70ms/step - loss: 0.1347 - accuracy: 0.9569 - val_loss: 1.0360 - val_accuracy: 0.8050\n",
      "Epoch 14/20\n",
      "16/16 [==============================] - 1s 65ms/step - loss: 0.1224 - accuracy: 0.9568 - val_loss: 1.0325 - val_accuracy: 0.8080\n",
      "Epoch 15/20\n",
      "16/16 [==============================] - 1s 66ms/step - loss: 0.1247 - accuracy: 0.9560 - val_loss: 1.0564 - val_accuracy: 0.8030\n",
      "Epoch 16/20\n",
      "16/16 [==============================] - 1s 65ms/step - loss: 0.1176 - accuracy: 0.9575 - val_loss: 1.0205 - val_accuracy: 0.8070\n",
      "Epoch 17/20\n",
      "16/16 [==============================] - 1s 65ms/step - loss: 0.1142 - accuracy: 0.9587 - val_loss: 1.0544 - val_accuracy: 0.8010\n",
      "Epoch 18/20\n",
      "16/16 [==============================] - 1s 69ms/step - loss: 0.1124 - accuracy: 0.9584 - val_loss: 1.1114 - val_accuracy: 0.8010\n",
      "Epoch 19/20\n",
      "16/16 [==============================] - 1s 65ms/step - loss: 0.1117 - accuracy: 0.9550 - val_loss: 1.1830 - val_accuracy: 0.7980\n",
      "Epoch 20/20\n",
      "16/16 [==============================] - 1s 62ms/step - loss: 0.1095 - accuracy: 0.9583 - val_loss: 1.0612 - val_accuracy: 0.8050\n"
     ]
    }
   ],
   "source": [
    "history=model.fit(X_tr2,y_tr2,\n",
    "                 epochs=20,\n",
    "                 batch_size=512,\n",
    "                 validation_data=(X_val,y_val))"
   ]
  },
  {
   "cell_type": "code",
   "execution_count": 137,
   "id": "93345586",
   "metadata": {},
   "outputs": [],
   "source": [
    "res2=pd.DataFrame(history.history,columns=history.history.keys())"
   ]
  },
  {
   "cell_type": "code",
   "execution_count": 138,
   "id": "153d0e0e",
   "metadata": {},
   "outputs": [
    {
     "data": {
      "text/html": [
       "<div>\n",
       "<style scoped>\n",
       "    .dataframe tbody tr th:only-of-type {\n",
       "        vertical-align: middle;\n",
       "    }\n",
       "\n",
       "    .dataframe tbody tr th {\n",
       "        vertical-align: top;\n",
       "    }\n",
       "\n",
       "    .dataframe thead th {\n",
       "        text-align: right;\n",
       "    }\n",
       "</style>\n",
       "<table border=\"1\" class=\"dataframe\">\n",
       "  <thead>\n",
       "    <tr style=\"text-align: right;\">\n",
       "      <th></th>\n",
       "      <th>loss</th>\n",
       "      <th>accuracy</th>\n",
       "      <th>val_loss</th>\n",
       "      <th>val_accuracy</th>\n",
       "    </tr>\n",
       "  </thead>\n",
       "  <tbody>\n",
       "    <tr>\n",
       "      <th>0</th>\n",
       "      <td>2.230650</td>\n",
       "      <td>0.565898</td>\n",
       "      <td>1.390424</td>\n",
       "      <td>0.693</td>\n",
       "    </tr>\n",
       "    <tr>\n",
       "      <th>1</th>\n",
       "      <td>1.128213</td>\n",
       "      <td>0.755074</td>\n",
       "      <td>1.099321</td>\n",
       "      <td>0.767</td>\n",
       "    </tr>\n",
       "    <tr>\n",
       "      <th>2</th>\n",
       "      <td>0.803453</td>\n",
       "      <td>0.825608</td>\n",
       "      <td>0.987005</td>\n",
       "      <td>0.793</td>\n",
       "    </tr>\n",
       "    <tr>\n",
       "      <th>3</th>\n",
       "      <td>0.582278</td>\n",
       "      <td>0.875595</td>\n",
       "      <td>0.901164</td>\n",
       "      <td>0.808</td>\n",
       "    </tr>\n",
       "    <tr>\n",
       "      <th>4</th>\n",
       "      <td>0.434815</td>\n",
       "      <td>0.909421</td>\n",
       "      <td>0.947555</td>\n",
       "      <td>0.802</td>\n",
       "    </tr>\n",
       "    <tr>\n",
       "      <th>5</th>\n",
       "      <td>0.333227</td>\n",
       "      <td>0.925708</td>\n",
       "      <td>0.858104</td>\n",
       "      <td>0.824</td>\n",
       "    </tr>\n",
       "    <tr>\n",
       "      <th>6</th>\n",
       "      <td>0.251743</td>\n",
       "      <td>0.942370</td>\n",
       "      <td>0.913951</td>\n",
       "      <td>0.802</td>\n",
       "    </tr>\n",
       "    <tr>\n",
       "      <th>7</th>\n",
       "      <td>0.209970</td>\n",
       "      <td>0.948885</td>\n",
       "      <td>0.896453</td>\n",
       "      <td>0.821</td>\n",
       "    </tr>\n",
       "    <tr>\n",
       "      <th>8</th>\n",
       "      <td>0.184173</td>\n",
       "      <td>0.950764</td>\n",
       "      <td>0.918165</td>\n",
       "      <td>0.815</td>\n",
       "    </tr>\n",
       "    <tr>\n",
       "      <th>9</th>\n",
       "      <td>0.167856</td>\n",
       "      <td>0.950890</td>\n",
       "      <td>1.009366</td>\n",
       "      <td>0.800</td>\n",
       "    </tr>\n",
       "    <tr>\n",
       "      <th>10</th>\n",
       "      <td>0.152071</td>\n",
       "      <td>0.954022</td>\n",
       "      <td>1.009905</td>\n",
       "      <td>0.810</td>\n",
       "    </tr>\n",
       "    <tr>\n",
       "      <th>11</th>\n",
       "      <td>0.136818</td>\n",
       "      <td>0.957780</td>\n",
       "      <td>1.042817</td>\n",
       "      <td>0.802</td>\n",
       "    </tr>\n",
       "    <tr>\n",
       "      <th>12</th>\n",
       "      <td>0.134731</td>\n",
       "      <td>0.956903</td>\n",
       "      <td>1.035986</td>\n",
       "      <td>0.805</td>\n",
       "    </tr>\n",
       "    <tr>\n",
       "      <th>13</th>\n",
       "      <td>0.122394</td>\n",
       "      <td>0.956778</td>\n",
       "      <td>1.032479</td>\n",
       "      <td>0.808</td>\n",
       "    </tr>\n",
       "    <tr>\n",
       "      <th>14</th>\n",
       "      <td>0.124655</td>\n",
       "      <td>0.956026</td>\n",
       "      <td>1.056409</td>\n",
       "      <td>0.803</td>\n",
       "    </tr>\n",
       "    <tr>\n",
       "      <th>15</th>\n",
       "      <td>0.117642</td>\n",
       "      <td>0.957529</td>\n",
       "      <td>1.020464</td>\n",
       "      <td>0.807</td>\n",
       "    </tr>\n",
       "    <tr>\n",
       "      <th>16</th>\n",
       "      <td>0.114203</td>\n",
       "      <td>0.958657</td>\n",
       "      <td>1.054438</td>\n",
       "      <td>0.801</td>\n",
       "    </tr>\n",
       "    <tr>\n",
       "      <th>17</th>\n",
       "      <td>0.112391</td>\n",
       "      <td>0.958406</td>\n",
       "      <td>1.111376</td>\n",
       "      <td>0.801</td>\n",
       "    </tr>\n",
       "    <tr>\n",
       "      <th>18</th>\n",
       "      <td>0.111743</td>\n",
       "      <td>0.955024</td>\n",
       "      <td>1.182959</td>\n",
       "      <td>0.798</td>\n",
       "    </tr>\n",
       "    <tr>\n",
       "      <th>19</th>\n",
       "      <td>0.109488</td>\n",
       "      <td>0.958281</td>\n",
       "      <td>1.061229</td>\n",
       "      <td>0.805</td>\n",
       "    </tr>\n",
       "  </tbody>\n",
       "</table>\n",
       "</div>"
      ],
      "text/plain": [
       "        loss  accuracy  val_loss  val_accuracy\n",
       "0   2.230650  0.565898  1.390424         0.693\n",
       "1   1.128213  0.755074  1.099321         0.767\n",
       "2   0.803453  0.825608  0.987005         0.793\n",
       "3   0.582278  0.875595  0.901164         0.808\n",
       "4   0.434815  0.909421  0.947555         0.802\n",
       "5   0.333227  0.925708  0.858104         0.824\n",
       "6   0.251743  0.942370  0.913951         0.802\n",
       "7   0.209970  0.948885  0.896453         0.821\n",
       "8   0.184173  0.950764  0.918165         0.815\n",
       "9   0.167856  0.950890  1.009366         0.800\n",
       "10  0.152071  0.954022  1.009905         0.810\n",
       "11  0.136818  0.957780  1.042817         0.802\n",
       "12  0.134731  0.956903  1.035986         0.805\n",
       "13  0.122394  0.956778  1.032479         0.808\n",
       "14  0.124655  0.956026  1.056409         0.803\n",
       "15  0.117642  0.957529  1.020464         0.807\n",
       "16  0.114203  0.958657  1.054438         0.801\n",
       "17  0.112391  0.958406  1.111376         0.801\n",
       "18  0.111743  0.955024  1.182959         0.798\n",
       "19  0.109488  0.958281  1.061229         0.805"
      ]
     },
     "execution_count": 138,
     "metadata": {},
     "output_type": "execute_result"
    }
   ],
   "source": [
    "res2"
   ]
  },
  {
   "cell_type": "code",
   "execution_count": 140,
   "id": "0d3c267d",
   "metadata": {},
   "outputs": [
    {
     "data": {
      "text/plain": [
       "[<matplotlib.lines.Line2D at 0x2253ab66430>]"
      ]
     },
     "execution_count": 140,
     "metadata": {},
     "output_type": "execute_result"
    },
    {
     "data": {
      "image/png": "[encoded data removed]",
      "text/plain": [
       "<Figure size 432x288 with 1 Axes>"
      ]
     },
     "metadata": {
      "needs_background": "light"
     },
     "output_type": "display_data"
    }
   ],
   "source": [
    "plt.plot(res2.index,res2.loss)\n",
    "plt.plot(res2.index,res2.val_loss)"
   ]
  },
  {
   "cell_type": "code",
   "execution_count": 141,
   "id": "bc2a4881",
   "metadata": {},
   "outputs": [
    {
     "data": {
      "text/plain": [
       "[<matplotlib.lines.Line2D at 0x2253abbbeb0>]"
      ]
     },
     "execution_count": 141,
     "metadata": {},
     "output_type": "execute_result"
    },
    {
     "data": {
      "image/png": "[encoded data removed]",
      "text/plain": [
       "<Figure size 432x288 with 1 Axes>"
      ]
     },
     "metadata": {
      "needs_background": "light"
     },
     "output_type": "display_data"
    }
   ],
   "source": [
    "plt.plot(res2.index,res2.accuracy)\n",
    "plt.plot(res2.index,res2.val_accuracy)"
   ]
  },
  {
   "cell_type": "markdown",
   "id": "12fe0c50",
   "metadata": {},
   "source": [
    "8번째 에포크까지만 재학습"
   ]
  },
  {
   "cell_type": "code",
   "execution_count": 142,
   "id": "aa9abe8e",
   "metadata": {},
   "outputs": [
    {
     "name": "stdout",
     "output_type": "stream",
     "text": [
      "Epoch 1/8\n",
      "16/16 [==============================] - 3s 113ms/step - loss: 2.2343 - accuracy: 0.5674 - val_loss: 1.3808 - val_accuracy: 0.6930\n",
      "Epoch 2/8\n",
      "16/16 [==============================] - 1s 71ms/step - loss: 1.1114 - accuracy: 0.7595 - val_loss: 1.1067 - val_accuracy: 0.7640\n",
      "Epoch 3/8\n",
      "16/16 [==============================] - 1s 70ms/step - loss: 0.7721 - accuracy: 0.8327 - val_loss: 0.9635 - val_accuracy: 0.8060\n",
      "Epoch 4/8\n",
      "16/16 [==============================] - 1s 64ms/step - loss: 0.5636 - accuracy: 0.8814 - val_loss: 0.9068 - val_accuracy: 0.8100\n",
      "Epoch 5/8\n",
      "16/16 [==============================] - 1s 64ms/step - loss: 0.4024 - accuracy: 0.9158 - val_loss: 0.8865 - val_accuracy: 0.8180\n",
      "Epoch 6/8\n",
      "16/16 [==============================] - 1s 64ms/step - loss: 0.3140 - accuracy: 0.9322 - val_loss: 0.9172 - val_accuracy: 0.8100\n",
      "Epoch 7/8\n",
      "16/16 [==============================] - 1s 65ms/step - loss: 0.2441 - accuracy: 0.9450 - val_loss: 0.9018 - val_accuracy: 0.8070\n",
      "Epoch 8/8\n",
      "16/16 [==============================] - 1s 69ms/step - loss: 0.2028 - accuracy: 0.9488 - val_loss: 0.8966 - val_accuracy: 0.8140\n"
     ]
    }
   ],
   "source": [
    "model=keras.Sequential([\n",
    "    layers.Dense(128,activation='relu'),\n",
    "    layers.Dense(128,activation='relu'),\n",
    "    layers.Dense(46,activation='softmax')\n",
    "])\n",
    "model.compile(optimizer='rmsprop',\n",
    "             loss='sparse_categorical_crossentropy',\n",
    "             metrics='accuracy')\n",
    "history=model.fit(X_tr2,y_tr2,\n",
    "                 epochs=8,\n",
    "                 batch_size=512,\n",
    "                 validation_data=(X_val,y_val))"
   ]
  },
  {
   "cell_type": "code",
   "execution_count": 148,
   "id": "48c7a70e",
   "metadata": {},
   "outputs": [
    {
     "name": "stdout",
     "output_type": "stream",
     "text": [
      "71/71 [==============================] - 0s 6ms/step - loss: 1.0178 - accuracy: 0.7925\n"
     ]
    }
   ],
   "source": [
    "res_fin=model.evaluate(X_te,y_te)"
   ]
  },
  {
   "cell_type": "code",
   "execution_count": 149,
   "id": "02653223",
   "metadata": {},
   "outputs": [
    {
     "data": {
      "text/plain": [
       "[1.017831802368164, 0.7925200462341309]"
      ]
     },
     "execution_count": 149,
     "metadata": {},
     "output_type": "execute_result"
    }
   ],
   "source": [
    "res_fin"
   ]
  },
  {
   "attachments": {
    "image-2.png": {
     "image/png": "[encoded data removed]"
    },
    "image-3.png": {
     "image/png": "[encoded data removed]"
    }
   },
   "cell_type": "markdown",
   "id": "164e24a9",
   "metadata": {},
   "source": [
    "![image-3.png](attachment:image-3.png)\n",
    "![image-2.png](attachment:image-2.png)"
   ]
  },
  {
   "cell_type": "markdown",
   "id": "1b3446cc",
   "metadata": {},
   "source": [
    "중간층의 크기를 64로 작게 했을 때보다 128배로 크게해서 학습했을때 모델성능이 향상된것으로 보임  \n",
    "출력이 46차원이므로 충분히 큰 은닉층이 있어야 모델의 성능이 더 좋아짐."
   ]
  }
 ],
 "metadata": {
  "kernelspec": {
   "display_name": "Python 3 (ipykernel)",
   "language": "python",
   "name": "python3"
  },
  "language_info": {
   "codemirror_mode": {
    "name": "ipython",
    "version": 3
   },
   "file_extension": ".py",
   "mimetype": "text/x-python",
   "name": "python",
   "nbconvert_exporter": "python",
   "pygments_lexer": "ipython3",
   "version": "3.9.12"
  }
 },
 "nbformat": 4,
 "nbformat_minor": 5
}
