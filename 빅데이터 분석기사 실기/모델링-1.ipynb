{
 "cells": [
  {
   "cell_type": "markdown",
   "id": "a3ae9eeb",
   "metadata": {},
   "source": [
    "# 지도 학습 모형  \n",
    "|모형|서브패키지|클래스(분류)|클래스(회귀)\n",
    "|------|---|---|---|\n",
    "|회귀|linear_model|LogisticRegression|LinearRegression|\n",
    "|서포트벡터머신|SVM|SVC,LinearSVC|SVR,LinearSVR|\n",
    "|나이브베이즈|navie_bayes|BernouliNB,MultinomialNB|GaussianNB|\n",
    "|K-최근접이웃|neighbors|KNeighborsClassifier|KNeighborsRegressor|\n",
    "|인공신경망|neural_network|MLPClassifier|MLPRegressor|\n",
    "|의사결정나무|tree|DecisionTreeClassifier|DecisionTreeRegressor|\n",
    "|배깅|ensemble|BaggingClassfier|BaggingRegressor|\n",
    "|랜덤포레스트|ensemble|RandomForestClassifier|RandomForestRegressor|\n",
    "|Adaboost|ensemble|AdaBoostClassifier|AdaBoostRegressor|\n",
    "|GradientBoostiong|ensemble|GradientClassifier|GradientRegressor|"
   ]
  },
  {
   "cell_type": "markdown",
   "id": "a15d96cd",
   "metadata": {},
   "source": [
    "## 데이터 분할\n",
    "홀드아웃 : sklearn패키지의 내부패키지안에 model_selection에서 train_test_split함수 이용  \n",
    "k-fold : sklearn패키지의 내부패키지안에 model_selection에서 K-fold함수 이용"
   ]
  },
  {
   "cell_type": "code",
   "execution_count": 1,
   "id": "26c76831",
   "metadata": {},
   "outputs": [],
   "source": [
    "# breast_cancer 데이터 불러오기\n",
    "from sklearn.datasets import load_breast_cancer\n",
    "breast_cancer=load_breast_cancer()"
   ]
  },
  {
   "cell_type": "code",
   "execution_count": 2,
   "id": "b90003b6",
   "metadata": {},
   "outputs": [],
   "source": [
    "# x,y데이터 나누기\n",
    "features=breast_cancer.data\n",
    "target=breast_cancer.target"
   ]
  },
  {
   "cell_type": "markdown",
   "id": "cb8e1cbb",
   "metadata": {},
   "source": [
    "### 홀드아웃 방식(7:3)  \n",
    "test_size : 1-test_size:test_size의 비율로 분할  \n",
    "random_state : 값을 고정시키면 같은 데이터로 분할  \n",
    "stratify : 타겟값으로 주면 타겟값의 비율에 맞게 Train,Test로 분할"
   ]
  },
  {
   "cell_type": "code",
   "execution_count": 5,
   "id": "daa5d6ef",
   "metadata": {},
   "outputs": [],
   "source": [
    "from sklearn.model_selection import train_test_split\n",
    "X_train,y_train,X_test,y_test=train_test_split(features,target,test_size=0.3,random_state=1234,stratify=target)"
   ]
  },
  {
   "cell_type": "code",
   "execution_count": 6,
   "id": "de6e0483",
   "metadata": {},
   "outputs": [
    {
     "name": "stdout",
     "output_type": "stream",
     "text": [
      "(398, 30) (171, 30) (398,) (171,)\n"
     ]
    }
   ],
   "source": [
    "print(X_train.shape,y_train.shape,X_test.shape,y_test.shape)"
   ]
  },
  {
   "cell_type": "markdown",
   "id": "cbb788c3",
   "metadata": {},
   "source": [
    "### K-fold 방식(5개의 폴드)\n",
    "n개의 데이터셋을 k로 분할해서 Test데이터 1개,Train데이터 k-1개로 학습 진행  \n",
    "n_splits : 몇개의 폴드로 분할할지 지정  \n",
    "shuffle : 데이터의 순서를 섞을 지 지정"
   ]
  },
  {
   "cell_type": "code",
   "execution_count": 7,
   "id": "c43e44af",
   "metadata": {},
   "outputs": [
    {
     "data": {
      "text/plain": [
       "array([0, 1, 2, 3, 4, 5, 6, 7, 8, 9])"
      ]
     },
     "execution_count": 7,
     "metadata": {},
     "output_type": "execute_result"
    }
   ],
   "source": [
    "import numpy as np\n",
    "x=np.arange(10)\n",
    "x"
   ]
  },
  {
   "cell_type": "code",
   "execution_count": 13,
   "id": "66b70057",
   "metadata": {},
   "outputs": [],
   "source": [
    "from sklearn.model_selection import KFold\n",
    "kf=KFold(n_splits=5)"
   ]
  },
  {
   "cell_type": "code",
   "execution_count": 14,
   "id": "95b7acb6",
   "metadata": {},
   "outputs": [
    {
     "name": "stdout",
     "output_type": "stream",
     "text": [
      "Train [2 3 4 5 6 7 8 9] Test [0 1]\n",
      "Train [0 1 4 5 6 7 8 9] Test [2 3]\n",
      "Train [0 1 2 3 6 7 8 9] Test [4 5]\n",
      "Train [0 1 2 3 4 5 8 9] Test [6 7]\n",
      "Train [0 1 2 3 4 5 6 7] Test [8 9]\n"
     ]
    }
   ],
   "source": [
    "for tr,te in kf.split(x):\n",
    "    print('Train',tr,'Test',te)"
   ]
  },
  {
   "cell_type": "code",
   "execution_count": 18,
   "id": "cfb36843",
   "metadata": {},
   "outputs": [],
   "source": [
    "from sklearn.model_selection import StratifiedKFold\n",
    "kf_st=StratifiedKFold(n_splits=3)"
   ]
  },
  {
   "cell_type": "code",
   "execution_count": 21,
   "id": "02fa8329",
   "metadata": {},
   "outputs": [
    {
     "name": "stdout",
     "output_type": "stream",
     "text": [
      "[ 0  1  2  3  4  5  6  7  8  9 10 11 12 13 14]\n",
      "[0, 0, 0, 0, 0, 0, 1, 1, 1, 2, 2, 2, 2, 2, 2]\n"
     ]
    }
   ],
   "source": [
    "x_st=np.arange(15)\n",
    "y_st=[0]*6+[1]*3+[2]*6\n",
    "print(x_st)\n",
    "print(y_st)"
   ]
  },
  {
   "cell_type": "code",
   "execution_count": 20,
   "id": "8e8cf067",
   "metadata": {},
   "outputs": [
    {
     "name": "stdout",
     "output_type": "stream",
     "text": [
      "Train [ 2  3  4  5  7  8 11 12 13 14] Test [ 0  1  6  9 10]\n",
      "Train [ 0  1  4  5  6  8  9 10 13 14] Test [ 2  3  7 11 12]\n",
      "Train [ 0  1  2  3  6  7  9 10 11 12] Test [ 4  5  8 13 14]\n"
     ]
    }
   ],
   "source": [
    "for tr,te in kf_st.split(x_st,y_st):\n",
    "    print('Train',tr,'Test',te)"
   ]
  },
  {
   "cell_type": "markdown",
   "id": "b25201e3",
   "metadata": {},
   "source": [
    "## 성과지표\n",
    "### 분류모델 성능 지표\n",
    "혼동행렬을 이용한 평가지표 : sklearn.metrics.confusion_matrix로 이용  \n",
    "AUC를 이용한 평가지표 : sklearn.metrics.roc_auc_score로 이용\n"
   ]
  },
  {
   "cell_type": "code",
   "execution_count": 22,
   "id": "c38c1bfc",
   "metadata": {},
   "outputs": [],
   "source": [
    "from sklearn.metrics import confusion_matrix"
   ]
  },
  {
   "cell_type": "code",
   "execution_count": 27,
   "id": "ee3b3758",
   "metadata": {},
   "outputs": [],
   "source": [
    "target=[0,0,1,0,1,0]\n",
    "y_pred=[0,1,0,1,1,1]"
   ]
  },
  {
   "cell_type": "code",
   "execution_count": 28,
   "id": "1da2a2d7",
   "metadata": {},
   "outputs": [
    {
     "data": {
      "text/plain": [
       "array([[1, 3],\n",
       "       [1, 1]], dtype=int64)"
      ]
     },
     "execution_count": 28,
     "metadata": {},
     "output_type": "execute_result"
    }
   ],
   "source": [
    "confusion_matrix(target,y_pred)"
   ]
  },
  {
   "cell_type": "code",
   "execution_count": 29,
   "id": "95088033",
   "metadata": {},
   "outputs": [],
   "source": [
    "from sklearn.metrics import accuracy_score,recall_score,precision_score,f1_score"
   ]
  },
  {
   "cell_type": "markdown",
   "id": "23a1e5b5",
   "metadata": {},
   "source": [
    "정확도는 전체 중에서 예측값이 실제값을 제대로 예측한 값의 확률"
   ]
  },
  {
   "cell_type": "code",
   "execution_count": 30,
   "id": "9e3506de",
   "metadata": {},
   "outputs": [
    {
     "data": {
      "text/plain": [
       "0.3333333333333333"
      ]
     },
     "execution_count": 30,
     "metadata": {},
     "output_type": "execute_result"
    }
   ],
   "source": [
    "accuracy_score(target,y_pred)"
   ]
  },
  {
   "cell_type": "markdown",
   "id": "dfb38375",
   "metadata": {},
   "source": [
    "재현율은 실제값이 Positive인 대상중에 예측값과 실제값이 Positive로 일치한 데이터의 비율"
   ]
  },
  {
   "cell_type": "code",
   "execution_count": 31,
   "id": "24f4057f",
   "metadata": {},
   "outputs": [
    {
     "data": {
      "text/plain": [
       "0.5"
      ]
     },
     "execution_count": 31,
     "metadata": {},
     "output_type": "execute_result"
    }
   ],
   "source": [
    "recall_score(target,y_pred)"
   ]
  },
  {
   "cell_type": "markdown",
   "id": "87befa66",
   "metadata": {},
   "source": [
    "정밀도는 예측을 Positive로 한 대상중에 예측값과 실제값이 Positive로 일치한 데이터의 비율"
   ]
  },
  {
   "cell_type": "code",
   "execution_count": 32,
   "id": "5a29ae1b",
   "metadata": {},
   "outputs": [
    {
     "data": {
      "text/plain": [
       "0.25"
      ]
     },
     "execution_count": 32,
     "metadata": {},
     "output_type": "execute_result"
    }
   ],
   "source": [
    "precision_score(target,y_pred)"
   ]
  },
  {
   "cell_type": "markdown",
   "id": "345f0fe4",
   "metadata": {},
   "source": [
    "F1_score는 1/((1/재현율) + (1/정밀도))을 계산한 값"
   ]
  },
  {
   "cell_type": "code",
   "execution_count": 33,
   "id": "77c3e949",
   "metadata": {},
   "outputs": [
    {
     "data": {
      "text/plain": [
       "0.3333333333333333"
      ]
     },
     "execution_count": 33,
     "metadata": {},
     "output_type": "execute_result"
    }
   ],
   "source": [
    "f1_score(target,y_pred)"
   ]
  },
  {
   "cell_type": "markdown",
   "id": "a6faf26a",
   "metadata": {},
   "source": [
    "roc_curve,AUC : x축 거짓긍정률 y축 참긍정률으로 그래프를 그려 선아래 면적을 구한 값"
   ]
  },
  {
   "cell_type": "code",
   "execution_count": 35,
   "id": "3c446a0f",
   "metadata": {},
   "outputs": [],
   "source": [
    "from sklearn.metrics import roc_curve,auc"
   ]
  },
  {
   "cell_type": "code",
   "execution_count": 36,
   "id": "a2a74d8b",
   "metadata": {},
   "outputs": [],
   "source": [
    "target=[0,0,0,1,1,1]\n",
    "y_score=[0.1,0.75,0.35,0.92,0.81,0.68]"
   ]
  },
  {
   "cell_type": "code",
   "execution_count": 37,
   "id": "df53988e",
   "metadata": {},
   "outputs": [],
   "source": [
    "fpr,tpr,thresholds=roc_curve(target,y_score)"
   ]
  },
  {
   "cell_type": "code",
   "execution_count": 40,
   "id": "82101d33",
   "metadata": {},
   "outputs": [
    {
     "name": "stdout",
     "output_type": "stream",
     "text": [
      "[0.         0.         0.         0.33333333 0.33333333 1.        ]\n",
      "[0.         0.33333333 0.66666667 0.66666667 1.         1.        ]\n",
      "[1.92 0.92 0.81 0.75 0.68 0.1 ]\n"
     ]
    }
   ],
   "source": [
    "print(fpr)\n",
    "print(tpr)\n",
    "print(thresholds)"
   ]
  },
  {
   "cell_type": "code",
   "execution_count": 41,
   "id": "544fca93",
   "metadata": {},
   "outputs": [
    {
     "data": {
      "text/plain": [
       "0.888888888888889"
      ]
     },
     "execution_count": 41,
     "metadata": {},
     "output_type": "execute_result"
    }
   ],
   "source": [
    "auc(fpr,tpr)"
   ]
  },
  {
   "cell_type": "markdown",
   "id": "587c3aee",
   "metadata": {},
   "source": [
    "### 예측모델 성능 지표\n",
    "MSE : sklearn.metrics.mean_squared_error로 이용  \n",
    "MAE : sklearn.metrics.mean_absolute_error로 이용  \n",
    "MAPE : sklearn.metrics.mean_absolute_percentage_error로 이용"
   ]
  },
  {
   "cell_type": "code",
   "execution_count": 43,
   "id": "f8b6d6f3",
   "metadata": {},
   "outputs": [],
   "source": [
    "from sklearn.metrics import mean_squared_error,mean_absolute_error,mean_absolute_percentage_error"
   ]
  },
  {
   "cell_type": "code",
   "execution_count": 44,
   "id": "d00efb3b",
   "metadata": {},
   "outputs": [],
   "source": [
    "np.random.seed(123)"
   ]
  },
  {
   "cell_type": "code",
   "execution_count": 45,
   "id": "afa2077b",
   "metadata": {},
   "outputs": [
    {
     "data": {
      "text/plain": [
       "array([0.69646919, 0.28613933, 0.22685145, 0.55131477, 0.71946897])"
      ]
     },
     "execution_count": 45,
     "metadata": {},
     "output_type": "execute_result"
    }
   ],
   "source": [
    "target=np.random.random_sample(5)\n",
    "target"
   ]
  },
  {
   "cell_type": "code",
   "execution_count": 46,
   "id": "b10a03fa",
   "metadata": {},
   "outputs": [
    {
     "data": {
      "text/plain": [
       "array([0.42310646, 0.9807642 , 0.68482974, 0.4809319 , 0.39211752])"
      ]
     },
     "execution_count": 46,
     "metadata": {},
     "output_type": "execute_result"
    }
   ],
   "source": [
    "y_pred=np.random.random_sample(5)\n",
    "y_pred"
   ]
  },
  {
   "attachments": {
    "image.png": {
     "image/png": "[encoded data removed]"
    }
   },
   "cell_type": "markdown",
   "id": "ceda3c53",
   "metadata": {},
   "source": [
    "![image.png](attachment:image.png)"
   ]
  },
  {
   "cell_type": "code",
   "execution_count": 48,
   "id": "fca467c4",
   "metadata": {},
   "outputs": [
    {
     "data": {
      "text/plain": [
       "0.17581754220802784"
      ]
     },
     "execution_count": 48,
     "metadata": {},
     "output_type": "execute_result"
    }
   ],
   "source": [
    "mse=mean_squared_error(target,y_pred)\n",
    "mse"
   ]
  },
  {
   "attachments": {
    "image.png": {
     "image/png": "[encoded data removed]"
    }
   },
   "cell_type": "markdown",
   "id": "c6f5405e",
   "metadata": {},
   "source": [
    "![image.png](attachment:image.png)"
   ]
  },
  {
   "cell_type": "code",
   "execution_count": 49,
   "id": "29604f77",
   "metadata": {
    "scrolled": true
   },
   "outputs": [
    {
     "data": {
      "text/plain": [
       "0.36474003862364796"
      ]
     },
     "execution_count": 49,
     "metadata": {},
     "output_type": "execute_result"
    }
   ],
   "source": [
    "mae=mean_absolute_error(target,y_pred)\n",
    "mae"
   ]
  },
  {
   "attachments": {
    "image.png": {
     "image/png": "[encoded data removed]"
    }
   },
   "cell_type": "markdown",
   "id": "ab315d58",
   "metadata": {},
   "source": [
    "![image.png](attachment:image.png)"
   ]
  },
  {
   "cell_type": "code",
   "execution_count": 50,
   "id": "7fb83bf9",
   "metadata": {},
   "outputs": [
    {
     "data": {
      "text/plain": [
       "1.0843148337483364"
      ]
     },
     "execution_count": 50,
     "metadata": {},
     "output_type": "execute_result"
    }
   ],
   "source": [
    "mape=mean_absolute_percentage_error(target,y_pred)\n",
    "mape"
   ]
  }
 ],
 "metadata": {
  "kernelspec": {
   "display_name": "Python 3 (ipykernel)",
   "language": "python",
   "name": "python3"
  },
  "language_info": {
   "codemirror_mode": {
    "name": "ipython",
    "version": 3
   },
   "file_extension": ".py",
   "mimetype": "text/x-python",
   "name": "python",
   "nbconvert_exporter": "python",
   "pygments_lexer": "ipython3",
   "version": "3.9.12"
  }
 },
 "nbformat": 4,
 "nbformat_minor": 5
}
