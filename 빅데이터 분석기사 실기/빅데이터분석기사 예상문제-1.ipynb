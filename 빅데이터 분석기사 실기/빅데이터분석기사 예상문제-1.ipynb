{
 "cells": [
  {
   "cell_type": "markdown",
   "id": "0e049537",
   "metadata": {},
   "source": [
    "# 작업형 예상문제 풀이"
   ]
  },
  {
   "cell_type": "markdown",
   "id": "70a7b125",
   "metadata": {},
   "source": [
    "## 01. Cars93 데이터셋의 Wheelbase컬럼에 대해서 평균 값에서 표준편차의 1.5/2/2.5배를 더하거나 뺀 값들의 구간별 평균을 구한 후, 원래 데이터의 평균에서 뺀 값들의 차이의 합을 출력(소수점 다섯째 자리에서 반올림)"
   ]
  },
  {
   "cell_type": "code",
   "execution_count": 1,
   "id": "abc100f7",
   "metadata": {},
   "outputs": [],
   "source": [
    "import pandas as pd"
   ]
  },
  {
   "cell_type": "code",
   "execution_count": 2,
   "id": "acb7de3b",
   "metadata": {},
   "outputs": [],
   "source": [
    "cars93=pd.read_csv('data/연습문제/Cars93.csv')"
   ]
  },
  {
   "cell_type": "code",
   "execution_count": 4,
   "id": "fc5b8bfa",
   "metadata": {},
   "outputs": [],
   "source": [
    "Wb=cars93['Wheelbase']"
   ]
  },
  {
   "cell_type": "code",
   "execution_count": 7,
   "id": "20bbdd57",
   "metadata": {},
   "outputs": [],
   "source": [
    "Wb_avg=Wb.mean()"
   ]
  },
  {
   "cell_type": "code",
   "execution_count": 8,
   "id": "b3478931",
   "metadata": {},
   "outputs": [],
   "source": [
    "Wb_std=Wb.std()"
   ]
  },
  {
   "cell_type": "code",
   "execution_count": 18,
   "id": "ee17f262",
   "metadata": {},
   "outputs": [],
   "source": [
    "avg=[]\n",
    "x=[1.5,2,2.5]\n",
    "for i in x:\n",
    "    low=Wb_avg-i*Wb_std\n",
    "    upp=Wb_avg+i*Wb_std\n",
    "    range=Wb[(Wb>low)&(Wb<upp)]\n",
    "    avg.append(Wb_avg-range.mean())"
   ]
  },
  {
   "cell_type": "code",
   "execution_count": 19,
   "id": "96ae29b6",
   "metadata": {},
   "outputs": [
    {
     "data": {
      "text/plain": [
       "103.98924731182795"
      ]
     },
     "execution_count": 19,
     "metadata": {},
     "output_type": "execute_result"
    }
   ],
   "source": [
    "Wb_avg"
   ]
  },
  {
   "cell_type": "code",
   "execution_count": 20,
   "id": "5eb42a7b",
   "metadata": {},
   "outputs": [
    {
     "data": {
      "text/plain": [
       "[0.29512966476913505, 0.17813620071683545, 0.011225333805981563]"
      ]
     },
     "execution_count": 20,
     "metadata": {},
     "output_type": "execute_result"
    }
   ],
   "source": [
    "avg"
   ]
  },
  {
   "cell_type": "code",
   "execution_count": 21,
   "id": "04f67674",
   "metadata": {},
   "outputs": [
    {
     "data": {
      "text/plain": [
       "0.4845"
      ]
     },
     "execution_count": 21,
     "metadata": {},
     "output_type": "execute_result"
    }
   ],
   "source": [
    "round(sum(avg),4)"
   ]
  },
  {
   "cell_type": "markdown",
   "id": "2abbced2",
   "metadata": {},
   "source": [
    "## 02. Cars93 데이터셋의 length컬럼에 대해서 순위를 부여한 후, 1위부터 30위까지 값들의 표준편차를 구하고 소수점 셋째자리까지 반올림하여 나타내라(단, 동점은 동일한 순위를 부여하되 평균내어 등수를 산정하며 최솟값을 1위로 함)"
   ]
  },
  {
   "cell_type": "code",
   "execution_count": 24,
   "id": "7eb41045",
   "metadata": {},
   "outputs": [
    {
     "data": {
      "text/plain": [
       "0     177\n",
       "1     195\n",
       "2     180\n",
       "3     193\n",
       "4     186\n",
       "     ... \n",
       "88    187\n",
       "89    180\n",
       "90    159\n",
       "91    190\n",
       "92    184\n",
       "Name: Length, Length: 93, dtype: int64"
      ]
     },
     "execution_count": 24,
     "metadata": {},
     "output_type": "execute_result"
    }
   ],
   "source": [
    "length=cars93['Length']\n",
    "length"
   ]
  },
  {
   "cell_type": "code",
   "execution_count": 30,
   "id": "dba7b112",
   "metadata": {},
   "outputs": [
    {
     "data": {
      "text/plain": [
       "8.884"
      ]
     },
     "execution_count": 30,
     "metadata": {},
     "output_type": "execute_result"
    }
   ],
   "source": [
    "round(length[length.rank(method='average')<30].std(),3)"
   ]
  },
  {
   "cell_type": "markdown",
   "id": "a95e0b1a",
   "metadata": {},
   "source": [
    "## 03. Cars93 데이터셋의 Max_Price컬럼과 Min_Price컬럼에 대해서 각각 정렬한 후 정렬된 순서에 따라 레코드별로 Max_Price와 Min_Price의 차이를 산출하고 차이 값에 대해 표준편차를 구하여라(단, Max_Price의 정렬은 내림차순,Min_Price의 정렬은 오름차순으로 하며, 출력시 표준편차는 소수점 넷째 자리에서 반올림하여 표현할 것)"
   ]
  },
  {
   "cell_type": "code",
   "execution_count": 41,
   "id": "7fb24578",
   "metadata": {},
   "outputs": [],
   "source": [
    "max=cars93['Max_Price'].sort_values(ascending=False,ignore_index=True)\n",
    "min=cars93['Min_Price'].sort_values(ascending=True,ignore_index=True)\n"
   ]
  },
  {
   "cell_type": "code",
   "execution_count": 44,
   "id": "7ee34759",
   "metadata": {},
   "outputs": [
    {
     "data": {
      "text/plain": [
       "0     80.0\n",
       "1     50.4\n",
       "2     44.6\n",
       "3     42.7\n",
       "4     41.5\n",
       "      ... \n",
       "88     9.5\n",
       "89     9.5\n",
       "90     9.2\n",
       "91     9.1\n",
       "92     7.9\n",
       "Name: Max_Price, Length: 93, dtype: float64"
      ]
     },
     "execution_count": 44,
     "metadata": {},
     "output_type": "execute_result"
    }
   ],
   "source": [
    "max"
   ]
  },
  {
   "cell_type": "code",
   "execution_count": 45,
   "id": "17297334",
   "metadata": {},
   "outputs": [
    {
     "data": {
      "text/plain": [
       "0      6.7\n",
       "1      6.8\n",
       "2      6.9\n",
       "3      7.3\n",
       "4      7.3\n",
       "      ... \n",
       "88    34.6\n",
       "89    34.7\n",
       "90    37.5\n",
       "91    43.8\n",
       "92    45.4\n",
       "Name: Min_Price, Length: 93, dtype: float64"
      ]
     },
     "execution_count": 45,
     "metadata": {},
     "output_type": "execute_result"
    }
   ],
   "source": [
    "min"
   ]
  },
  {
   "cell_type": "code",
   "execution_count": 46,
   "id": "22eae713",
   "metadata": {},
   "outputs": [],
   "source": [
    "std=(max-min).std()"
   ]
  },
  {
   "cell_type": "code",
   "execution_count": 48,
   "id": "dd65ee1f",
   "metadata": {},
   "outputs": [
    {
     "name": "stdout",
     "output_type": "stream",
     "text": [
      "18.584\n"
     ]
    }
   ],
   "source": [
    "print(round(std,3))"
   ]
  },
  {
   "cell_type": "markdown",
   "id": "53b23709",
   "metadata": {},
   "source": [
    "## 04. Cars93 데이터셋의 Weight컬럼을 Min-Max 정규화로 변환한 후, 0.5보다 작은 값들의 분산과 0.5보다 큰 값들의 분산의 차이를 구하여라(단, 차이는 큰 값에서 작은 값을 빼서 구하며, 소수점 넷째자리에서 반올림하여 표현할 것)"
   ]
  },
  {
   "cell_type": "code",
   "execution_count": 55,
   "id": "67c0e4f7",
   "metadata": {},
   "outputs": [],
   "source": [
    "weight=cars93[['Weight']]"
   ]
  },
  {
   "cell_type": "code",
   "execution_count": 56,
   "id": "8201fa77",
   "metadata": {},
   "outputs": [
    {
     "data": {
      "text/html": [
       "<div>\n",
       "<style scoped>\n",
       "    .dataframe tbody tr th:only-of-type {\n",
       "        vertical-align: middle;\n",
       "    }\n",
       "\n",
       "    .dataframe tbody tr th {\n",
       "        vertical-align: top;\n",
       "    }\n",
       "\n",
       "    .dataframe thead th {\n",
       "        text-align: right;\n",
       "    }\n",
       "</style>\n",
       "<table border=\"1\" class=\"dataframe\">\n",
       "  <thead>\n",
       "    <tr style=\"text-align: right;\">\n",
       "      <th></th>\n",
       "      <th>Weight</th>\n",
       "    </tr>\n",
       "  </thead>\n",
       "  <tbody>\n",
       "    <tr>\n",
       "      <th>0</th>\n",
       "      <td>2705</td>\n",
       "    </tr>\n",
       "    <tr>\n",
       "      <th>1</th>\n",
       "      <td>3560</td>\n",
       "    </tr>\n",
       "    <tr>\n",
       "      <th>2</th>\n",
       "      <td>3375</td>\n",
       "    </tr>\n",
       "    <tr>\n",
       "      <th>3</th>\n",
       "      <td>3405</td>\n",
       "    </tr>\n",
       "    <tr>\n",
       "      <th>4</th>\n",
       "      <td>3640</td>\n",
       "    </tr>\n",
       "    <tr>\n",
       "      <th>...</th>\n",
       "      <td>...</td>\n",
       "    </tr>\n",
       "    <tr>\n",
       "      <th>88</th>\n",
       "      <td>3960</td>\n",
       "    </tr>\n",
       "    <tr>\n",
       "      <th>89</th>\n",
       "      <td>2985</td>\n",
       "    </tr>\n",
       "    <tr>\n",
       "      <th>90</th>\n",
       "      <td>2810</td>\n",
       "    </tr>\n",
       "    <tr>\n",
       "      <th>91</th>\n",
       "      <td>2985</td>\n",
       "    </tr>\n",
       "    <tr>\n",
       "      <th>92</th>\n",
       "      <td>3245</td>\n",
       "    </tr>\n",
       "  </tbody>\n",
       "</table>\n",
       "<p>93 rows × 1 columns</p>\n",
       "</div>"
      ],
      "text/plain": [
       "    Weight\n",
       "0     2705\n",
       "1     3560\n",
       "2     3375\n",
       "3     3405\n",
       "4     3640\n",
       "..     ...\n",
       "88    3960\n",
       "89    2985\n",
       "90    2810\n",
       "91    2985\n",
       "92    3245\n",
       "\n",
       "[93 rows x 1 columns]"
      ]
     },
     "execution_count": 56,
     "metadata": {},
     "output_type": "execute_result"
    }
   ],
   "source": [
    "weight"
   ]
  },
  {
   "cell_type": "code",
   "execution_count": 51,
   "id": "b68baec2",
   "metadata": {},
   "outputs": [],
   "source": [
    "from sklearn.preprocessing import MinMaxScaler"
   ]
  },
  {
   "cell_type": "code",
   "execution_count": 58,
   "id": "41887b2e",
   "metadata": {},
   "outputs": [
    {
     "data": {
      "text/plain": [
       "array([[0.3752119 ],\n",
       "       [0.53625918],\n",
       "       [0.5014127 ],\n",
       "       [0.50706348],\n",
       "       [0.55132793],\n",
       "       [0.4081748 ],\n",
       "       [0.51930684],\n",
       "       [0.63891505],\n",
       "       [0.52401582],\n",
       "       [0.54756075],\n",
       "       [0.60689395],\n",
       "       [0.33471464],\n",
       "       [0.39028066],\n",
       "       [0.47598418],\n",
       "       [0.46750801],\n",
       "       [0.56545489],\n",
       "       [0.6238463 ],\n",
       "       [0.60218497],\n",
       "       [0.50235449],\n",
       "       [0.52778301],\n",
       "       [0.44678847],\n",
       "       [0.53814278],\n",
       "       [0.29327557],\n",
       "       [0.36861933],\n",
       "       [0.42512714],\n",
       "       [0.56357129],\n",
       "       [0.44584668],\n",
       "       [0.58240723],\n",
       "       [0.29798455],\n",
       "       [0.52307403],\n",
       "       [0.21322283],\n",
       "       [0.34224901],\n",
       "       [0.37238651],\n",
       "       [0.40252402],\n",
       "       [0.3761537 ],\n",
       "       [0.56922208],\n",
       "       [0.49199473],\n",
       "       [0.60971934],\n",
       "       [0.18496892],\n",
       "       [0.33188924],\n",
       "       [0.40534941],\n",
       "       [0.30834432],\n",
       "       [0.4383123 ],\n",
       "       [0.30740252],\n",
       "       [0.35920136],\n",
       "       [0.29610096],\n",
       "       [0.40911659],\n",
       "       [0.61913731],\n",
       "       [0.52684121],\n",
       "       [0.52778301],\n",
       "       [0.5616877 ],\n",
       "       [0.62949708],\n",
       "       [0.30363534],\n",
       "       [1.        ],\n",
       "       [0.42512714],\n",
       "       [0.56922208],\n",
       "       [0.41100019],\n",
       "       [0.41570917],\n",
       "       [0.5296666 ],\n",
       "       [0.32718026],\n",
       "       [0.54567715],\n",
       "       [0.29798455],\n",
       "       [0.56828028],\n",
       "       [0.3450744 ],\n",
       "       [0.44019589],\n",
       "       [0.63797325],\n",
       "       [0.4684498 ],\n",
       "       [0.41382558],\n",
       "       [0.41005839],\n",
       "       [0.56545489],\n",
       "       [0.51930684],\n",
       "       [0.36296854],\n",
       "       [0.30834432],\n",
       "       [0.35072518],\n",
       "       [0.47598418],\n",
       "       [0.51553965],\n",
       "       [0.        ],\n",
       "       [0.38839706],\n",
       "       [0.33565643],\n",
       "       [0.25089471],\n",
       "       [0.33471464],\n",
       "       [0.44678847],\n",
       "       [0.23582596],\n",
       "       [0.2527783 ],\n",
       "       [0.42135995],\n",
       "       [0.43642871],\n",
       "       [0.57864005],\n",
       "       [0.28762479],\n",
       "       [0.61160294],\n",
       "       [0.42795253],\n",
       "       [0.39498964],\n",
       "       [0.42795253],\n",
       "       [0.47692597]])"
      ]
     },
     "execution_count": 58,
     "metadata": {},
     "output_type": "execute_result"
    }
   ],
   "source": [
    "m_mscaler=MinMaxScaler()\n",
    "Weight_scaler=m_mscaler.fit_transform(weight)\n",
    "Weight_scaler"
   ]
  },
  {
   "cell_type": "code",
   "execution_count": 65,
   "id": "a23c6429",
   "metadata": {},
   "outputs": [],
   "source": [
    "upper=Weight_scaler[Weight_scaler>0.5]\n",
    "lower=Weight_scaler[Weight_scaler<0.5]"
   ]
  },
  {
   "cell_type": "code",
   "execution_count": 72,
   "id": "2bae030a",
   "metadata": {},
   "outputs": [],
   "source": [
    "up_var=upper.var()\n",
    "low_var=lower.var()"
   ]
  },
  {
   "cell_type": "code",
   "execution_count": 74,
   "id": "af8b94d3",
   "metadata": {},
   "outputs": [
    {
     "data": {
      "text/plain": [
       "0.001"
      ]
     },
     "execution_count": 74,
     "metadata": {},
     "output_type": "execute_result"
    }
   ],
   "source": [
    "round(abs(up_var-low_var),3)"
   ]
  },
  {
   "cell_type": "markdown",
   "id": "bfc47b24",
   "metadata": {},
   "source": [
    "## 05. Cars93 데이터셋을 이용하여 Manufacturer, Origin 컬럼의 유일값 조합의 수와 Manufacturer컬럼의 앞 두글자만 추출한 결과와 Origin컬럼과의 유일값 조합 수의 차이를 구하여라(단, 원래 유일값 조합수에서 추출 이후 수를 뺄 것)"
   ]
  },
  {
   "cell_type": "markdown",
   "id": "a38185a1",
   "metadata": {},
   "source": [
    "### 방법1"
   ]
  },
  {
   "cell_type": "code",
   "execution_count": 117,
   "id": "f95b98cd",
   "metadata": {},
   "outputs": [],
   "source": [
    "df1=cars93[['Manufacturer','Origin']]"
   ]
  },
  {
   "cell_type": "code",
   "execution_count": 118,
   "id": "eca79fd3",
   "metadata": {},
   "outputs": [
    {
     "data": {
      "text/html": [
       "<div>\n",
       "<style scoped>\n",
       "    .dataframe tbody tr th:only-of-type {\n",
       "        vertical-align: middle;\n",
       "    }\n",
       "\n",
       "    .dataframe tbody tr th {\n",
       "        vertical-align: top;\n",
       "    }\n",
       "\n",
       "    .dataframe thead th {\n",
       "        text-align: right;\n",
       "    }\n",
       "</style>\n",
       "<table border=\"1\" class=\"dataframe\">\n",
       "  <thead>\n",
       "    <tr style=\"text-align: right;\">\n",
       "      <th></th>\n",
       "      <th>Manufacturer</th>\n",
       "      <th>Origin</th>\n",
       "    </tr>\n",
       "  </thead>\n",
       "  <tbody>\n",
       "    <tr>\n",
       "      <th>0</th>\n",
       "      <td>Acura</td>\n",
       "      <td>non-USA</td>\n",
       "    </tr>\n",
       "    <tr>\n",
       "      <th>1</th>\n",
       "      <td>Acura</td>\n",
       "      <td>non-USA</td>\n",
       "    </tr>\n",
       "    <tr>\n",
       "      <th>2</th>\n",
       "      <td>Audi</td>\n",
       "      <td>non-USA</td>\n",
       "    </tr>\n",
       "    <tr>\n",
       "      <th>3</th>\n",
       "      <td>Audi</td>\n",
       "      <td>non-USA</td>\n",
       "    </tr>\n",
       "    <tr>\n",
       "      <th>4</th>\n",
       "      <td>BMW</td>\n",
       "      <td>non-USA</td>\n",
       "    </tr>\n",
       "    <tr>\n",
       "      <th>...</th>\n",
       "      <td>...</td>\n",
       "      <td>...</td>\n",
       "    </tr>\n",
       "    <tr>\n",
       "      <th>88</th>\n",
       "      <td>Volkswagen</td>\n",
       "      <td>non-USA</td>\n",
       "    </tr>\n",
       "    <tr>\n",
       "      <th>89</th>\n",
       "      <td>Volkswagen</td>\n",
       "      <td>non-USA</td>\n",
       "    </tr>\n",
       "    <tr>\n",
       "      <th>90</th>\n",
       "      <td>Volkswagen</td>\n",
       "      <td>non-USA</td>\n",
       "    </tr>\n",
       "    <tr>\n",
       "      <th>91</th>\n",
       "      <td>Volvo</td>\n",
       "      <td>non-USA</td>\n",
       "    </tr>\n",
       "    <tr>\n",
       "      <th>92</th>\n",
       "      <td>Volvo</td>\n",
       "      <td>non-USA</td>\n",
       "    </tr>\n",
       "  </tbody>\n",
       "</table>\n",
       "<p>93 rows × 2 columns</p>\n",
       "</div>"
      ],
      "text/plain": [
       "   Manufacturer   Origin\n",
       "0         Acura  non-USA\n",
       "1         Acura  non-USA\n",
       "2          Audi  non-USA\n",
       "3          Audi  non-USA\n",
       "4           BMW  non-USA\n",
       "..          ...      ...\n",
       "88   Volkswagen  non-USA\n",
       "89   Volkswagen  non-USA\n",
       "90   Volkswagen  non-USA\n",
       "91        Volvo  non-USA\n",
       "92        Volvo  non-USA\n",
       "\n",
       "[93 rows x 2 columns]"
      ]
     },
     "execution_count": 118,
     "metadata": {},
     "output_type": "execute_result"
    }
   ],
   "source": [
    "df1"
   ]
  },
  {
   "cell_type": "code",
   "execution_count": 121,
   "id": "8c81ddc1",
   "metadata": {},
   "outputs": [],
   "source": [
    "df1_dup1=df1.drop_duplicates()"
   ]
  },
  {
   "cell_type": "code",
   "execution_count": 123,
   "id": "9698d897",
   "metadata": {},
   "outputs": [
    {
     "data": {
      "text/plain": [
       "32"
      ]
     },
     "execution_count": 123,
     "metadata": {},
     "output_type": "execute_result"
    }
   ],
   "source": [
    "len(df1_dup1)"
   ]
  },
  {
   "cell_type": "code",
   "execution_count": 91,
   "id": "7bb5c220",
   "metadata": {},
   "outputs": [],
   "source": [
    "str_2=[i[:2] for i in cars93['Manufacturer']]"
   ]
  },
  {
   "cell_type": "code",
   "execution_count": 119,
   "id": "b4aa7641",
   "metadata": {},
   "outputs": [
    {
     "name": "stderr",
     "output_type": "stream",
     "text": [
      "C:\\Users\\JungHun.DESKTOP-JRGUSS9\\AppData\\Local\\Temp\\ipykernel_13788\\3970711329.py:1: SettingWithCopyWarning: \n",
      "A value is trying to be set on a copy of a slice from a DataFrame.\n",
      "Try using .loc[row_indexer,col_indexer] = value instead\n",
      "\n",
      "See the caveats in the documentation: https://pandas.pydata.org/pandas-docs/stable/user_guide/indexing.html#returning-a-view-versus-a-copy\n",
      "  df1['str_2']=str_2\n"
     ]
    }
   ],
   "source": [
    "df1['str_2']=str_2"
   ]
  },
  {
   "cell_type": "code",
   "execution_count": 124,
   "id": "4705e0ee",
   "metadata": {},
   "outputs": [
    {
     "data": {
      "text/html": [
       "<div>\n",
       "<style scoped>\n",
       "    .dataframe tbody tr th:only-of-type {\n",
       "        vertical-align: middle;\n",
       "    }\n",
       "\n",
       "    .dataframe tbody tr th {\n",
       "        vertical-align: top;\n",
       "    }\n",
       "\n",
       "    .dataframe thead th {\n",
       "        text-align: right;\n",
       "    }\n",
       "</style>\n",
       "<table border=\"1\" class=\"dataframe\">\n",
       "  <thead>\n",
       "    <tr style=\"text-align: right;\">\n",
       "      <th></th>\n",
       "      <th>Manufacturer</th>\n",
       "      <th>Origin</th>\n",
       "      <th>str_2</th>\n",
       "    </tr>\n",
       "  </thead>\n",
       "  <tbody>\n",
       "    <tr>\n",
       "      <th>0</th>\n",
       "      <td>Acura</td>\n",
       "      <td>non-USA</td>\n",
       "      <td>Ac</td>\n",
       "    </tr>\n",
       "    <tr>\n",
       "      <th>1</th>\n",
       "      <td>Acura</td>\n",
       "      <td>non-USA</td>\n",
       "      <td>Ac</td>\n",
       "    </tr>\n",
       "    <tr>\n",
       "      <th>2</th>\n",
       "      <td>Audi</td>\n",
       "      <td>non-USA</td>\n",
       "      <td>Au</td>\n",
       "    </tr>\n",
       "    <tr>\n",
       "      <th>3</th>\n",
       "      <td>Audi</td>\n",
       "      <td>non-USA</td>\n",
       "      <td>Au</td>\n",
       "    </tr>\n",
       "    <tr>\n",
       "      <th>4</th>\n",
       "      <td>BMW</td>\n",
       "      <td>non-USA</td>\n",
       "      <td>BM</td>\n",
       "    </tr>\n",
       "    <tr>\n",
       "      <th>...</th>\n",
       "      <td>...</td>\n",
       "      <td>...</td>\n",
       "      <td>...</td>\n",
       "    </tr>\n",
       "    <tr>\n",
       "      <th>88</th>\n",
       "      <td>Volkswagen</td>\n",
       "      <td>non-USA</td>\n",
       "      <td>Vo</td>\n",
       "    </tr>\n",
       "    <tr>\n",
       "      <th>89</th>\n",
       "      <td>Volkswagen</td>\n",
       "      <td>non-USA</td>\n",
       "      <td>Vo</td>\n",
       "    </tr>\n",
       "    <tr>\n",
       "      <th>90</th>\n",
       "      <td>Volkswagen</td>\n",
       "      <td>non-USA</td>\n",
       "      <td>Vo</td>\n",
       "    </tr>\n",
       "    <tr>\n",
       "      <th>91</th>\n",
       "      <td>Volvo</td>\n",
       "      <td>non-USA</td>\n",
       "      <td>Vo</td>\n",
       "    </tr>\n",
       "    <tr>\n",
       "      <th>92</th>\n",
       "      <td>Volvo</td>\n",
       "      <td>non-USA</td>\n",
       "      <td>Vo</td>\n",
       "    </tr>\n",
       "  </tbody>\n",
       "</table>\n",
       "<p>93 rows × 3 columns</p>\n",
       "</div>"
      ],
      "text/plain": [
       "   Manufacturer   Origin str_2\n",
       "0         Acura  non-USA    Ac\n",
       "1         Acura  non-USA    Ac\n",
       "2          Audi  non-USA    Au\n",
       "3          Audi  non-USA    Au\n",
       "4           BMW  non-USA    BM\n",
       "..          ...      ...   ...\n",
       "88   Volkswagen  non-USA    Vo\n",
       "89   Volkswagen  non-USA    Vo\n",
       "90   Volkswagen  non-USA    Vo\n",
       "91        Volvo  non-USA    Vo\n",
       "92        Volvo  non-USA    Vo\n",
       "\n",
       "[93 rows x 3 columns]"
      ]
     },
     "execution_count": 124,
     "metadata": {},
     "output_type": "execute_result"
    }
   ],
   "source": [
    "df1"
   ]
  },
  {
   "cell_type": "code",
   "execution_count": 128,
   "id": "ac2a9470",
   "metadata": {},
   "outputs": [],
   "source": [
    "df1_dup2=df1[['str_2','Origin']].drop_duplicates()"
   ]
  },
  {
   "cell_type": "code",
   "execution_count": 130,
   "id": "b1665405",
   "metadata": {},
   "outputs": [
    {
     "data": {
      "text/plain": [
       "28"
      ]
     },
     "execution_count": 130,
     "metadata": {},
     "output_type": "execute_result"
    }
   ],
   "source": [
    "len(df1_dup2)"
   ]
  },
  {
   "cell_type": "code",
   "execution_count": 131,
   "id": "1658a3a4",
   "metadata": {},
   "outputs": [
    {
     "data": {
      "text/plain": [
       "4"
      ]
     },
     "execution_count": 131,
     "metadata": {},
     "output_type": "execute_result"
    }
   ],
   "source": [
    "len(df1_dup1)-len(df1_dup2)"
   ]
  },
  {
   "cell_type": "markdown",
   "id": "4b85946f",
   "metadata": {},
   "source": [
    "### 방법2"
   ]
  },
  {
   "cell_type": "code",
   "execution_count": 89,
   "id": "4a24aa97",
   "metadata": {},
   "outputs": [
    {
     "data": {
      "text/plain": [
       "32"
      ]
     },
     "execution_count": 89,
     "metadata": {},
     "output_type": "execute_result"
    }
   ],
   "source": [
    "# Manufacturer의 유일값 조합의 수\n",
    "unique_M=len(set(cars93['Manufacturer']))\n",
    "unique_M"
   ]
  },
  {
   "cell_type": "code",
   "execution_count": 90,
   "id": "e262f9f5",
   "metadata": {},
   "outputs": [
    {
     "data": {
      "text/plain": [
       "2"
      ]
     },
     "execution_count": 90,
     "metadata": {},
     "output_type": "execute_result"
    }
   ],
   "source": [
    "# Origin의 유일값 조합의 수\n",
    "unique_O=len(set(cars93['Origin']))\n",
    "unique_O"
   ]
  },
  {
   "cell_type": "code",
   "execution_count": 109,
   "id": "93d95089",
   "metadata": {},
   "outputs": [],
   "source": [
    "unique_str=len(set(str_2))"
   ]
  },
  {
   "cell_type": "code",
   "execution_count": 113,
   "id": "b8cc1332",
   "metadata": {},
   "outputs": [
    {
     "data": {
      "text/plain": [
       "4"
      ]
     },
     "execution_count": 113,
     "metadata": {},
     "output_type": "execute_result"
    }
   ],
   "source": [
    "unique_M-unique_str-unique_O"
   ]
  },
  {
   "cell_type": "markdown",
   "id": "2ab9edf4",
   "metadata": {},
   "source": [
    "## 06. Cars93 데이터셋을 이용하여 컬럼 Type,Man_trans_avail에 대한 그룹별 RPM 레코드 수와 RPM 합계, 중앙값을 모두 구한 후, 그룹별 중앙값에서 그룹별 합계에서 레코드 수를 나눈 값들을 빼서 나온 결과의 총 원소의 합을 구하여라(단, 출력시 소수점은 첫째 자리에서 반올림하여 표현할 것)"
   ]
  },
  {
   "cell_type": "code",
   "execution_count": 143,
   "id": "4c4032ad",
   "metadata": {},
   "outputs": [],
   "source": [
    "pivot=pd.pivot_table(cars93,index=['Type','Man_trans_avail'],values=['RPM'],aggfunc=['count','sum','median'])"
   ]
  },
  {
   "cell_type": "code",
   "execution_count": 156,
   "id": "28b4ca40",
   "metadata": {},
   "outputs": [
    {
     "data": {
      "text/plain": [
       "442.0"
      ]
     },
     "execution_count": 156,
     "metadata": {},
     "output_type": "execute_result"
    }
   ],
   "source": [
    "round((pivot['median']-(pivot['sum']/pivot['count'])).sum(),0)[0]"
   ]
  },
  {
   "cell_type": "markdown",
   "id": "128aecef",
   "metadata": {},
   "source": [
    "## 07. Cars93 데이터셋을 이용하여 RPM 컬럼의 결측치를 평균으로 대체하고 RPM와 Wheelbase컬럼을 각각 z-점수 표준화한 후 표준화된 Wheelbase에 상수 -36을 곱한 값과 표준화된 RPM컬럼의 차이값을 구하고 표준편차를 산출하여라.(단, 소수점 셋째 자리까지 반올림하여 표현할 것)"
   ]
  },
  {
   "cell_type": "code",
   "execution_count": 186,
   "id": "67372a43",
   "metadata": {},
   "outputs": [
    {
     "data": {
      "text/plain": [
       "Manufacturer           0\n",
       "Model                  0\n",
       "Type                   0\n",
       "Min_Price              0\n",
       "Price                  9\n",
       "Max_Price              0\n",
       "MPG_city               0\n",
       "MPG_highway            0\n",
       "AirBags                0\n",
       "DriveTrain             0\n",
       "Cylinders              0\n",
       "EngineSize             0\n",
       "Horsepower             0\n",
       "RPM                    4\n",
       "Rev_per_mile           0\n",
       "Man_trans_avail        0\n",
       "Fuel_tank_capacity     0\n",
       "Passengers             0\n",
       "Length                 0\n",
       "Wheelbase              0\n",
       "Width                  0\n",
       "Turn_circle           13\n",
       "Rear_seat_room         2\n",
       "Luggage_room          11\n",
       "Weight                 0\n",
       "Origin                 0\n",
       "Unnamed: 26            0\n",
       "Make                   0\n",
       "dtype: int64"
      ]
     },
     "execution_count": 186,
     "metadata": {},
     "output_type": "execute_result"
    }
   ],
   "source": [
    "cars93.isnull().sum()"
   ]
  },
  {
   "cell_type": "code",
   "execution_count": 187,
   "id": "732469b3",
   "metadata": {},
   "outputs": [],
   "source": [
    "cars93['RPM'].fillna(cars93['RPM'].mean(),inplace=True)"
   ]
  },
  {
   "cell_type": "code",
   "execution_count": 188,
   "id": "3116b62f",
   "metadata": {},
   "outputs": [
    {
     "data": {
      "text/plain": [
       "Manufacturer           0\n",
       "Model                  0\n",
       "Type                   0\n",
       "Min_Price              0\n",
       "Price                  9\n",
       "Max_Price              0\n",
       "MPG_city               0\n",
       "MPG_highway            0\n",
       "AirBags                0\n",
       "DriveTrain             0\n",
       "Cylinders              0\n",
       "EngineSize             0\n",
       "Horsepower             0\n",
       "RPM                    0\n",
       "Rev_per_mile           0\n",
       "Man_trans_avail        0\n",
       "Fuel_tank_capacity     0\n",
       "Passengers             0\n",
       "Length                 0\n",
       "Wheelbase              0\n",
       "Width                  0\n",
       "Turn_circle           13\n",
       "Rear_seat_room         2\n",
       "Luggage_room          11\n",
       "Weight                 0\n",
       "Origin                 0\n",
       "Unnamed: 26            0\n",
       "Make                   0\n",
       "dtype: int64"
      ]
     },
     "execution_count": 188,
     "metadata": {},
     "output_type": "execute_result"
    }
   ],
   "source": [
    "cars93.isnull().sum()"
   ]
  },
  {
   "cell_type": "code",
   "execution_count": 189,
   "id": "46ed9669",
   "metadata": {},
   "outputs": [],
   "source": [
    "from sklearn.preprocessing import StandardScaler"
   ]
  },
  {
   "cell_type": "code",
   "execution_count": 195,
   "id": "c8bdd668",
   "metadata": {},
   "outputs": [],
   "source": [
    "st1=StandardScaler()\n",
    "RPM_st=st1.fit_transform(cars93[['RPM']])"
   ]
  },
  {
   "cell_type": "code",
   "execution_count": 202,
   "id": "9b60c15f",
   "metadata": {},
   "outputs": [],
   "source": [
    "st2=StandardScaler()\n",
    "Wb_st=st2.fit_transform(cars93[['Wheelbase']])"
   ]
  },
  {
   "cell_type": "code",
   "execution_count": 231,
   "id": "ad5cfb96",
   "metadata": {},
   "outputs": [],
   "source": [
    "diff=Wb_st*-36-RPM_st"
   ]
  },
  {
   "cell_type": "code",
   "execution_count": 233,
   "id": "ba96a15e",
   "metadata": {
    "scrolled": true
   },
   "outputs": [
    {
     "data": {
      "text/plain": [
       "35.561"
      ]
     },
     "execution_count": 233,
     "metadata": {},
     "output_type": "execute_result"
    }
   ],
   "source": [
    "round(diff.std(),3)"
   ]
  },
  {
   "cell_type": "markdown",
   "id": "cd8b400a",
   "metadata": {},
   "source": [
    "## 08. Cars93 데이터셋을 이용하여 먼저, Price 컬럼의 결측치를 평균으로 대체하고, Max_Price 변수와 Min_Price의 평균보다 작은 레코드만 추출해 산출된 Origin 그룹별 Price의 합계를 구하고 다음으로 Price 컬럼의 결측치를 중앙값으로 대체하고 Price 컬럼이 Min_Price컬럼의 제 3사분위수보다 작은 레코드만을 추출해 산출된 Origin별 Price의 합계를 Origin 그룹별로 합한 후 큰 값을 출력하여라(단, 소수점 이하는 모두 절삭하여 정수로 표현할 것)"
   ]
  },
  {
   "cell_type": "markdown",
   "id": "99295cab",
   "metadata": {},
   "source": [
    "### 08_1"
   ]
  },
  {
   "cell_type": "code",
   "execution_count": 11,
   "id": "52671c27",
   "metadata": {},
   "outputs": [],
   "source": [
    "cars08=cars93.copy()"
   ]
  },
  {
   "cell_type": "code",
   "execution_count": 20,
   "id": "eb787b5d",
   "metadata": {},
   "outputs": [
    {
     "data": {
      "text/html": [
       "<div>\n",
       "<style scoped>\n",
       "    .dataframe tbody tr th:only-of-type {\n",
       "        vertical-align: middle;\n",
       "    }\n",
       "\n",
       "    .dataframe tbody tr th {\n",
       "        vertical-align: top;\n",
       "    }\n",
       "\n",
       "    .dataframe thead th {\n",
       "        text-align: right;\n",
       "    }\n",
       "</style>\n",
       "<table border=\"1\" class=\"dataframe\">\n",
       "  <thead>\n",
       "    <tr style=\"text-align: right;\">\n",
       "      <th></th>\n",
       "      <th>Manufacturer</th>\n",
       "      <th>Model</th>\n",
       "      <th>Type</th>\n",
       "      <th>Min_Price</th>\n",
       "      <th>Price</th>\n",
       "      <th>Max_Price</th>\n",
       "      <th>MPG_city</th>\n",
       "      <th>MPG_highway</th>\n",
       "      <th>AirBags</th>\n",
       "      <th>DriveTrain</th>\n",
       "      <th>...</th>\n",
       "      <th>Length</th>\n",
       "      <th>Wheelbase</th>\n",
       "      <th>Width</th>\n",
       "      <th>Turn_circle</th>\n",
       "      <th>Rear_seat_room</th>\n",
       "      <th>Luggage_room</th>\n",
       "      <th>Weight</th>\n",
       "      <th>Origin</th>\n",
       "      <th>Unnamed: 26</th>\n",
       "      <th>Make</th>\n",
       "    </tr>\n",
       "  </thead>\n",
       "  <tbody>\n",
       "    <tr>\n",
       "      <th>0</th>\n",
       "      <td>Acura</td>\n",
       "      <td>Integra</td>\n",
       "      <td>Small</td>\n",
       "      <td>12.9</td>\n",
       "      <td>15.900000</td>\n",
       "      <td>18.8</td>\n",
       "      <td>25</td>\n",
       "      <td>31</td>\n",
       "      <td>None</td>\n",
       "      <td>Front</td>\n",
       "      <td>...</td>\n",
       "      <td>177</td>\n",
       "      <td>102</td>\n",
       "      <td>68</td>\n",
       "      <td>37.0</td>\n",
       "      <td>26.5</td>\n",
       "      <td>11.0</td>\n",
       "      <td>2705</td>\n",
       "      <td>non-USA</td>\n",
       "      <td>0</td>\n",
       "      <td>Acura Integra</td>\n",
       "    </tr>\n",
       "    <tr>\n",
       "      <th>1</th>\n",
       "      <td>Acura</td>\n",
       "      <td>Legend</td>\n",
       "      <td>Midsize</td>\n",
       "      <td>29.2</td>\n",
       "      <td>33.900000</td>\n",
       "      <td>38.7</td>\n",
       "      <td>18</td>\n",
       "      <td>25</td>\n",
       "      <td>Driver &amp; Passenger</td>\n",
       "      <td>Front</td>\n",
       "      <td>...</td>\n",
       "      <td>195</td>\n",
       "      <td>115</td>\n",
       "      <td>71</td>\n",
       "      <td>38.0</td>\n",
       "      <td>30.0</td>\n",
       "      <td>15.0</td>\n",
       "      <td>3560</td>\n",
       "      <td>non-USA</td>\n",
       "      <td>1</td>\n",
       "      <td>Acura Legend</td>\n",
       "    </tr>\n",
       "    <tr>\n",
       "      <th>2</th>\n",
       "      <td>Audi</td>\n",
       "      <td>90</td>\n",
       "      <td>Compact</td>\n",
       "      <td>25.9</td>\n",
       "      <td>29.100000</td>\n",
       "      <td>32.3</td>\n",
       "      <td>20</td>\n",
       "      <td>26</td>\n",
       "      <td>Driver only</td>\n",
       "      <td>Front</td>\n",
       "      <td>...</td>\n",
       "      <td>180</td>\n",
       "      <td>102</td>\n",
       "      <td>67</td>\n",
       "      <td>37.0</td>\n",
       "      <td>28.0</td>\n",
       "      <td>14.0</td>\n",
       "      <td>3375</td>\n",
       "      <td>non-USA</td>\n",
       "      <td>2</td>\n",
       "      <td>Audi 90</td>\n",
       "    </tr>\n",
       "    <tr>\n",
       "      <th>3</th>\n",
       "      <td>Audi</td>\n",
       "      <td>100</td>\n",
       "      <td>Midsize</td>\n",
       "      <td>30.8</td>\n",
       "      <td>19.047619</td>\n",
       "      <td>44.6</td>\n",
       "      <td>19</td>\n",
       "      <td>26</td>\n",
       "      <td>Driver &amp; Passenger</td>\n",
       "      <td>Front</td>\n",
       "      <td>...</td>\n",
       "      <td>193</td>\n",
       "      <td>106</td>\n",
       "      <td>70</td>\n",
       "      <td>NaN</td>\n",
       "      <td>31.0</td>\n",
       "      <td>17.0</td>\n",
       "      <td>3405</td>\n",
       "      <td>non-USA</td>\n",
       "      <td>3</td>\n",
       "      <td>Audi 100</td>\n",
       "    </tr>\n",
       "    <tr>\n",
       "      <th>4</th>\n",
       "      <td>BMW</td>\n",
       "      <td>535i</td>\n",
       "      <td>Midsize</td>\n",
       "      <td>23.7</td>\n",
       "      <td>19.047619</td>\n",
       "      <td>36.2</td>\n",
       "      <td>22</td>\n",
       "      <td>30</td>\n",
       "      <td>Driver only</td>\n",
       "      <td>Rear</td>\n",
       "      <td>...</td>\n",
       "      <td>186</td>\n",
       "      <td>109</td>\n",
       "      <td>69</td>\n",
       "      <td>NaN</td>\n",
       "      <td>27.0</td>\n",
       "      <td>13.0</td>\n",
       "      <td>3640</td>\n",
       "      <td>non-USA</td>\n",
       "      <td>4</td>\n",
       "      <td>BMW 535i</td>\n",
       "    </tr>\n",
       "  </tbody>\n",
       "</table>\n",
       "<p>5 rows × 28 columns</p>\n",
       "</div>"
      ],
      "text/plain": [
       "  Manufacturer    Model     Type  Min_Price      Price  Max_Price  MPG_city  \\\n",
       "0        Acura  Integra    Small       12.9  15.900000       18.8        25   \n",
       "1        Acura   Legend  Midsize       29.2  33.900000       38.7        18   \n",
       "2         Audi       90  Compact       25.9  29.100000       32.3        20   \n",
       "3         Audi      100  Midsize       30.8  19.047619       44.6        19   \n",
       "4          BMW     535i  Midsize       23.7  19.047619       36.2        22   \n",
       "\n",
       "   MPG_highway             AirBags DriveTrain  ... Length  Wheelbase  Width  \\\n",
       "0           31                None      Front  ...    177        102     68   \n",
       "1           25  Driver & Passenger      Front  ...    195        115     71   \n",
       "2           26         Driver only      Front  ...    180        102     67   \n",
       "3           26  Driver & Passenger      Front  ...    193        106     70   \n",
       "4           30         Driver only       Rear  ...    186        109     69   \n",
       "\n",
       "   Turn_circle  Rear_seat_room Luggage_room  Weight   Origin  Unnamed: 26  \\\n",
       "0         37.0            26.5         11.0    2705  non-USA            0   \n",
       "1         38.0            30.0         15.0    3560  non-USA            1   \n",
       "2         37.0            28.0         14.0    3375  non-USA            2   \n",
       "3          NaN            31.0         17.0    3405  non-USA            3   \n",
       "4          NaN            27.0         13.0    3640  non-USA            4   \n",
       "\n",
       "            Make  \n",
       "0  Acura Integra  \n",
       "1   Acura Legend  \n",
       "2        Audi 90  \n",
       "3       Audi 100  \n",
       "4       BMW 535i  \n",
       "\n",
       "[5 rows x 28 columns]"
      ]
     },
     "execution_count": 20,
     "metadata": {},
     "output_type": "execute_result"
    }
   ],
   "source": [
    "cars08.head()"
   ]
  },
  {
   "cell_type": "code",
   "execution_count": 13,
   "id": "e57a8db3",
   "metadata": {},
   "outputs": [],
   "source": [
    "cars08['Price'].fillna(cars08['Price'].mean(),inplace=True)"
   ]
  },
  {
   "cell_type": "code",
   "execution_count": 14,
   "id": "d09dd485",
   "metadata": {},
   "outputs": [
    {
     "data": {
      "text/plain": [
       "0     15.900000\n",
       "1     33.900000\n",
       "2     29.100000\n",
       "3     19.047619\n",
       "4     19.047619\n",
       "        ...    \n",
       "88    19.700000\n",
       "89    20.000000\n",
       "90    23.300000\n",
       "91    22.700000\n",
       "92    26.700000\n",
       "Name: Price, Length: 93, dtype: float64"
      ]
     },
     "execution_count": 14,
     "metadata": {},
     "output_type": "execute_result"
    }
   ],
   "source": [
    "cars08['Price']"
   ]
  },
  {
   "cell_type": "code",
   "execution_count": 15,
   "id": "4d4a4355",
   "metadata": {},
   "outputs": [
    {
     "data": {
      "text/plain": [
       "Manufacturer           0\n",
       "Model                  0\n",
       "Type                   0\n",
       "Min_Price              0\n",
       "Price                  0\n",
       "Max_Price              0\n",
       "MPG_city               0\n",
       "MPG_highway            0\n",
       "AirBags                0\n",
       "DriveTrain             0\n",
       "Cylinders              0\n",
       "EngineSize             0\n",
       "Horsepower             0\n",
       "RPM                    4\n",
       "Rev_per_mile           0\n",
       "Man_trans_avail        0\n",
       "Fuel_tank_capacity     0\n",
       "Passengers             0\n",
       "Length                 0\n",
       "Wheelbase              0\n",
       "Width                  0\n",
       "Turn_circle           13\n",
       "Rear_seat_room         2\n",
       "Luggage_room          11\n",
       "Weight                 0\n",
       "Origin                 0\n",
       "Unnamed: 26            0\n",
       "Make                   0\n",
       "dtype: int64"
      ]
     },
     "execution_count": 15,
     "metadata": {},
     "output_type": "execute_result"
    }
   ],
   "source": [
    "cars08.isnull().sum()"
   ]
  },
  {
   "cell_type": "code",
   "execution_count": 16,
   "id": "2d132a4c",
   "metadata": {},
   "outputs": [],
   "source": [
    "avg_mm=cars08[['Max_Price','Min_Price']].mean(axis=1)"
   ]
  },
  {
   "cell_type": "code",
   "execution_count": 17,
   "id": "3e1bdab2",
   "metadata": {
    "scrolled": true
   },
   "outputs": [
    {
     "data": {
      "text/plain": [
       "0     15.85\n",
       "1     33.95\n",
       "2     29.10\n",
       "3     37.70\n",
       "4     29.95\n",
       "      ...  \n",
       "88    19.65\n",
       "89    20.00\n",
       "90    23.30\n",
       "91    22.65\n",
       "92    26.65\n",
       "Length: 93, dtype: float64"
      ]
     },
     "execution_count": 17,
     "metadata": {},
     "output_type": "execute_result"
    }
   ],
   "source": [
    "avg_mm"
   ]
  },
  {
   "cell_type": "code",
   "execution_count": 21,
   "id": "8931109f",
   "metadata": {},
   "outputs": [],
   "source": [
    "df2=cars08[cars08['Price']<avg_mm]"
   ]
  },
  {
   "cell_type": "markdown",
   "id": "e62de5be",
   "metadata": {},
   "source": [
    "### 답"
   ]
  },
  {
   "cell_type": "code",
   "execution_count": 45,
   "id": "a2e54554",
   "metadata": {},
   "outputs": [
    {
     "data": {
      "text/plain": [
       "Origin\n",
       "USA        277.138095\n",
       "non-USA    262.595238\n",
       "Name: Price, dtype: float64"
      ]
     },
     "execution_count": 45,
     "metadata": {},
     "output_type": "execute_result"
    }
   ],
   "source": [
    "df2_sum=df2.groupby('Origin')['Price'].sum()\n",
    "df2_sum"
   ]
  },
  {
   "cell_type": "markdown",
   "id": "3d6df20a",
   "metadata": {},
   "source": [
    "### 08_2"
   ]
  },
  {
   "cell_type": "code",
   "execution_count": 25,
   "id": "94eaa893",
   "metadata": {},
   "outputs": [],
   "source": [
    "cars08_2=cars93.copy()"
   ]
  },
  {
   "cell_type": "code",
   "execution_count": 26,
   "id": "a720b441",
   "metadata": {},
   "outputs": [],
   "source": [
    "cars08_2['Price'].fillna(cars08_2['Price'].median(),inplace=True)"
   ]
  },
  {
   "cell_type": "code",
   "execution_count": 27,
   "id": "8e4248cb",
   "metadata": {},
   "outputs": [
    {
     "data": {
      "text/html": [
       "<div>\n",
       "<style scoped>\n",
       "    .dataframe tbody tr th:only-of-type {\n",
       "        vertical-align: middle;\n",
       "    }\n",
       "\n",
       "    .dataframe tbody tr th {\n",
       "        vertical-align: top;\n",
       "    }\n",
       "\n",
       "    .dataframe thead th {\n",
       "        text-align: right;\n",
       "    }\n",
       "</style>\n",
       "<table border=\"1\" class=\"dataframe\">\n",
       "  <thead>\n",
       "    <tr style=\"text-align: right;\">\n",
       "      <th></th>\n",
       "      <th>Manufacturer</th>\n",
       "      <th>Model</th>\n",
       "      <th>Type</th>\n",
       "      <th>Min_Price</th>\n",
       "      <th>Price</th>\n",
       "      <th>Max_Price</th>\n",
       "      <th>MPG_city</th>\n",
       "      <th>MPG_highway</th>\n",
       "      <th>AirBags</th>\n",
       "      <th>DriveTrain</th>\n",
       "      <th>...</th>\n",
       "      <th>Length</th>\n",
       "      <th>Wheelbase</th>\n",
       "      <th>Width</th>\n",
       "      <th>Turn_circle</th>\n",
       "      <th>Rear_seat_room</th>\n",
       "      <th>Luggage_room</th>\n",
       "      <th>Weight</th>\n",
       "      <th>Origin</th>\n",
       "      <th>Unnamed: 26</th>\n",
       "      <th>Make</th>\n",
       "    </tr>\n",
       "  </thead>\n",
       "  <tbody>\n",
       "    <tr>\n",
       "      <th>0</th>\n",
       "      <td>Acura</td>\n",
       "      <td>Integra</td>\n",
       "      <td>Small</td>\n",
       "      <td>12.9</td>\n",
       "      <td>15.90</td>\n",
       "      <td>18.8</td>\n",
       "      <td>25</td>\n",
       "      <td>31</td>\n",
       "      <td>None</td>\n",
       "      <td>Front</td>\n",
       "      <td>...</td>\n",
       "      <td>177</td>\n",
       "      <td>102</td>\n",
       "      <td>68</td>\n",
       "      <td>37.0</td>\n",
       "      <td>26.5</td>\n",
       "      <td>11.0</td>\n",
       "      <td>2705</td>\n",
       "      <td>non-USA</td>\n",
       "      <td>0</td>\n",
       "      <td>Acura Integra</td>\n",
       "    </tr>\n",
       "    <tr>\n",
       "      <th>1</th>\n",
       "      <td>Acura</td>\n",
       "      <td>Legend</td>\n",
       "      <td>Midsize</td>\n",
       "      <td>29.2</td>\n",
       "      <td>33.90</td>\n",
       "      <td>38.7</td>\n",
       "      <td>18</td>\n",
       "      <td>25</td>\n",
       "      <td>Driver &amp; Passenger</td>\n",
       "      <td>Front</td>\n",
       "      <td>...</td>\n",
       "      <td>195</td>\n",
       "      <td>115</td>\n",
       "      <td>71</td>\n",
       "      <td>38.0</td>\n",
       "      <td>30.0</td>\n",
       "      <td>15.0</td>\n",
       "      <td>3560</td>\n",
       "      <td>non-USA</td>\n",
       "      <td>1</td>\n",
       "      <td>Acura Legend</td>\n",
       "    </tr>\n",
       "    <tr>\n",
       "      <th>2</th>\n",
       "      <td>Audi</td>\n",
       "      <td>90</td>\n",
       "      <td>Compact</td>\n",
       "      <td>25.9</td>\n",
       "      <td>29.10</td>\n",
       "      <td>32.3</td>\n",
       "      <td>20</td>\n",
       "      <td>26</td>\n",
       "      <td>Driver only</td>\n",
       "      <td>Front</td>\n",
       "      <td>...</td>\n",
       "      <td>180</td>\n",
       "      <td>102</td>\n",
       "      <td>67</td>\n",
       "      <td>37.0</td>\n",
       "      <td>28.0</td>\n",
       "      <td>14.0</td>\n",
       "      <td>3375</td>\n",
       "      <td>non-USA</td>\n",
       "      <td>2</td>\n",
       "      <td>Audi 90</td>\n",
       "    </tr>\n",
       "    <tr>\n",
       "      <th>3</th>\n",
       "      <td>Audi</td>\n",
       "      <td>100</td>\n",
       "      <td>Midsize</td>\n",
       "      <td>30.8</td>\n",
       "      <td>16.55</td>\n",
       "      <td>44.6</td>\n",
       "      <td>19</td>\n",
       "      <td>26</td>\n",
       "      <td>Driver &amp; Passenger</td>\n",
       "      <td>Front</td>\n",
       "      <td>...</td>\n",
       "      <td>193</td>\n",
       "      <td>106</td>\n",
       "      <td>70</td>\n",
       "      <td>NaN</td>\n",
       "      <td>31.0</td>\n",
       "      <td>17.0</td>\n",
       "      <td>3405</td>\n",
       "      <td>non-USA</td>\n",
       "      <td>3</td>\n",
       "      <td>Audi 100</td>\n",
       "    </tr>\n",
       "    <tr>\n",
       "      <th>4</th>\n",
       "      <td>BMW</td>\n",
       "      <td>535i</td>\n",
       "      <td>Midsize</td>\n",
       "      <td>23.7</td>\n",
       "      <td>16.55</td>\n",
       "      <td>36.2</td>\n",
       "      <td>22</td>\n",
       "      <td>30</td>\n",
       "      <td>Driver only</td>\n",
       "      <td>Rear</td>\n",
       "      <td>...</td>\n",
       "      <td>186</td>\n",
       "      <td>109</td>\n",
       "      <td>69</td>\n",
       "      <td>NaN</td>\n",
       "      <td>27.0</td>\n",
       "      <td>13.0</td>\n",
       "      <td>3640</td>\n",
       "      <td>non-USA</td>\n",
       "      <td>4</td>\n",
       "      <td>BMW 535i</td>\n",
       "    </tr>\n",
       "    <tr>\n",
       "      <th>...</th>\n",
       "      <td>...</td>\n",
       "      <td>...</td>\n",
       "      <td>...</td>\n",
       "      <td>...</td>\n",
       "      <td>...</td>\n",
       "      <td>...</td>\n",
       "      <td>...</td>\n",
       "      <td>...</td>\n",
       "      <td>...</td>\n",
       "      <td>...</td>\n",
       "      <td>...</td>\n",
       "      <td>...</td>\n",
       "      <td>...</td>\n",
       "      <td>...</td>\n",
       "      <td>...</td>\n",
       "      <td>...</td>\n",
       "      <td>...</td>\n",
       "      <td>...</td>\n",
       "      <td>...</td>\n",
       "      <td>...</td>\n",
       "      <td>...</td>\n",
       "    </tr>\n",
       "    <tr>\n",
       "      <th>88</th>\n",
       "      <td>Volkswagen</td>\n",
       "      <td>Eurovan</td>\n",
       "      <td>Van</td>\n",
       "      <td>16.6</td>\n",
       "      <td>19.70</td>\n",
       "      <td>22.7</td>\n",
       "      <td>17</td>\n",
       "      <td>21</td>\n",
       "      <td>None</td>\n",
       "      <td>Front</td>\n",
       "      <td>...</td>\n",
       "      <td>187</td>\n",
       "      <td>115</td>\n",
       "      <td>72</td>\n",
       "      <td>38.0</td>\n",
       "      <td>34.0</td>\n",
       "      <td>NaN</td>\n",
       "      <td>3960</td>\n",
       "      <td>non-USA</td>\n",
       "      <td>88</td>\n",
       "      <td>Volkswagen Eurovan</td>\n",
       "    </tr>\n",
       "    <tr>\n",
       "      <th>89</th>\n",
       "      <td>Volkswagen</td>\n",
       "      <td>Passat</td>\n",
       "      <td>Compact</td>\n",
       "      <td>17.6</td>\n",
       "      <td>20.00</td>\n",
       "      <td>22.4</td>\n",
       "      <td>21</td>\n",
       "      <td>30</td>\n",
       "      <td>None</td>\n",
       "      <td>Front</td>\n",
       "      <td>...</td>\n",
       "      <td>180</td>\n",
       "      <td>103</td>\n",
       "      <td>67</td>\n",
       "      <td>NaN</td>\n",
       "      <td>31.5</td>\n",
       "      <td>14.0</td>\n",
       "      <td>2985</td>\n",
       "      <td>non-USA</td>\n",
       "      <td>89</td>\n",
       "      <td>Volkswagen Passat</td>\n",
       "    </tr>\n",
       "    <tr>\n",
       "      <th>90</th>\n",
       "      <td>Volkswagen</td>\n",
       "      <td>Corrado</td>\n",
       "      <td>Sporty</td>\n",
       "      <td>22.9</td>\n",
       "      <td>23.30</td>\n",
       "      <td>23.7</td>\n",
       "      <td>18</td>\n",
       "      <td>25</td>\n",
       "      <td>None</td>\n",
       "      <td>Front</td>\n",
       "      <td>...</td>\n",
       "      <td>159</td>\n",
       "      <td>97</td>\n",
       "      <td>66</td>\n",
       "      <td>36.0</td>\n",
       "      <td>26.0</td>\n",
       "      <td>15.0</td>\n",
       "      <td>2810</td>\n",
       "      <td>non-USA</td>\n",
       "      <td>90</td>\n",
       "      <td>Volkswagen Corrado</td>\n",
       "    </tr>\n",
       "    <tr>\n",
       "      <th>91</th>\n",
       "      <td>Volvo</td>\n",
       "      <td>240</td>\n",
       "      <td>Compact</td>\n",
       "      <td>21.8</td>\n",
       "      <td>22.70</td>\n",
       "      <td>23.5</td>\n",
       "      <td>21</td>\n",
       "      <td>28</td>\n",
       "      <td>Driver only</td>\n",
       "      <td>Rear</td>\n",
       "      <td>...</td>\n",
       "      <td>190</td>\n",
       "      <td>104</td>\n",
       "      <td>67</td>\n",
       "      <td>37.0</td>\n",
       "      <td>29.5</td>\n",
       "      <td>14.0</td>\n",
       "      <td>2985</td>\n",
       "      <td>non-USA</td>\n",
       "      <td>91</td>\n",
       "      <td>Volvo 240</td>\n",
       "    </tr>\n",
       "    <tr>\n",
       "      <th>92</th>\n",
       "      <td>Volvo</td>\n",
       "      <td>850</td>\n",
       "      <td>Midsize</td>\n",
       "      <td>24.8</td>\n",
       "      <td>26.70</td>\n",
       "      <td>28.5</td>\n",
       "      <td>20</td>\n",
       "      <td>28</td>\n",
       "      <td>Driver &amp; Passenger</td>\n",
       "      <td>Front</td>\n",
       "      <td>...</td>\n",
       "      <td>184</td>\n",
       "      <td>105</td>\n",
       "      <td>69</td>\n",
       "      <td>38.0</td>\n",
       "      <td>30.0</td>\n",
       "      <td>15.0</td>\n",
       "      <td>3245</td>\n",
       "      <td>non-USA</td>\n",
       "      <td>92</td>\n",
       "      <td>Volvo 850</td>\n",
       "    </tr>\n",
       "  </tbody>\n",
       "</table>\n",
       "<p>93 rows × 28 columns</p>\n",
       "</div>"
      ],
      "text/plain": [
       "   Manufacturer    Model     Type  Min_Price  Price  Max_Price  MPG_city  \\\n",
       "0         Acura  Integra    Small       12.9  15.90       18.8        25   \n",
       "1         Acura   Legend  Midsize       29.2  33.90       38.7        18   \n",
       "2          Audi       90  Compact       25.9  29.10       32.3        20   \n",
       "3          Audi      100  Midsize       30.8  16.55       44.6        19   \n",
       "4           BMW     535i  Midsize       23.7  16.55       36.2        22   \n",
       "..          ...      ...      ...        ...    ...        ...       ...   \n",
       "88   Volkswagen  Eurovan      Van       16.6  19.70       22.7        17   \n",
       "89   Volkswagen   Passat  Compact       17.6  20.00       22.4        21   \n",
       "90   Volkswagen  Corrado   Sporty       22.9  23.30       23.7        18   \n",
       "91        Volvo      240  Compact       21.8  22.70       23.5        21   \n",
       "92        Volvo      850  Midsize       24.8  26.70       28.5        20   \n",
       "\n",
       "    MPG_highway             AirBags DriveTrain  ... Length  Wheelbase  Width  \\\n",
       "0            31                None      Front  ...    177        102     68   \n",
       "1            25  Driver & Passenger      Front  ...    195        115     71   \n",
       "2            26         Driver only      Front  ...    180        102     67   \n",
       "3            26  Driver & Passenger      Front  ...    193        106     70   \n",
       "4            30         Driver only       Rear  ...    186        109     69   \n",
       "..          ...                 ...        ...  ...    ...        ...    ...   \n",
       "88           21                None      Front  ...    187        115     72   \n",
       "89           30                None      Front  ...    180        103     67   \n",
       "90           25                None      Front  ...    159         97     66   \n",
       "91           28         Driver only       Rear  ...    190        104     67   \n",
       "92           28  Driver & Passenger      Front  ...    184        105     69   \n",
       "\n",
       "    Turn_circle  Rear_seat_room Luggage_room  Weight   Origin  Unnamed: 26  \\\n",
       "0          37.0            26.5         11.0    2705  non-USA            0   \n",
       "1          38.0            30.0         15.0    3560  non-USA            1   \n",
       "2          37.0            28.0         14.0    3375  non-USA            2   \n",
       "3           NaN            31.0         17.0    3405  non-USA            3   \n",
       "4           NaN            27.0         13.0    3640  non-USA            4   \n",
       "..          ...             ...          ...     ...      ...          ...   \n",
       "88         38.0            34.0          NaN    3960  non-USA           88   \n",
       "89          NaN            31.5         14.0    2985  non-USA           89   \n",
       "90         36.0            26.0         15.0    2810  non-USA           90   \n",
       "91         37.0            29.5         14.0    2985  non-USA           91   \n",
       "92         38.0            30.0         15.0    3245  non-USA           92   \n",
       "\n",
       "                  Make  \n",
       "0        Acura Integra  \n",
       "1         Acura Legend  \n",
       "2              Audi 90  \n",
       "3             Audi 100  \n",
       "4             BMW 535i  \n",
       "..                 ...  \n",
       "88  Volkswagen Eurovan  \n",
       "89   Volkswagen Passat  \n",
       "90  Volkswagen Corrado  \n",
       "91           Volvo 240  \n",
       "92           Volvo 850  \n",
       "\n",
       "[93 rows x 28 columns]"
      ]
     },
     "execution_count": 27,
     "metadata": {},
     "output_type": "execute_result"
    }
   ],
   "source": [
    "cars08_2"
   ]
  },
  {
   "cell_type": "code",
   "execution_count": 35,
   "id": "14a669ef",
   "metadata": {},
   "outputs": [],
   "source": [
    "q3_m=cars08_2['Min_Price'].quantile(0.75)"
   ]
  },
  {
   "cell_type": "code",
   "execution_count": 39,
   "id": "afd8778d",
   "metadata": {},
   "outputs": [],
   "source": [
    "df3=cars08_2[cars08_2['Price']<q3_m]"
   ]
  },
  {
   "cell_type": "markdown",
   "id": "9eb0db69",
   "metadata": {},
   "source": [
    "### 답"
   ]
  },
  {
   "cell_type": "code",
   "execution_count": 44,
   "id": "c7cd294c",
   "metadata": {},
   "outputs": [
    {
     "data": {
      "text/plain": [
       "Origin\n",
       "USA        579.70\n",
       "non-USA    424.35\n",
       "Name: Price, dtype: float64"
      ]
     },
     "execution_count": 44,
     "metadata": {},
     "output_type": "execute_result"
    }
   ],
   "source": [
    "df3_sum=df3.groupby('Origin')['Price'].sum()\n",
    "df3_sum"
   ]
  },
  {
   "cell_type": "markdown",
   "id": "1bcc8c37",
   "metadata": {},
   "source": [
    "### 08_3"
   ]
  },
  {
   "cell_type": "code",
   "execution_count": 53,
   "id": "edc497b3",
   "metadata": {},
   "outputs": [
    {
     "data": {
      "text/plain": [
       "(Origin\n",
       " USA        277.138095\n",
       " non-USA    262.595238\n",
       " Name: Price, dtype: float64,\n",
       " Origin\n",
       " USA        579.70\n",
       " non-USA    424.35\n",
       " Name: Price, dtype: float64)"
      ]
     },
     "execution_count": 53,
     "metadata": {},
     "output_type": "execute_result"
    }
   ],
   "source": [
    "df2_sum,df3_sum"
   ]
  },
  {
   "cell_type": "code",
   "execution_count": 55,
   "id": "87fbc47b",
   "metadata": {},
   "outputs": [
    {
     "name": "stdout",
     "output_type": "stream",
     "text": [
      "856\n"
     ]
    }
   ],
   "source": [
    "print(int(max(df2_sum+df3_sum)))"
   ]
  },
  {
   "cell_type": "markdown",
   "id": "7f5e9b52",
   "metadata": {},
   "source": [
    "## 09. Cars93 데이터셋에서 'Price' 컬럼은 'Min_Price'와 'Max_price'의 평균으로 알려져있다. 이와 같은 사실을 통해 'Price' 컬럼의 결측치의 원래 값을 계산한 후, 'Price'가 14.7보다 작거나 25.3보다 크면서 'Large' 타입인 레코드 수를 계산하여라"
   ]
  },
  {
   "cell_type": "code",
   "execution_count": 56,
   "id": "bc8f15f7",
   "metadata": {},
   "outputs": [],
   "source": [
    "cars09=cars93.copy()"
   ]
  },
  {
   "cell_type": "code",
   "execution_count": 57,
   "id": "418dcb58",
   "metadata": {},
   "outputs": [],
   "source": [
    "cars09['Price'].fillna(cars09[['Min_Price','Max_Price']].mean(axis=1),inplace=True)"
   ]
  },
  {
   "cell_type": "code",
   "execution_count": 60,
   "id": "498f4380",
   "metadata": {},
   "outputs": [],
   "source": [
    "df4=cars09[(cars09['Price']<14.7)|(cars09['Price']>25.3)&(cars09['Type']=='Large')]"
   ]
  },
  {
   "cell_type": "code",
   "execution_count": 61,
   "id": "dc88163b",
   "metadata": {},
   "outputs": [
    {
     "data": {
      "text/plain": [
       "35"
      ]
     },
     "execution_count": 61,
     "metadata": {},
     "output_type": "execute_result"
    }
   ],
   "source": [
    "len(df4)"
   ]
  },
  {
   "cell_type": "markdown",
   "id": "09a109c8",
   "metadata": {},
   "source": [
    "## 10. Cars93 데이터셋에서 'Make' 컬럼을 이용하여 제조사가 'Chevrolet','Pontiac','Hyundai'이면서 'Airbags'이 'Driver'에만 있는 경우의 레코드 수를 계산하여라."
   ]
  },
  {
   "cell_type": "code",
   "execution_count": 62,
   "id": "5a12effc",
   "metadata": {},
   "outputs": [],
   "source": [
    "cars10=cars93.copy()"
   ]
  },
  {
   "cell_type": "code",
   "execution_count": 69,
   "id": "06f9f359",
   "metadata": {},
   "outputs": [],
   "source": [
    "make=cars10['Make'].str.strip()"
   ]
  },
  {
   "cell_type": "code",
   "execution_count": 90,
   "id": "5140f9dd",
   "metadata": {},
   "outputs": [],
   "source": [
    "make2=make.str.startswith(('Chevrolet','Pontiac','Hyundai'))"
   ]
  },
  {
   "cell_type": "code",
   "execution_count": 112,
   "id": "485af103",
   "metadata": {},
   "outputs": [
    {
     "data": {
      "text/plain": [
       "0     False\n",
       "1     False\n",
       "2     False\n",
       "3     False\n",
       "4     False\n",
       "      ...  \n",
       "88    False\n",
       "89    False\n",
       "90    False\n",
       "91    False\n",
       "92    False\n",
       "Name: Make, Length: 93, dtype: bool"
      ]
     },
     "execution_count": 112,
     "metadata": {},
     "output_type": "execute_result"
    }
   ],
   "source": [
    "make2"
   ]
  },
  {
   "cell_type": "code",
   "execution_count": 84,
   "id": "25a10da7",
   "metadata": {},
   "outputs": [],
   "source": [
    "air=cars10['AirBags']=='Driver only'"
   ]
  },
  {
   "cell_type": "code",
   "execution_count": 113,
   "id": "566b776f",
   "metadata": {},
   "outputs": [
    {
     "data": {
      "text/plain": [
       "0     False\n",
       "1     False\n",
       "2      True\n",
       "3     False\n",
       "4      True\n",
       "      ...  \n",
       "88    False\n",
       "89    False\n",
       "90    False\n",
       "91     True\n",
       "92    False\n",
       "Name: AirBags, Length: 93, dtype: bool"
      ]
     },
     "execution_count": 113,
     "metadata": {},
     "output_type": "execute_result"
    }
   ],
   "source": [
    "air"
   ]
  },
  {
   "cell_type": "code",
   "execution_count": 119,
   "id": "103e8694",
   "metadata": {},
   "outputs": [
    {
     "name": "stdout",
     "output_type": "stream",
     "text": [
      "3\n"
     ]
    }
   ],
   "source": [
    "print(sum(make2&air))"
   ]
  }
 ],
 "metadata": {
  "kernelspec": {
   "display_name": "Python 3 (ipykernel)",
   "language": "python",
   "name": "python3"
  },
  "language_info": {
   "codemirror_mode": {
    "name": "ipython",
    "version": 3
   },
   "file_extension": ".py",
   "mimetype": "text/x-python",
   "name": "python",
   "nbconvert_exporter": "python",
   "pygments_lexer": "ipython3",
   "version": "3.9.12"
  }
 },
 "nbformat": 4,
 "nbformat_minor": 5
}
