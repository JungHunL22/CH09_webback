{
 "cells": [
  {
   "cell_type": "markdown",
   "metadata": {},
   "source": [
    "# 데이터 전처리"
   ]
  },
  {
   "cell_type": "markdown",
   "metadata": {},
   "source": [
    "## 넘파이로 데이터 준비하기"
   ]
  },
  {
   "cell_type": "code",
   "execution_count": 1,
   "metadata": {
    "colab": {},
    "colab_type": "code",
    "id": "SLUDuHl8oJZX"
   },
   "outputs": [],
   "source": [
    "fish_length = [25.4, 26.3, 26.5, 29.0, 29.0, 29.7, 29.7, 30.0, 30.0, 30.7, 31.0, 31.0, \n",
    "                31.5, 32.0, 32.0, 32.0, 33.0, 33.0, 33.5, 33.5, 34.0, 34.0, 34.5, 35.0, \n",
    "                35.0, 35.0, 35.0, 36.0, 36.0, 37.0, 38.5, 38.5, 39.5, 41.0, 41.0, 9.8, \n",
    "                10.5, 10.6, 11.0, 11.2, 11.3, 11.8, 11.8, 12.0, 12.2, 12.4, 13.0, 14.3, 15.0]\n",
    "fish_weight = [242.0, 290.0, 340.0, 363.0, 430.0, 450.0, 500.0, 390.0, 450.0, 500.0, 475.0, 500.0, \n",
    "                500.0, 340.0, 600.0, 600.0, 700.0, 700.0, 610.0, 650.0, 575.0, 685.0, 620.0, 680.0, \n",
    "                700.0, 725.0, 720.0, 714.0, 850.0, 1000.0, 920.0, 955.0, 925.0, 975.0, 950.0, 6.7, \n",
    "                7.5, 7.0, 9.7, 9.8, 8.7, 10.0, 9.9, 9.8, 12.2, 13.4, 12.2, 19.7, 19.9]"
   ]
  },
  {
   "cell_type": "code",
   "execution_count": 2,
   "metadata": {
    "colab": {},
    "colab_type": "code",
    "id": "0-OTt0n1LMjf"
   },
   "outputs": [],
   "source": [
    "import numpy as np"
   ]
  },
  {
   "cell_type": "markdown",
   "metadata": {
    "colab": {
     "base_uri": "https://localhost:8080/",
     "height": 69
    },
    "colab_type": "code",
    "executionInfo": {
     "elapsed": 1766,
     "status": "ok",
     "timestamp": 1586946244606,
     "user": {
      "displayName": "Haesun Park",
      "photoUrl": "https://lh3.googleusercontent.com/a-/AOh14GhsWlS7sKQL-9fIkg3FmxpTMz_u-KDSs8y__P1ngQ=s64",
      "userId": "14935388527648823821"
     },
     "user_tz": -540
    },
    "id": "zNlIVTw_lUIk",
    "outputId": "eddce28d-8e26-4519-af4d-e8316b7f1d06"
   },
   "source": [
    "**두 리스트 열방향으로 합치기: 2차원 배열로**"
   ]
  },
  {
   "cell_type": "code",
   "execution_count": 4,
   "metadata": {
    "colab": {},
    "colab_type": "code",
    "id": "ILMRbWnkLZVF"
   },
   "outputs": [],
   "source": [
    "fish_data=np.column_stack((fish_length,fish_weight))"
   ]
  },
  {
   "cell_type": "code",
   "execution_count": 5,
   "metadata": {
    "colab": {
     "base_uri": "https://localhost:8080/",
     "height": 104
    },
    "colab_type": "code",
    "executionInfo": {
     "elapsed": 1756,
     "status": "ok",
     "timestamp": 1586946244607,
     "user": {
      "displayName": "Haesun Park",
      "photoUrl": "https://lh3.googleusercontent.com/a-/AOh14GhsWlS7sKQL-9fIkg3FmxpTMz_u-KDSs8y__P1ngQ=s64",
      "userId": "14935388527648823821"
     },
     "user_tz": -540
    },
    "id": "qbyxwJkoLh5W",
    "outputId": "f68fa4de-dc57-4d01-d189-e862bf799956"
   },
   "outputs": [
    {
     "name": "stdout",
     "output_type": "stream",
     "text": [
      "[[ 25.4 242. ]\n",
      " [ 26.3 290. ]\n",
      " [ 26.5 340. ]\n",
      " [ 29.  363. ]\n",
      " [ 29.  430. ]]\n"
     ]
    }
   ],
   "source": [
    "print(fish_data[:5])"
   ]
  },
  {
   "cell_type": "markdown",
   "metadata": {},
   "source": [
    "**라벨 데이터**"
   ]
  },
  {
   "cell_type": "code",
   "execution_count": 8,
   "metadata": {
    "colab": {},
    "colab_type": "code",
    "id": "-ScgL2hIL0FB"
   },
   "outputs": [],
   "source": [
    "fish_target=np.concatenate((np.ones(35),np.zeros(14)))"
   ]
  },
  {
   "cell_type": "code",
   "execution_count": 9,
   "metadata": {
    "colab": {
     "base_uri": "https://localhost:8080/",
     "height": 69
    },
    "colab_type": "code",
    "executionInfo": {
     "elapsed": 1740,
     "status": "ok",
     "timestamp": 1586946244608,
     "user": {
      "displayName": "Haesun Park",
      "photoUrl": "https://lh3.googleusercontent.com/a-/AOh14GhsWlS7sKQL-9fIkg3FmxpTMz_u-KDSs8y__P1ngQ=s64",
      "userId": "14935388527648823821"
     },
     "user_tz": -540
    },
    "id": "ZepGdT9uL7tA",
    "outputId": "804be353-3d2a-4753-cb0b-1cbef617da45"
   },
   "outputs": [
    {
     "data": {
      "text/plain": [
       "array([1., 1., 1., 1., 1., 1., 1., 1., 1., 1., 1., 1., 1., 1., 1., 1., 1.,\n",
       "       1., 1., 1., 1., 1., 1., 1., 1., 1., 1., 1., 1., 1., 1., 1., 1., 1.,\n",
       "       1., 0., 0., 0., 0., 0., 0., 0., 0., 0., 0., 0., 0., 0., 0.])"
      ]
     },
     "execution_count": 9,
     "metadata": {},
     "output_type": "execute_result"
    }
   ],
   "source": [
    "fish_target"
   ]
  },
  {
   "cell_type": "markdown",
   "metadata": {},
   "source": [
    "## 사이킷런으로 훈련 데이터와 테스트 데이터 나누기"
   ]
  },
  {
   "cell_type": "code",
   "execution_count": 10,
   "metadata": {
    "colab": {},
    "colab_type": "code",
    "id": "vpkI83t3KBsF"
   },
   "outputs": [],
   "source": [
    "from sklearn.model_selection import train_test_split"
   ]
  },
  {
   "cell_type": "markdown",
   "metadata": {},
   "source": [
    "**train_test_split(매개변수들)**\n",
    "- *array : feature dataset, label dataset \n",
    "- test_size = None \n",
    "- train_size = None\n",
    "- shuffle = True\n",
    "- stratify = None\n",
    "- random_state = None : seed값으로 생각하고 파라미터 사용"
   ]
  },
  {
   "cell_type": "code",
   "execution_count": 22,
   "metadata": {
    "colab": {},
    "colab_type": "code",
    "id": "l-gm9r-jKMJY"
   },
   "outputs": [],
   "source": [
    "train_input,test_input,train_target,test_target=train_test_split(fish_data,\n",
    "                                                                 fish_target,\n",
    "                                                                 random_state=42) \n",
    "# label의 도미와 빙어의 분포를 반영하여 split\n",
    "# seed값으로 분리한 데이터 고정\n",
    "# 시계열 데이터는 shuffle = False"
   ]
  },
  {
   "cell_type": "code",
   "execution_count": 14,
   "metadata": {
    "colab": {
     "base_uri": "https://localhost:8080/",
     "height": 35
    },
    "colab_type": "code",
    "executionInfo": {
     "elapsed": 1726,
     "status": "ok",
     "timestamp": 1586946244609,
     "user": {
      "displayName": "Haesun Park",
      "photoUrl": "https://lh3.googleusercontent.com/a-/AOh14GhsWlS7sKQL-9fIkg3FmxpTMz_u-KDSs8y__P1ngQ=s64",
      "userId": "14935388527648823821"
     },
     "user_tz": -540
    },
    "id": "CS696_mxKZ38",
    "outputId": "3e916d08-74f0-4d27-9d0c-05d7923563f1"
   },
   "outputs": [
    {
     "data": {
      "text/plain": [
       "(13, 2)"
      ]
     },
     "execution_count": 14,
     "metadata": {},
     "output_type": "execute_result"
    }
   ],
   "source": [
    "test_input.shape"
   ]
  },
  {
   "cell_type": "code",
   "execution_count": 17,
   "metadata": {
    "colab": {
     "base_uri": "https://localhost:8080/",
     "height": 35
    },
    "colab_type": "code",
    "executionInfo": {
     "elapsed": 1719,
     "status": "ok",
     "timestamp": 1586946244609,
     "user": {
      "displayName": "Haesun Park",
      "photoUrl": "https://lh3.googleusercontent.com/a-/AOh14GhsWlS7sKQL-9fIkg3FmxpTMz_u-KDSs8y__P1ngQ=s64",
      "userId": "14935388527648823821"
     },
     "user_tz": -540
    },
    "id": "PtNqwNjbKnI-",
    "outputId": "2f333e96-bb41-43b9-88d2-7dbd4dd4c37f"
   },
   "outputs": [
    {
     "data": {
      "text/plain": [
       "(36,)"
      ]
     },
     "execution_count": 17,
     "metadata": {},
     "output_type": "execute_result"
    }
   ],
   "source": [
    "train_target.shape"
   ]
  },
  {
   "cell_type": "code",
   "execution_count": 18,
   "metadata": {
    "colab": {
     "base_uri": "https://localhost:8080/",
     "height": 35
    },
    "colab_type": "code",
    "executionInfo": {
     "elapsed": 1714,
     "status": "ok",
     "timestamp": 1586946244610,
     "user": {
      "displayName": "Haesun Park",
      "photoUrl": "https://lh3.googleusercontent.com/a-/AOh14GhsWlS7sKQL-9fIkg3FmxpTMz_u-KDSs8y__P1ngQ=s64",
      "userId": "14935388527648823821"
     },
     "user_tz": -540
    },
    "id": "mR9_bB3COHaA",
    "outputId": "62425802-17a2-41d9-d0b0-bc2ea8062733"
   },
   "outputs": [
    {
     "data": {
      "text/plain": [
       "array([1., 1., 1., 0., 0., 0., 1., 1., 1., 1., 1., 1., 1., 0., 1., 1., 1.,\n",
       "       1., 0., 1., 1., 1., 0., 0., 1., 0., 1., 1., 1., 0., 1., 1., 0., 1.,\n",
       "       1., 0.])"
      ]
     },
     "execution_count": 18,
     "metadata": {},
     "output_type": "execute_result"
    }
   ],
   "source": [
    "train_target"
   ]
  },
  {
   "cell_type": "markdown",
   "metadata": {},
   "source": [
    "**데이터 분포를 반영한 분할**"
   ]
  },
  {
   "cell_type": "code",
   "execution_count": 23,
   "metadata": {
    "colab": {},
    "colab_type": "code",
    "id": "vUv0gHOuO_wg"
   },
   "outputs": [],
   "source": [
    "train_input,test_input,train_target,test_target=train_test_split(fish_data,\n",
    "                                                                 fish_target,\n",
    "                                                                 stratify=fish_target,\n",
    "                                                                 random_state=42) \n",
    "# label의 도미와 빙어의 분포를 반영하여 split\n",
    "# seed값으로 분리한 데이터 고정"
   ]
  },
  {
   "cell_type": "code",
   "execution_count": 25,
   "metadata": {},
   "outputs": [],
   "source": [
    "import pandas as pd"
   ]
  },
  {
   "cell_type": "code",
   "execution_count": 26,
   "metadata": {
    "colab": {
     "base_uri": "https://localhost:8080/",
     "height": 35
    },
    "colab_type": "code",
    "executionInfo": {
     "elapsed": 1705,
     "status": "ok",
     "timestamp": 1586946244611,
     "user": {
      "displayName": "Haesun Park",
      "photoUrl": "https://lh3.googleusercontent.com/a-/AOh14GhsWlS7sKQL-9fIkg3FmxpTMz_u-KDSs8y__P1ngQ=s64",
      "userId": "14935388527648823821"
     },
     "user_tz": -540
    },
    "id": "aDkLM6oDPdO9",
    "outputId": "51a9fe38-d807-4009-be09-c8cf03e27d2a"
   },
   "outputs": [
    {
     "name": "stdout",
     "output_type": "stream",
     "text": [
      "1.0    26\n",
      "0.0    10\n",
      "dtype: int64\n",
      "1.0    9\n",
      "0.0    4\n",
      "dtype: int64\n"
     ]
    }
   ],
   "source": [
    "print(pd.Series(train_target).value_counts())\n",
    "print(pd.Series(test_target).value_counts())\n"
   ]
  },
  {
   "cell_type": "markdown",
   "metadata": {},
   "source": [
    "## 성능 평가 및 테스트"
   ]
  },
  {
   "cell_type": "code",
   "execution_count": 27,
   "metadata": {
    "colab": {
     "base_uri": "https://localhost:8080/",
     "height": 35
    },
    "colab_type": "code",
    "executionInfo": {
     "elapsed": 2215,
     "status": "ok",
     "timestamp": 1586946245127,
     "user": {
      "displayName": "Haesun Park",
      "photoUrl": "https://lh3.googleusercontent.com/a-/AOh14GhsWlS7sKQL-9fIkg3FmxpTMz_u-KDSs8y__P1ngQ=s64",
      "userId": "14935388527648823821"
     },
     "user_tz": -540
    },
    "id": "HhB-Alz--6U4",
    "outputId": "ec8fab29-c9f2-44b5-c412-4ad5a94572d6"
   },
   "outputs": [
    {
     "data": {
      "text/plain": [
       "1.0"
      ]
     },
     "execution_count": 27,
     "metadata": {},
     "output_type": "execute_result"
    }
   ],
   "source": [
    "from sklearn.neighbors import KNeighborsClassifier\n",
    "kn = KNeighborsClassifier()\n",
    "kn.fit(train_input, train_target)\n",
    "kn.score(test_input, test_target)\n"
   ]
  },
  {
   "cell_type": "markdown",
   "metadata": {},
   "source": [
    "### 도미 데이터 : 길이 25, 무게 150에 대한 분류 결과는?"
   ]
  },
  {
   "cell_type": "code",
   "execution_count": 29,
   "metadata": {
    "colab": {
     "base_uri": "https://localhost:8080/",
     "height": 35
    },
    "colab_type": "code",
    "executionInfo": {
     "elapsed": 2209,
     "status": "ok",
     "timestamp": 1586946245128,
     "user": {
      "displayName": "Haesun Park",
      "photoUrl": "https://lh3.googleusercontent.com/a-/AOh14GhsWlS7sKQL-9fIkg3FmxpTMz_u-KDSs8y__P1ngQ=s64",
      "userId": "14935388527648823821"
     },
     "user_tz": -540
    },
    "id": "JRKoCZFeT9xE",
    "outputId": "e55a114c-dbab-482f-92a2-80b7f97d32a6"
   },
   "outputs": [
    {
     "name": "stdout",
     "output_type": "stream",
     "text": [
      "[0.]\n"
     ]
    }
   ],
   "source": [
    "print(kn.predict([[25,150]])) # 도미인데 빙어로 분류함"
   ]
  },
  {
   "cell_type": "markdown",
   "metadata": {},
   "source": [
    "**테스트할 도미 데이터를 포함한 산점도**"
   ]
  },
  {
   "cell_type": "code",
   "execution_count": 30,
   "metadata": {
    "colab": {},
    "colab_type": "code",
    "id": "jSEc853pQHSu"
   },
   "outputs": [],
   "source": [
    "import matplotlib.pyplot as plt"
   ]
  },
  {
   "cell_type": "code",
   "execution_count": 31,
   "metadata": {
    "colab": {
     "base_uri": "https://localhost:8080/",
     "height": 279
    },
    "colab_type": "code",
    "executionInfo": {
     "elapsed": 2200,
     "status": "ok",
     "timestamp": 1586946245128,
     "user": {
      "displayName": "Haesun Park",
      "photoUrl": "https://lh3.googleusercontent.com/a-/AOh14GhsWlS7sKQL-9fIkg3FmxpTMz_u-KDSs8y__P1ngQ=s64",
      "userId": "14935388527648823821"
     },
     "user_tz": -540
    },
    "id": "1-GE9ic9_XRU",
    "outputId": "75a11b7d-df93-4560-9aff-194077c8bc70"
   },
   "outputs": [
    {
     "data": {
      "image/png": "[encoded data removed]",
      "text/plain": [
       "<Figure size 432x288 with 1 Axes>"
      ]
     },
     "metadata": {
      "needs_background": "light"
     },
     "output_type": "display_data"
    }
   ],
   "source": [
    "plt.scatter(train_input[:,0], train_input[:,1])\n",
    "plt.scatter(25, 150, marker='^')\n",
    "plt.xlabel('length')\n",
    "plt.ylabel('weight')\n",
    "plt.show()\n"
   ]
  },
  {
   "cell_type": "markdown",
   "metadata": {},
   "source": [
    "**테스트할 도미데이터와 이웃하는 데이터들**"
   ]
  },
  {
   "cell_type": "code",
   "execution_count": 33,
   "metadata": {
    "colab": {},
    "colab_type": "code",
    "id": "G_jwm_ouQKQ7"
   },
   "outputs": [],
   "source": [
    "# kneighbors(data) : 거리상으로 근접한 이웃의 정보를 반환\n",
    "dist,idx=kn.kneighbors([[25,150]]) # kn.n_neighbors=5 기본값"
   ]
  },
  {
   "cell_type": "code",
   "execution_count": 34,
   "metadata": {},
   "outputs": [
    {
     "name": "stdout",
     "output_type": "stream",
     "text": [
      "[[ 92.00086956 130.48375378 130.73859415 138.32150953 138.39320793]]\n"
     ]
    }
   ],
   "source": [
    "print(dist)"
   ]
  },
  {
   "cell_type": "code",
   "execution_count": 35,
   "metadata": {},
   "outputs": [
    {
     "name": "stdout",
     "output_type": "stream",
     "text": [
      "[[21 33 19 30  1]]\n"
     ]
    }
   ],
   "source": [
    "print(idx)"
   ]
  },
  {
   "cell_type": "code",
   "execution_count": 36,
   "metadata": {},
   "outputs": [
    {
     "data": {
      "text/plain": [
       "array([[[ 25.4, 242. ],\n",
       "        [ 15. ,  19.9],\n",
       "        [ 14.3,  19.7],\n",
       "        [ 13. ,  12.2],\n",
       "        [ 12.2,  12.2]]])"
      ]
     },
     "execution_count": 36,
     "metadata": {},
     "output_type": "execute_result"
    }
   ],
   "source": [
    "train_input[idx]"
   ]
  },
  {
   "cell_type": "code",
   "execution_count": 37,
   "metadata": {
    "colab": {
     "base_uri": "https://localhost:8080/",
     "height": 279
    },
    "colab_type": "code",
    "executionInfo": {
     "elapsed": 2192,
     "status": "ok",
     "timestamp": 1586946245129,
     "user": {
      "displayName": "Haesun Park",
      "photoUrl": "https://lh3.googleusercontent.com/a-/AOh14GhsWlS7sKQL-9fIkg3FmxpTMz_u-KDSs8y__P1ngQ=s64",
      "userId": "14935388527648823821"
     },
     "user_tz": -540
    },
    "id": "tVVz-wJoQ2ps",
    "outputId": "3a3d0916-035d-496f-bab3-e2d03ab37d23"
   },
   "outputs": [
    {
     "data": {
      "image/png": "[encoded data removed]",
      "text/plain": [
       "<Figure size 432x288 with 1 Axes>"
      ]
     },
     "metadata": {
      "needs_background": "light"
     },
     "output_type": "display_data"
    }
   ],
   "source": [
    "plt.scatter(train_input[:,0], train_input[:,1])\n",
    "plt.scatter(25, 150, marker='^')\n",
    "plt.scatter(train_input[idx, 0], train_input[idx,1], marker='D')\n",
    "plt.xlabel('length')\n",
    "plt.ylabel('weight')\n",
    "plt.show()\n"
   ]
  },
  {
   "cell_type": "code",
   "execution_count": 35,
   "metadata": {
    "colab": {
     "base_uri": "https://localhost:8080/",
     "height": 35
    },
    "colab_type": "code",
    "executionInfo": {
     "elapsed": 2749,
     "status": "ok",
     "timestamp": 1586946245698,
     "user": {
      "displayName": "Haesun Park",
      "photoUrl": "https://lh3.googleusercontent.com/a-/AOh14GhsWlS7sKQL-9fIkg3FmxpTMz_u-KDSs8y__P1ngQ=s64",
      "userId": "14935388527648823821"
     },
     "user_tz": -540
    },
    "id": "3tEGpNPT00ut",
    "outputId": "7a7f558e-a6e3-491d-bd98-a72221cfaa44"
   },
   "outputs": [
    {
     "name": "stdout",
     "output_type": "stream",
     "text": [
      "[[1. 0. 0. 0. 0.]]\n"
     ]
    }
   ],
   "source": []
  },
  {
   "cell_type": "code",
   "execution_count": 37,
   "metadata": {
    "colab": {
     "base_uri": "https://localhost:8080/",
     "height": 35
    },
    "colab_type": "code",
    "executionInfo": {
     "elapsed": 2743,
     "status": "ok",
     "timestamp": 1586946245698,
     "user": {
      "displayName": "Haesun Park",
      "photoUrl": "https://lh3.googleusercontent.com/a-/AOh14GhsWlS7sKQL-9fIkg3FmxpTMz_u-KDSs8y__P1ngQ=s64",
      "userId": "14935388527648823821"
     },
     "user_tz": -540
    },
    "id": "ry0R_gEqRVsQ",
    "outputId": "9e0775a8-8e42-407a-86e2-d435e47c452b"
   },
   "outputs": [
    {
     "name": "stdout",
     "output_type": "stream",
     "text": [
      "[[ 92.00086956 130.48375378 130.73859415 138.32150953 138.39320793]]\n"
     ]
    }
   ],
   "source": []
  },
  {
   "cell_type": "markdown",
   "metadata": {},
   "source": [
    "## 기준을 맞춰라"
   ]
  },
  {
   "cell_type": "code",
   "execution_count": 42,
   "metadata": {
    "colab": {
     "base_uri": "https://localhost:8080/",
     "height": 279
    },
    "colab_type": "code",
    "executionInfo": {
     "elapsed": 2739,
     "status": "ok",
     "timestamp": 1586946245699,
     "user": {
      "displayName": "Haesun Park",
      "photoUrl": "https://lh3.googleusercontent.com/a-/AOh14GhsWlS7sKQL-9fIkg3FmxpTMz_u-KDSs8y__P1ngQ=s64",
      "userId": "14935388527648823821"
     },
     "user_tz": -540
    },
    "id": "P6PXDboiTx_j",
    "outputId": "b8683f98-b099-47a1-83ee-944da738d0a2"
   },
   "outputs": [
    {
     "data": {
      "image/png": "[encoded data removed]",
      "text/plain": [
       "<Figure size 432x288 with 1 Axes>"
      ]
     },
     "metadata": {
      "needs_background": "light"
     },
     "output_type": "display_data"
    }
   ],
   "source": [
    "plt.scatter(train_input[:,0], train_input[:,1])\n",
    "plt.scatter(25, 150, marker='^')\n",
    "plt.scatter(train_input[idx, 0], train_input[idx,1], marker='D')\n",
    "plt.xlim((0,1000))\n",
    "plt.xlabel('length')\n",
    "plt.ylabel('weight')\n",
    "plt.show()\n"
   ]
  },
  {
   "cell_type": "markdown",
   "metadata": {},
   "source": [
    "- 최근접이웃 알고리즘은 거리를 기반으로 가까운 이웃을 결정\n",
    "- 거리 계산 시 자료의 값이 큰 변수에 더 큰 영향을 받게 됨"
   ]
  },
  {
   "cell_type": "markdown",
   "metadata": {},
   "source": [
    "### 두 변수의 스케일을 갖게\n",
    "- 표준점수(Z-Score)\n",
    "    - 표준 점수는 통계학적으로 정규분포를 만들고 개개의 경우가 표준편차상에 어떤 위치를 차지하는지를 보여주는 차원없는 수치이다. \n",
    "    - 표준값, Z값, Z 점수이라고도 한다. \n",
    "    - 학력고사 등의 평가에서 개개인의 성적이 전체에서 어떤 위치를 차지하는지를 보여주기 위해 쓰이기도 한다.\n",
    "    - 원점수 - 평균 / 표준편차\n"
   ]
  },
  {
   "cell_type": "code",
   "execution_count": 43,
   "metadata": {
    "colab": {},
    "colab_type": "code",
    "id": "Yi9xncqkUGIZ"
   },
   "outputs": [],
   "source": [
    "mean=np.mean(train_input,axis=0)"
   ]
  },
  {
   "cell_type": "code",
   "execution_count": 44,
   "metadata": {
    "colab": {
     "base_uri": "https://localhost:8080/",
     "height": 35
    },
    "colab_type": "code",
    "executionInfo": {
     "elapsed": 2730,
     "status": "ok",
     "timestamp": 1586946245699,
     "user": {
      "displayName": "Haesun Park",
      "photoUrl": "https://lh3.googleusercontent.com/a-/AOh14GhsWlS7sKQL-9fIkg3FmxpTMz_u-KDSs8y__P1ngQ=s64",
      "userId": "14935388527648823821"
     },
     "user_tz": -540
    },
    "id": "f7CuQC8IUsty",
    "outputId": "116fb663-23ab-4109-fa20-d044f8f7b9bc"
   },
   "outputs": [],
   "source": [
    "std=np.std(train_input,axis=0)"
   ]
  },
  {
   "cell_type": "code",
   "execution_count": 46,
   "metadata": {
    "colab": {},
    "colab_type": "code",
    "id": "jmSFa3LzUteI"
   },
   "outputs": [
    {
     "name": "stdout",
     "output_type": "stream",
     "text": [
      "[[ 0.24070039  0.14198246]\n",
      " [-1.51237757 -1.36683783]\n",
      " [ 0.5712808   0.76060496]\n",
      " [-1.60253587 -1.37766373]\n",
      " [ 1.22242404  1.45655528]\n",
      " [ 0.17057727 -0.07453542]\n",
      " [ 0.87180845  0.80390854]\n",
      " [ 0.87180845  1.22457184]\n",
      " [ 0.37092904  0.06465464]\n",
      " [ 0.77163257  0.82246721]\n",
      " [ 0.97198434  1.68853872]\n",
      " [-1.61255346 -1.3742613 ]\n",
      " [ 0.72154463  0.51315596]\n",
      " [-1.53241275 -1.3742613 ]\n",
      " [ 0.17057727 -0.28177396]\n",
      " [ 0.5712808   0.76060496]\n",
      " [ 0.34087627  0.14198246]\n",
      " [ 1.12224816  1.54934866]\n",
      " [ 0.62136874  0.60594934]\n",
      " [-1.30200822 -1.34363949]\n",
      " [ 0.42101698  0.14198246]\n",
      " [-0.19005591 -0.65604058]\n",
      " [-1.75279969 -1.38384995]\n",
      " [ 0.47110492  0.45129371]\n",
      " [-1.68267658 -1.38137546]\n",
      " [ 0.62136874  0.48222484]\n",
      " [-1.67265899 -1.38292202]\n",
      " [ 0.77163257  0.76060496]\n",
      " [ 0.47110492  0.45129371]\n",
      " [ 0.77163257  0.83793278]\n",
      " [-1.43223687 -1.36683783]\n",
      " [ 0.27075315 -0.01267317]\n",
      " [ 0.47110492 -0.35291555]\n",
      " [-1.2318851  -1.34302087]\n",
      " [ 0.27075315 -0.19825992]\n",
      " [ 1.37268787  1.61121091]]\n"
     ]
    }
   ],
   "source": [
    "train_scaled=(train_input-mean)/std\n",
    "print(train_scaled)"
   ]
  },
  {
   "cell_type": "code",
   "execution_count": 47,
   "metadata": {},
   "outputs": [
    {
     "data": {
      "image/png": "[encoded data removed]",
      "text/plain": [
       "<Figure size 432x288 with 1 Axes>"
      ]
     },
     "metadata": {
      "needs_background": "light"
     },
     "output_type": "display_data"
    }
   ],
   "source": [
    "plt.scatter(train_scaled[:,0], train_scaled[:,1])\n",
    "plt.xlabel('length')\n",
    "plt.ylabel('weight')\n",
    "plt.show()\n",
    "# x축과 y축의 범위가 같아짐"
   ]
  },
  {
   "cell_type": "markdown",
   "metadata": {},
   "source": [
    "### 전처리 데이터로 모델 훈련하기"
   ]
  },
  {
   "cell_type": "code",
   "execution_count": 48,
   "metadata": {
    "colab": {
     "base_uri": "https://localhost:8080/",
     "height": 279
    },
    "colab_type": "code",
    "executionInfo": {
     "elapsed": 2722,
     "status": "ok",
     "timestamp": 1586946245700,
     "user": {
      "displayName": "Haesun Park",
      "photoUrl": "https://lh3.googleusercontent.com/a-/AOh14GhsWlS7sKQL-9fIkg3FmxpTMz_u-KDSs8y__P1ngQ=s64",
      "userId": "14935388527648823821"
     },
     "user_tz": -540
    },
    "id": "P4dx2WDOVDMD",
    "outputId": "007a36c6-a1a1-47cc-87c7-cac87ce3338c",
    "scrolled": true
   },
   "outputs": [
    {
     "data": {
      "image/png": "[encoded data removed]",
      "text/plain": [
       "<Figure size 432x288 with 1 Axes>"
      ]
     },
     "metadata": {
      "needs_background": "light"
     },
     "output_type": "display_data"
    }
   ],
   "source": [
    "plt.scatter(train_scaled[:,0], train_scaled[:,1])\n",
    "plt.scatter(25, 150, marker='^')\n",
    "plt.xlabel('length')\n",
    "plt.ylabel('weight')\n",
    "plt.show()\n"
   ]
  },
  {
   "cell_type": "markdown",
   "metadata": {},
   "source": [
    "**테스트 데이터도 스케일링**"
   ]
  },
  {
   "cell_type": "code",
   "execution_count": 58,
   "metadata": {
    "colab": {},
    "colab_type": "code",
    "id": "Kjd2W6ZbVlgG"
   },
   "outputs": [
    {
     "data": {
      "text/plain": [
       "array([-0.23012627, -0.94060693])"
      ]
     },
     "execution_count": 58,
     "metadata": {},
     "output_type": "execute_result"
    }
   ],
   "source": [
    "# 테스트 데이터의 전처리는 학습데이터에서 사용한 값들을 이용해서 전처리를 진행\n",
    "new=([25,150]-mean)/std\n",
    "new"
   ]
  },
  {
   "cell_type": "code",
   "execution_count": 57,
   "metadata": {
    "colab": {
     "base_uri": "https://localhost:8080/",
     "height": 279
    },
    "colab_type": "code",
    "executionInfo": {
     "elapsed": 3248,
     "status": "ok",
     "timestamp": 1586946246235,
     "user": {
      "displayName": "Haesun Park",
      "photoUrl": "https://lh3.googleusercontent.com/a-/AOh14GhsWlS7sKQL-9fIkg3FmxpTMz_u-KDSs8y__P1ngQ=s64",
      "userId": "14935388527648823821"
     },
     "user_tz": -540
    },
    "id": "5-Zq-jIMVbV-",
    "outputId": "30faf470-c5a5-40aa-c949-890d73a6e7aa"
   },
   "outputs": [
    {
     "data": {
      "image/png": "[encoded data removed]",
      "text/plain": [
       "<Figure size 432x288 with 1 Axes>"
      ]
     },
     "metadata": {
      "needs_background": "light"
     },
     "output_type": "display_data"
    }
   ],
   "source": [
    "plt.scatter(train_scaled[:,0], train_scaled[:,1])\n",
    "plt.scatter(new[0], new[1], marker='^')\n",
    "plt.xlabel('length')\n",
    "plt.ylabel('weight')\n",
    "plt.show()\n"
   ]
  },
  {
   "cell_type": "code",
   "execution_count": 59,
   "metadata": {
    "colab": {
     "base_uri": "https://localhost:8080/",
     "height": 69
    },
    "colab_type": "code",
    "executionInfo": {
     "elapsed": 3244,
     "status": "ok",
     "timestamp": 1586946246236,
     "user": {
      "displayName": "Haesun Park",
      "photoUrl": "https://lh3.googleusercontent.com/a-/AOh14GhsWlS7sKQL-9fIkg3FmxpTMz_u-KDSs8y__P1ngQ=s64",
      "userId": "14935388527648823821"
     },
     "user_tz": -540
    },
    "id": "NbsFki8MVtrn",
    "outputId": "32009b15-bd67-49db-a0d4-cd46c4d87e7f"
   },
   "outputs": [
    {
     "data": {
      "text/plain": [
       "KNeighborsClassifier()"
      ]
     },
     "execution_count": 59,
     "metadata": {},
     "output_type": "execute_result"
    }
   ],
   "source": [
    "kn.fit(train_scaled,train_target)"
   ]
  },
  {
   "cell_type": "code",
   "execution_count": 60,
   "metadata": {
    "colab": {},
    "colab_type": "code",
    "id": "5uc_k1nlWnNN"
   },
   "outputs": [
    {
     "data": {
      "text/plain": [
       "array([[-1.63258863, -1.37457062],\n",
       "       [-1.55244793, -1.37395199],\n",
       "       [ 0.24070039, -0.01267317],\n",
       "       [-1.55244793, -1.37364268],\n",
       "       [-0.07986244, -0.35291555],\n",
       "       [-1.4923424 , -1.3631261 ],\n",
       "       [ 0.67145669,  0.71420828],\n",
       "       [ 0.67145669,  0.3739659 ],\n",
       "       [ 1.12224816,  1.44108972],\n",
       "       [ 0.77163257,  0.69874271],\n",
       "       [-0.09989762, -0.50757117],\n",
       "       [ 0.37092904,  0.14198246],\n",
       "       [ 1.37268787,  1.5338831 ]])"
      ]
     },
     "execution_count": 60,
     "metadata": {},
     "output_type": "execute_result"
    }
   ],
   "source": [
    "# 예측할 데이터 스케일링\n",
    "test_scaled=(test_input-mean)/std\n",
    "test_scaled"
   ]
  },
  {
   "cell_type": "code",
   "execution_count": 61,
   "metadata": {
    "colab": {
     "base_uri": "https://localhost:8080/",
     "height": 35
    },
    "colab_type": "code",
    "executionInfo": {
     "elapsed": 3235,
     "status": "ok",
     "timestamp": 1586946246236,
     "user": {
      "displayName": "Haesun Park",
      "photoUrl": "https://lh3.googleusercontent.com/a-/AOh14GhsWlS7sKQL-9fIkg3FmxpTMz_u-KDSs8y__P1ngQ=s64",
      "userId": "14935388527648823821"
     },
     "user_tz": -540
    },
    "id": "6PfEwPLxWvdz",
    "outputId": "22ed21d8-5dce-48d3-dd0e-ae2b8d941326"
   },
   "outputs": [
    {
     "data": {
      "text/plain": [
       "1.0"
      ]
     },
     "execution_count": 61,
     "metadata": {},
     "output_type": "execute_result"
    }
   ],
   "source": [
    "kn.score(test_scaled,test_target)"
   ]
  },
  {
   "cell_type": "code",
   "execution_count": 63,
   "metadata": {
    "colab": {
     "base_uri": "https://localhost:8080/",
     "height": 35
    },
    "colab_type": "code",
    "executionInfo": {
     "elapsed": 3229,
     "status": "ok",
     "timestamp": 1586946246237,
     "user": {
      "displayName": "Haesun Park",
      "photoUrl": "https://lh3.googleusercontent.com/a-/AOh14GhsWlS7sKQL-9fIkg3FmxpTMz_u-KDSs8y__P1ngQ=s64",
      "userId": "14935388527648823821"
     },
     "user_tz": -540
    },
    "id": "mox3oWCLWzGW",
    "outputId": "a1a28b56-5e4e-4457-fcc1-0ed37100a417"
   },
   "outputs": [
    {
     "data": {
      "text/plain": [
       "array([1.])"
      ]
     },
     "execution_count": 63,
     "metadata": {},
     "output_type": "execute_result"
    }
   ],
   "source": [
    "kn.predict([new]) # new데이터는 도미로 예측됨"
   ]
  },
  {
   "cell_type": "code",
   "execution_count": 64,
   "metadata": {
    "colab": {},
    "colab_type": "code",
    "id": "bRU4r44-W1t3"
   },
   "outputs": [
    {
     "name": "stdout",
     "output_type": "stream",
     "text": [
      "[[0.2873737  0.7711188  0.89552179 0.91493515 0.95427626]] [[21 14 34 32  5]]\n"
     ]
    }
   ],
   "source": [
    "# new데이터는 idx14,15,21,32,34데이터와 근접한 데이터임\n",
    "dist,idx=kn.kneighbors([new])\n",
    "print(dist,idx) - # 스케일링 전 이웃 인덱스 35이하의 도미데이터에만 가까움"
   ]
  },
  {
   "cell_type": "code",
   "execution_count": 65,
   "metadata": {
    "colab": {
     "base_uri": "https://localhost:8080/",
     "height": 279
    },
    "colab_type": "code",
    "executionInfo": {
     "elapsed": 3221,
     "status": "ok",
     "timestamp": 1586946246237,
     "user": {
      "displayName": "Haesun Park",
      "photoUrl": "https://lh3.googleusercontent.com/a-/AOh14GhsWlS7sKQL-9fIkg3FmxpTMz_u-KDSs8y__P1ngQ=s64",
      "userId": "14935388527648823821"
     },
     "user_tz": -540
    },
    "id": "bHWAbdefW9W6",
    "outputId": "568827d0-f35e-44ea-c8e8-0ba8a3965d28"
   },
   "outputs": [
    {
     "data": {
      "image/png": "[encoded data removed]",
      "text/plain": [
       "<Figure size 432x288 with 1 Axes>"
      ]
     },
     "metadata": {
      "needs_background": "light"
     },
     "output_type": "display_data"
    }
   ],
   "source": [
    "plt.scatter(train_input[:,0], train_input[:,1])\n",
    "plt.scatter(25, 150, marker='^')\n",
    "plt.scatter(train_input[idx, 0], train_input[idx,1], marker='D')\n",
    "plt.xlabel('length')\n",
    "plt.ylabel('weight')\n",
    "plt.show()\n"
   ]
  },
  {
   "cell_type": "code",
   "execution_count": null,
   "metadata": {},
   "outputs": [],
   "source": []
  }
 ],
 "metadata": {
  "colab": {
   "authorship_tag": "ABX9TyPNxLB7vUl4gZRQv82Jl/eF",
   "collapsed_sections": [],
   "name": "2-2. 데이터 전처리",
   "provenance": []
  },
  "kernelspec": {
   "display_name": "Python 3 (ipykernel)",
   "language": "python",
   "name": "python3"
  },
  "language_info": {
   "codemirror_mode": {
    "name": "ipython",
    "version": 3
   },
   "file_extension": ".py",
   "mimetype": "text/x-python",
   "name": "python",
   "nbconvert_exporter": "python",
   "pygments_lexer": "ipython3",
   "version": "3.9.12"
  }
 },
 "nbformat": 4,
 "nbformat_minor": 1
}
