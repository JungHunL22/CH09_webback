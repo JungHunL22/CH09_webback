{
 "cells": [
  {
   "cell_type": "markdown",
   "id": "0d5ceeb3",
   "metadata": {},
   "source": [
    "## pip를 사용하여 TensorFlow 설치\n",
    "- https://www.tensorflow.org/install/pip?hl=ko"
   ]
  },
  {
   "cell_type": "code",
   "execution_count": 1,
   "id": "ba39e27a",
   "metadata": {},
   "outputs": [
    {
     "name": "stdout",
     "output_type": "stream",
     "text": [
      "--sys.version—\n",
      "3.9.12 (main, Apr  4 2022, 05:22:27) [MSC v.1916 64 bit (AMD64)]\n"
     ]
    }
   ],
   "source": [
    "import sys\n",
    "\n",
    "print(\"--sys.version—\")\n",
    "print(sys.version)"
   ]
  },
  {
   "cell_type": "code",
   "execution_count": null,
   "id": "abecd705",
   "metadata": {},
   "outputs": [],
   "source": [
    "%pip install --user tensorflow"
   ]
  },
  {
   "cell_type": "code",
   "execution_count": null,
   "id": "36c7bbf7",
   "metadata": {},
   "outputs": [],
   "source": [
    "import tensorflow as tf\n",
    "tf.__version__"
   ]
  },
  {
   "cell_type": "markdown",
   "id": "b881922b",
   "metadata": {},
   "source": [
    "## 설치 완료 후 import 안되는 경우\n",
    "- 주피터 노트북을 종료 후 재 시작"
   ]
  },
  {
   "cell_type": "code",
   "execution_count": null,
   "id": "8196e36a",
   "metadata": {},
   "outputs": [],
   "source": []
  }
 ],
 "metadata": {
  "kernelspec": {
   "display_name": "Python 3 (ipykernel)",
   "language": "python",
   "name": "python3"
  },
  "language_info": {
   "codemirror_mode": {
    "name": "ipython",
    "version": 3
   },
   "file_extension": ".py",
   "mimetype": "text/x-python",
   "name": "python",
   "nbconvert_exporter": "python",
   "pygments_lexer": "ipython3",
   "version": "3.9.12"
  }
 },
 "nbformat": 4,
 "nbformat_minor": 5
}
