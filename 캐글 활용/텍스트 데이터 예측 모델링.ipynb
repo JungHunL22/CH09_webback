{
 "cells": [
  {
   "cell_type": "markdown",
   "id": "c515cc3f",
   "metadata": {},
   "source": [
    "# Mercari Price Prediction(Kaggle)"
   ]
  },
  {
   "cell_type": "code",
   "execution_count": 1,
   "id": "34b5eb58",
   "metadata": {},
   "outputs": [],
   "source": [
    "from sklearn.model_selection import train_test_split,cross_val_score\n",
    "from sklearn.feature_extraction.text import CountVectorizer,TfidfVectorizer\n",
    "import pandas as pd"
   ]
  },
  {
   "cell_type": "code",
   "execution_count": 41,
   "id": "c9c75b99",
   "metadata": {},
   "outputs": [],
   "source": [
    "mercari=pd.read_csv('data/Mercari Price Suggestion Challenge.tsv',sep='\\t')"
   ]
  },
  {
   "cell_type": "code",
   "execution_count": 42,
   "id": "909a242c",
   "metadata": {},
   "outputs": [
    {
     "data": {
      "text/html": [
       "<div>\n",
       "<style scoped>\n",
       "    .dataframe tbody tr th:only-of-type {\n",
       "        vertical-align: middle;\n",
       "    }\n",
       "\n",
       "    .dataframe tbody tr th {\n",
       "        vertical-align: top;\n",
       "    }\n",
       "\n",
       "    .dataframe thead th {\n",
       "        text-align: right;\n",
       "    }\n",
       "</style>\n",
       "<table border=\"1\" class=\"dataframe\">\n",
       "  <thead>\n",
       "    <tr style=\"text-align: right;\">\n",
       "      <th></th>\n",
       "      <th>train_id</th>\n",
       "      <th>name</th>\n",
       "      <th>item_condition_id</th>\n",
       "      <th>category_name</th>\n",
       "      <th>brand_name</th>\n",
       "      <th>price</th>\n",
       "      <th>shipping</th>\n",
       "      <th>item_description</th>\n",
       "    </tr>\n",
       "  </thead>\n",
       "  <tbody>\n",
       "    <tr>\n",
       "      <th>0</th>\n",
       "      <td>0</td>\n",
       "      <td>MLB Cincinnati Reds T Shirt Size XL</td>\n",
       "      <td>3</td>\n",
       "      <td>Men/Tops/T-shirts</td>\n",
       "      <td>NaN</td>\n",
       "      <td>10.0</td>\n",
       "      <td>1</td>\n",
       "      <td>No description yet</td>\n",
       "    </tr>\n",
       "    <tr>\n",
       "      <th>1</th>\n",
       "      <td>1</td>\n",
       "      <td>Razer BlackWidow Chroma Keyboard</td>\n",
       "      <td>3</td>\n",
       "      <td>Electronics/Computers &amp; Tablets/Components &amp; P...</td>\n",
       "      <td>Razer</td>\n",
       "      <td>52.0</td>\n",
       "      <td>0</td>\n",
       "      <td>This keyboard is in great condition and works ...</td>\n",
       "    </tr>\n",
       "    <tr>\n",
       "      <th>2</th>\n",
       "      <td>2</td>\n",
       "      <td>AVA-VIV Blouse</td>\n",
       "      <td>1</td>\n",
       "      <td>Women/Tops &amp; Blouses/Blouse</td>\n",
       "      <td>Target</td>\n",
       "      <td>10.0</td>\n",
       "      <td>1</td>\n",
       "      <td>Adorable top with a hint of lace and a key hol...</td>\n",
       "    </tr>\n",
       "    <tr>\n",
       "      <th>3</th>\n",
       "      <td>3</td>\n",
       "      <td>Leather Horse Statues</td>\n",
       "      <td>1</td>\n",
       "      <td>Home/Home Décor/Home Décor Accents</td>\n",
       "      <td>NaN</td>\n",
       "      <td>35.0</td>\n",
       "      <td>1</td>\n",
       "      <td>New with tags. Leather horses. Retail for [rm]...</td>\n",
       "    </tr>\n",
       "    <tr>\n",
       "      <th>4</th>\n",
       "      <td>4</td>\n",
       "      <td>24K GOLD plated rose</td>\n",
       "      <td>1</td>\n",
       "      <td>Women/Jewelry/Necklaces</td>\n",
       "      <td>NaN</td>\n",
       "      <td>44.0</td>\n",
       "      <td>0</td>\n",
       "      <td>Complete with certificate of authenticity</td>\n",
       "    </tr>\n",
       "  </tbody>\n",
       "</table>\n",
       "</div>"
      ],
      "text/plain": [
       "   train_id                                 name  item_condition_id  \\\n",
       "0         0  MLB Cincinnati Reds T Shirt Size XL                  3   \n",
       "1         1     Razer BlackWidow Chroma Keyboard                  3   \n",
       "2         2                       AVA-VIV Blouse                  1   \n",
       "3         3                Leather Horse Statues                  1   \n",
       "4         4                 24K GOLD plated rose                  1   \n",
       "\n",
       "                                       category_name brand_name  price  \\\n",
       "0                                  Men/Tops/T-shirts        NaN   10.0   \n",
       "1  Electronics/Computers & Tablets/Components & P...      Razer   52.0   \n",
       "2                        Women/Tops & Blouses/Blouse     Target   10.0   \n",
       "3                 Home/Home Décor/Home Décor Accents        NaN   35.0   \n",
       "4                            Women/Jewelry/Necklaces        NaN   44.0   \n",
       "\n",
       "   shipping                                   item_description  \n",
       "0         1                                 No description yet  \n",
       "1         0  This keyboard is in great condition and works ...  \n",
       "2         1  Adorable top with a hint of lace and a key hol...  \n",
       "3         1  New with tags. Leather horses. Retail for [rm]...  \n",
       "4         0          Complete with certificate of authenticity  "
      ]
     },
     "execution_count": 42,
     "metadata": {},
     "output_type": "execute_result"
    }
   ],
   "source": [
    "mercari.head()"
   ]
  },
  {
   "cell_type": "code",
   "execution_count": 43,
   "id": "a140d06e",
   "metadata": {},
   "outputs": [
    {
     "data": {
      "text/plain": [
       "(1482535, 8)"
      ]
     },
     "execution_count": 43,
     "metadata": {},
     "output_type": "execute_result"
    }
   ],
   "source": [
    "mercari.shape"
   ]
  },
  {
   "cell_type": "markdown",
   "id": "a79d67ed",
   "metadata": {},
   "source": [
    "# 전처리"
   ]
  },
  {
   "cell_type": "markdown",
   "id": "f2ac8779",
   "metadata": {},
   "source": [
    "category_name의 결측치 6327개  \n",
    "brand_name의 결측치 632682개  \n",
    "item_description의 결측치 4개"
   ]
  },
  {
   "cell_type": "code",
   "execution_count": 44,
   "id": "d83044ad",
   "metadata": {},
   "outputs": [
    {
     "data": {
      "text/plain": [
       "train_id                  0\n",
       "name                      0\n",
       "item_condition_id         0\n",
       "category_name          6327\n",
       "brand_name           632682\n",
       "price                     0\n",
       "shipping                  0\n",
       "item_description          4\n",
       "dtype: int64"
      ]
     },
     "execution_count": 44,
     "metadata": {},
     "output_type": "execute_result"
    }
   ],
   "source": [
    "mercari.isnull().sum()"
   ]
  },
  {
   "cell_type": "code",
   "execution_count": 45,
   "id": "06adc362",
   "metadata": {},
   "outputs": [],
   "source": [
    "import seaborn as sns"
   ]
  },
  {
   "cell_type": "code",
   "execution_count": 46,
   "id": "dca002f9",
   "metadata": {},
   "outputs": [
    {
     "data": {
      "text/plain": [
       "11.393232000122524"
      ]
     },
     "execution_count": 46,
     "metadata": {},
     "output_type": "execute_result"
    },
    {
     "data": {
      "image/png": "[encoded data removed]",
      "text/plain": [
       "<Figure size 432x288 with 1 Axes>"
      ]
     },
     "metadata": {
      "needs_background": "light"
     },
     "output_type": "display_data"
    }
   ],
   "source": [
    "sns.histplot(mercari['price'],bins=100)\n",
    "mercari['price'].skew()\n",
    "# 왼쪽으로 치우친 분포\n",
    "# 왜도 11.39"
   ]
  },
  {
   "cell_type": "code",
   "execution_count": 47,
   "id": "4780fbc1",
   "metadata": {},
   "outputs": [],
   "source": [
    "import numpy as np"
   ]
  },
  {
   "cell_type": "code",
   "execution_count": 48,
   "id": "f271817c",
   "metadata": {},
   "outputs": [],
   "source": [
    "price_l=np.log1p(mercari['price'])"
   ]
  },
  {
   "cell_type": "code",
   "execution_count": 49,
   "id": "f62b3a1d",
   "metadata": {},
   "outputs": [],
   "source": [
    "mercari['price']=price_l"
   ]
  },
  {
   "cell_type": "code",
   "execution_count": 50,
   "id": "1e2279e1",
   "metadata": {},
   "outputs": [
    {
     "data": {
      "text/plain": [
       "0.6594232018807694"
      ]
     },
     "execution_count": 50,
     "metadata": {},
     "output_type": "execute_result"
    },
    {
     "data": {
      "image/png": "[encoded data removed]",
      "text/plain": [
       "<Figure size 432x288 with 1 Axes>"
      ]
     },
     "metadata": {
      "needs_background": "light"
     },
     "output_type": "display_data"
    }
   ],
   "source": [
    "# 왜도 0.66으로 감소\n",
    "sns.histplot(mercari['price'],bins=100)\n",
    "mercari['price'].skew()"
   ]
  },
  {
   "cell_type": "code",
   "execution_count": 53,
   "id": "d3f632b7",
   "metadata": {},
   "outputs": [
    {
     "data": {
      "text/plain": [
       "1    640549\n",
       "3    432161\n",
       "2    375479\n",
       "4     31962\n",
       "5      2384\n",
       "Name: item_condition_id, dtype: int64"
      ]
     },
     "execution_count": 53,
     "metadata": {},
     "output_type": "execute_result"
    }
   ],
   "source": [
    "mercari['item_condition_id'].value_counts()"
   ]
  },
  {
   "cell_type": "code",
   "execution_count": 58,
   "id": "766d1e5f",
   "metadata": {},
   "outputs": [
    {
     "data": {
      "text/plain": [
       "PINK                    54088\n",
       "Nike                    54043\n",
       "Victoria's Secret       48036\n",
       "LuLaRoe                 31024\n",
       "Apple                   17322\n",
       "                        ...  \n",
       "The Learning Journey        1\n",
       "Pampers Baby Fresh          1\n",
       "Huggies One & Done          1\n",
       "Classic Media               1\n",
       "Kids Only                   1\n",
       "Name: brand_name, Length: 4809, dtype: int64"
      ]
     },
     "execution_count": 58,
     "metadata": {},
     "output_type": "execute_result"
    }
   ],
   "source": [
    "mercari['brand_name'].value_counts()"
   ]
  },
  {
   "cell_type": "code",
   "execution_count": 63,
   "id": "477ff336",
   "metadata": {},
   "outputs": [
    {
     "data": {
      "text/plain": [
       "0    819435\n",
       "1    663100\n",
       "Name: shipping, dtype: int64"
      ]
     },
     "execution_count": 63,
     "metadata": {},
     "output_type": "execute_result"
    }
   ],
   "source": [
    "mercari['shipping'].value_counts()"
   ]
  },
  {
   "cell_type": "markdown",
   "id": "a4a09003",
   "metadata": {},
   "source": [
    "item_description의 결측치는 4개였지만 No description yet도 결측치로 간주하면 82489개를 더해 **82493개**"
   ]
  },
  {
   "cell_type": "code",
   "execution_count": 97,
   "id": "8f31f671",
   "metadata": {},
   "outputs": [
    {
     "data": {
      "text/html": [
       "<div>\n",
       "<style scoped>\n",
       "    .dataframe tbody tr th:only-of-type {\n",
       "        vertical-align: middle;\n",
       "    }\n",
       "\n",
       "    .dataframe tbody tr th {\n",
       "        vertical-align: top;\n",
       "    }\n",
       "\n",
       "    .dataframe thead th {\n",
       "        text-align: right;\n",
       "    }\n",
       "</style>\n",
       "<table border=\"1\" class=\"dataframe\">\n",
       "  <thead>\n",
       "    <tr style=\"text-align: right;\">\n",
       "      <th></th>\n",
       "      <th>train_id</th>\n",
       "      <th>name</th>\n",
       "      <th>item_condition_id</th>\n",
       "      <th>category_name</th>\n",
       "      <th>brand_name</th>\n",
       "      <th>price</th>\n",
       "      <th>shipping</th>\n",
       "      <th>item_description</th>\n",
       "      <th>cate_l</th>\n",
       "      <th>cate_m</th>\n",
       "      <th>cate_s</th>\n",
       "    </tr>\n",
       "  </thead>\n",
       "  <tbody>\n",
       "    <tr>\n",
       "      <th>511535</th>\n",
       "      <td>511535</td>\n",
       "      <td>Shoes for Michelle</td>\n",
       "      <td>4</td>\n",
       "      <td>Kids/Girls 0-24 Mos/Shoes</td>\n",
       "      <td>NaN</td>\n",
       "      <td>2.302585</td>\n",
       "      <td>0</td>\n",
       "      <td>NaN</td>\n",
       "      <td>Kids</td>\n",
       "      <td>Girls 0-24 Mos</td>\n",
       "      <td>Shoes</td>\n",
       "    </tr>\n",
       "    <tr>\n",
       "      <th>861230</th>\n",
       "      <td>861230</td>\n",
       "      <td>Lipgloss</td>\n",
       "      <td>4</td>\n",
       "      <td>Beauty/Makeup/Lips</td>\n",
       "      <td>NaN</td>\n",
       "      <td>3.912023</td>\n",
       "      <td>0</td>\n",
       "      <td>NaN</td>\n",
       "      <td>Beauty</td>\n",
       "      <td>Makeup</td>\n",
       "      <td>Lips</td>\n",
       "    </tr>\n",
       "    <tr>\n",
       "      <th>1224924</th>\n",
       "      <td>1224924</td>\n",
       "      <td>Disney Minnie Head band</td>\n",
       "      <td>3</td>\n",
       "      <td>Women/Women's Accessories/Hair Accessories</td>\n",
       "      <td>Disney</td>\n",
       "      <td>2.302585</td>\n",
       "      <td>0</td>\n",
       "      <td>NaN</td>\n",
       "      <td>Women</td>\n",
       "      <td>Women's Accessories</td>\n",
       "      <td>Hair Accessories</td>\n",
       "    </tr>\n",
       "    <tr>\n",
       "      <th>1264242</th>\n",
       "      <td>1264242</td>\n",
       "      <td>For Bianca</td>\n",
       "      <td>3</td>\n",
       "      <td>Women/Women's Accessories/Scarves &amp; Wraps</td>\n",
       "      <td>NaN</td>\n",
       "      <td>2.397895</td>\n",
       "      <td>1</td>\n",
       "      <td>NaN</td>\n",
       "      <td>Women</td>\n",
       "      <td>Women's Accessories</td>\n",
       "      <td>Scarves &amp; Wraps</td>\n",
       "    </tr>\n",
       "  </tbody>\n",
       "</table>\n",
       "</div>"
      ],
      "text/plain": [
       "         train_id                     name  item_condition_id  \\\n",
       "511535     511535       Shoes for Michelle                  4   \n",
       "861230     861230                 Lipgloss                  4   \n",
       "1224924   1224924  Disney Minnie Head band                  3   \n",
       "1264242   1264242               For Bianca                  3   \n",
       "\n",
       "                                      category_name brand_name     price  \\\n",
       "511535                    Kids/Girls 0-24 Mos/Shoes        NaN  2.302585   \n",
       "861230                           Beauty/Makeup/Lips        NaN  3.912023   \n",
       "1224924  Women/Women's Accessories/Hair Accessories     Disney  2.302585   \n",
       "1264242   Women/Women's Accessories/Scarves & Wraps        NaN  2.397895   \n",
       "\n",
       "         shipping item_description  cate_l               cate_m  \\\n",
       "511535          0              NaN    Kids       Girls 0-24 Mos   \n",
       "861230          0              NaN  Beauty               Makeup   \n",
       "1224924         0              NaN   Women  Women's Accessories   \n",
       "1264242         1              NaN   Women  Women's Accessories   \n",
       "\n",
       "                   cate_s  \n",
       "511535              Shoes  \n",
       "861230               Lips  \n",
       "1224924  Hair Accessories  \n",
       "1264242   Scarves & Wraps  "
      ]
     },
     "execution_count": 97,
     "metadata": {},
     "output_type": "execute_result"
    }
   ],
   "source": [
    "mercari[mercari['item_description'].isnull()]"
   ]
  },
  {
   "cell_type": "code",
   "execution_count": 66,
   "id": "a8dd77fc",
   "metadata": {
    "scrolled": false
   },
   "outputs": [
    {
     "data": {
      "text/html": [
       "<div>\n",
       "<style scoped>\n",
       "    .dataframe tbody tr th:only-of-type {\n",
       "        vertical-align: middle;\n",
       "    }\n",
       "\n",
       "    .dataframe tbody tr th {\n",
       "        vertical-align: top;\n",
       "    }\n",
       "\n",
       "    .dataframe thead th {\n",
       "        text-align: right;\n",
       "    }\n",
       "</style>\n",
       "<table border=\"1\" class=\"dataframe\">\n",
       "  <thead>\n",
       "    <tr style=\"text-align: right;\">\n",
       "      <th></th>\n",
       "      <th>train_id</th>\n",
       "      <th>name</th>\n",
       "      <th>item_condition_id</th>\n",
       "      <th>category_name</th>\n",
       "      <th>brand_name</th>\n",
       "      <th>price</th>\n",
       "      <th>shipping</th>\n",
       "      <th>item_description</th>\n",
       "    </tr>\n",
       "  </thead>\n",
       "  <tbody>\n",
       "    <tr>\n",
       "      <th>0</th>\n",
       "      <td>0</td>\n",
       "      <td>MLB Cincinnati Reds T Shirt Size XL</td>\n",
       "      <td>3</td>\n",
       "      <td>Men/Tops/T-shirts</td>\n",
       "      <td>NaN</td>\n",
       "      <td>2.397895</td>\n",
       "      <td>1</td>\n",
       "      <td>No description yet</td>\n",
       "    </tr>\n",
       "    <tr>\n",
       "      <th>13</th>\n",
       "      <td>13</td>\n",
       "      <td>Sharpener and eraser</td>\n",
       "      <td>1</td>\n",
       "      <td>Other/Office supplies/School Supplies</td>\n",
       "      <td>Scholastic</td>\n",
       "      <td>1.609438</td>\n",
       "      <td>1</td>\n",
       "      <td>No description yet</td>\n",
       "    </tr>\n",
       "    <tr>\n",
       "      <th>31</th>\n",
       "      <td>31</td>\n",
       "      <td>New Lularoe OS leggings, stars</td>\n",
       "      <td>1</td>\n",
       "      <td>Women/Athletic Apparel/Pants, Tights, Leggings</td>\n",
       "      <td>NaN</td>\n",
       "      <td>3.931826</td>\n",
       "      <td>1</td>\n",
       "      <td>No description yet</td>\n",
       "    </tr>\n",
       "    <tr>\n",
       "      <th>90</th>\n",
       "      <td>90</td>\n",
       "      <td>Jewel holder</td>\n",
       "      <td>2</td>\n",
       "      <td>Home/Storage &amp; Organization/Jewelry Boxes &amp; Or...</td>\n",
       "      <td>Target</td>\n",
       "      <td>2.079442</td>\n",
       "      <td>1</td>\n",
       "      <td>No description yet</td>\n",
       "    </tr>\n",
       "    <tr>\n",
       "      <th>117</th>\n",
       "      <td>117</td>\n",
       "      <td>Eyeko liquid eyeliner</td>\n",
       "      <td>1</td>\n",
       "      <td>Beauty/Makeup/Eyes</td>\n",
       "      <td>NaN</td>\n",
       "      <td>1.791759</td>\n",
       "      <td>1</td>\n",
       "      <td>No description yet</td>\n",
       "    </tr>\n",
       "    <tr>\n",
       "      <th>...</th>\n",
       "      <td>...</td>\n",
       "      <td>...</td>\n",
       "      <td>...</td>\n",
       "      <td>...</td>\n",
       "      <td>...</td>\n",
       "      <td>...</td>\n",
       "      <td>...</td>\n",
       "      <td>...</td>\n",
       "    </tr>\n",
       "    <tr>\n",
       "      <th>1482430</th>\n",
       "      <td>1482430</td>\n",
       "      <td>Nike Jordan's 5c</td>\n",
       "      <td>3</td>\n",
       "      <td>Kids/Girls 2T-5T/Shoes</td>\n",
       "      <td>Nike</td>\n",
       "      <td>2.708050</td>\n",
       "      <td>0</td>\n",
       "      <td>No description yet</td>\n",
       "    </tr>\n",
       "    <tr>\n",
       "      <th>1482447</th>\n",
       "      <td>1482447</td>\n",
       "      <td>Wet n Wild Eyelashes</td>\n",
       "      <td>2</td>\n",
       "      <td>Beauty/Makeup/Eyes</td>\n",
       "      <td>Wet n Wild</td>\n",
       "      <td>1.386294</td>\n",
       "      <td>1</td>\n",
       "      <td>No description yet</td>\n",
       "    </tr>\n",
       "    <tr>\n",
       "      <th>1482470</th>\n",
       "      <td>1482470</td>\n",
       "      <td>Adidas ultra boost</td>\n",
       "      <td>2</td>\n",
       "      <td>Men/Shoes/Athletic</td>\n",
       "      <td>Adidas</td>\n",
       "      <td>2.302585</td>\n",
       "      <td>0</td>\n",
       "      <td>No description yet</td>\n",
       "    </tr>\n",
       "    <tr>\n",
       "      <th>1482496</th>\n",
       "      <td>1482496</td>\n",
       "      <td>Benefit they're real mascara</td>\n",
       "      <td>1</td>\n",
       "      <td>Beauty/Makeup/Eyes</td>\n",
       "      <td>Benefit</td>\n",
       "      <td>2.197225</td>\n",
       "      <td>1</td>\n",
       "      <td>No description yet</td>\n",
       "    </tr>\n",
       "    <tr>\n",
       "      <th>1482498</th>\n",
       "      <td>1482498</td>\n",
       "      <td>Cupquake beauty rush mist ON HOLD</td>\n",
       "      <td>3</td>\n",
       "      <td>Beauty/Fragrance/Women</td>\n",
       "      <td>NaN</td>\n",
       "      <td>3.332205</td>\n",
       "      <td>0</td>\n",
       "      <td>No description yet</td>\n",
       "    </tr>\n",
       "  </tbody>\n",
       "</table>\n",
       "<p>82489 rows × 8 columns</p>\n",
       "</div>"
      ],
      "text/plain": [
       "         train_id                                 name  item_condition_id  \\\n",
       "0               0  MLB Cincinnati Reds T Shirt Size XL                  3   \n",
       "13             13                 Sharpener and eraser                  1   \n",
       "31             31       New Lularoe OS leggings, stars                  1   \n",
       "90             90                         Jewel holder                  2   \n",
       "117           117                Eyeko liquid eyeliner                  1   \n",
       "...           ...                                  ...                ...   \n",
       "1482430   1482430                     Nike Jordan's 5c                  3   \n",
       "1482447   1482447                 Wet n Wild Eyelashes                  2   \n",
       "1482470   1482470                   Adidas ultra boost                  2   \n",
       "1482496   1482496         Benefit they're real mascara                  1   \n",
       "1482498   1482498    Cupquake beauty rush mist ON HOLD                  3   \n",
       "\n",
       "                                             category_name  brand_name  \\\n",
       "0                                        Men/Tops/T-shirts         NaN   \n",
       "13                   Other/Office supplies/School Supplies  Scholastic   \n",
       "31          Women/Athletic Apparel/Pants, Tights, Leggings         NaN   \n",
       "90       Home/Storage & Organization/Jewelry Boxes & Or...      Target   \n",
       "117                                     Beauty/Makeup/Eyes         NaN   \n",
       "...                                                    ...         ...   \n",
       "1482430                             Kids/Girls 2T-5T/Shoes        Nike   \n",
       "1482447                                 Beauty/Makeup/Eyes  Wet n Wild   \n",
       "1482470                                 Men/Shoes/Athletic      Adidas   \n",
       "1482496                                 Beauty/Makeup/Eyes     Benefit   \n",
       "1482498                             Beauty/Fragrance/Women         NaN   \n",
       "\n",
       "            price  shipping    item_description  \n",
       "0        2.397895         1  No description yet  \n",
       "13       1.609438         1  No description yet  \n",
       "31       3.931826         1  No description yet  \n",
       "90       2.079442         1  No description yet  \n",
       "117      1.791759         1  No description yet  \n",
       "...           ...       ...                 ...  \n",
       "1482430  2.708050         0  No description yet  \n",
       "1482447  1.386294         1  No description yet  \n",
       "1482470  2.302585         0  No description yet  \n",
       "1482496  2.197225         1  No description yet  \n",
       "1482498  3.332205         0  No description yet  \n",
       "\n",
       "[82489 rows x 8 columns]"
      ]
     },
     "execution_count": 66,
     "metadata": {},
     "output_type": "execute_result"
    }
   ],
   "source": [
    "mercari[mercari['item_description']=='No description yet']"
   ]
  },
  {
   "cell_type": "markdown",
   "id": "171bc5d6",
   "metadata": {},
   "source": [
    "Category_name은 대/중/소로 이루어졌으므로 분리해서 각각 변수화"
   ]
  },
  {
   "cell_type": "code",
   "execution_count": 77,
   "id": "8b091772",
   "metadata": {},
   "outputs": [],
   "source": [
    "def cate(var):\n",
    "    try:\n",
    "        return var.split('/')\n",
    "    except:\n",
    "        return ['Other_Null','Other_Null','Other_Null']"
   ]
  },
  {
   "cell_type": "code",
   "execution_count": 85,
   "id": "6529fcfb",
   "metadata": {},
   "outputs": [
    {
     "data": {
      "text/plain": [
       "['Men', 'Tops', 'T-shirts']"
      ]
     },
     "execution_count": 85,
     "metadata": {},
     "output_type": "execute_result"
    }
   ],
   "source": [
    "cate(mercari['category_name'][0])"
   ]
  },
  {
   "cell_type": "code",
   "execution_count": 82,
   "id": "80586fc9",
   "metadata": {},
   "outputs": [],
   "source": [
    "mercari['cate_l'],mercari['cate_m'],mercari['cate_s']=zip(*mercari['category_name'].apply(lambda x: cate(x)))"
   ]
  },
  {
   "cell_type": "code",
   "execution_count": 83,
   "id": "33592558",
   "metadata": {},
   "outputs": [
    {
     "data": {
      "text/html": [
       "<div>\n",
       "<style scoped>\n",
       "    .dataframe tbody tr th:only-of-type {\n",
       "        vertical-align: middle;\n",
       "    }\n",
       "\n",
       "    .dataframe tbody tr th {\n",
       "        vertical-align: top;\n",
       "    }\n",
       "\n",
       "    .dataframe thead th {\n",
       "        text-align: right;\n",
       "    }\n",
       "</style>\n",
       "<table border=\"1\" class=\"dataframe\">\n",
       "  <thead>\n",
       "    <tr style=\"text-align: right;\">\n",
       "      <th></th>\n",
       "      <th>train_id</th>\n",
       "      <th>name</th>\n",
       "      <th>item_condition_id</th>\n",
       "      <th>category_name</th>\n",
       "      <th>brand_name</th>\n",
       "      <th>price</th>\n",
       "      <th>shipping</th>\n",
       "      <th>item_description</th>\n",
       "      <th>cate_l</th>\n",
       "      <th>cate_m</th>\n",
       "      <th>cate_s</th>\n",
       "    </tr>\n",
       "  </thead>\n",
       "  <tbody>\n",
       "    <tr>\n",
       "      <th>0</th>\n",
       "      <td>0</td>\n",
       "      <td>MLB Cincinnati Reds T Shirt Size XL</td>\n",
       "      <td>3</td>\n",
       "      <td>Men/Tops/T-shirts</td>\n",
       "      <td>NaN</td>\n",
       "      <td>2.397895</td>\n",
       "      <td>1</td>\n",
       "      <td>No description yet</td>\n",
       "      <td>Men</td>\n",
       "      <td>Tops</td>\n",
       "      <td>T-shirts</td>\n",
       "    </tr>\n",
       "    <tr>\n",
       "      <th>1</th>\n",
       "      <td>1</td>\n",
       "      <td>Razer BlackWidow Chroma Keyboard</td>\n",
       "      <td>3</td>\n",
       "      <td>Electronics/Computers &amp; Tablets/Components &amp; P...</td>\n",
       "      <td>Razer</td>\n",
       "      <td>3.970292</td>\n",
       "      <td>0</td>\n",
       "      <td>This keyboard is in great condition and works ...</td>\n",
       "      <td>Electronics</td>\n",
       "      <td>Computers &amp; Tablets</td>\n",
       "      <td>Components &amp; Parts</td>\n",
       "    </tr>\n",
       "    <tr>\n",
       "      <th>2</th>\n",
       "      <td>2</td>\n",
       "      <td>AVA-VIV Blouse</td>\n",
       "      <td>1</td>\n",
       "      <td>Women/Tops &amp; Blouses/Blouse</td>\n",
       "      <td>Target</td>\n",
       "      <td>2.397895</td>\n",
       "      <td>1</td>\n",
       "      <td>Adorable top with a hint of lace and a key hol...</td>\n",
       "      <td>Women</td>\n",
       "      <td>Tops &amp; Blouses</td>\n",
       "      <td>Blouse</td>\n",
       "    </tr>\n",
       "    <tr>\n",
       "      <th>3</th>\n",
       "      <td>3</td>\n",
       "      <td>Leather Horse Statues</td>\n",
       "      <td>1</td>\n",
       "      <td>Home/Home Décor/Home Décor Accents</td>\n",
       "      <td>NaN</td>\n",
       "      <td>3.583519</td>\n",
       "      <td>1</td>\n",
       "      <td>New with tags. Leather horses. Retail for [rm]...</td>\n",
       "      <td>Home</td>\n",
       "      <td>Home Décor</td>\n",
       "      <td>Home Décor Accents</td>\n",
       "    </tr>\n",
       "    <tr>\n",
       "      <th>4</th>\n",
       "      <td>4</td>\n",
       "      <td>24K GOLD plated rose</td>\n",
       "      <td>1</td>\n",
       "      <td>Women/Jewelry/Necklaces</td>\n",
       "      <td>NaN</td>\n",
       "      <td>3.806662</td>\n",
       "      <td>0</td>\n",
       "      <td>Complete with certificate of authenticity</td>\n",
       "      <td>Women</td>\n",
       "      <td>Jewelry</td>\n",
       "      <td>Necklaces</td>\n",
       "    </tr>\n",
       "  </tbody>\n",
       "</table>\n",
       "</div>"
      ],
      "text/plain": [
       "   train_id                                 name  item_condition_id  \\\n",
       "0         0  MLB Cincinnati Reds T Shirt Size XL                  3   \n",
       "1         1     Razer BlackWidow Chroma Keyboard                  3   \n",
       "2         2                       AVA-VIV Blouse                  1   \n",
       "3         3                Leather Horse Statues                  1   \n",
       "4         4                 24K GOLD plated rose                  1   \n",
       "\n",
       "                                       category_name brand_name     price  \\\n",
       "0                                  Men/Tops/T-shirts        NaN  2.397895   \n",
       "1  Electronics/Computers & Tablets/Components & P...      Razer  3.970292   \n",
       "2                        Women/Tops & Blouses/Blouse     Target  2.397895   \n",
       "3                 Home/Home Décor/Home Décor Accents        NaN  3.583519   \n",
       "4                            Women/Jewelry/Necklaces        NaN  3.806662   \n",
       "\n",
       "   shipping                                   item_description       cate_l  \\\n",
       "0         1                                 No description yet          Men   \n",
       "1         0  This keyboard is in great condition and works ...  Electronics   \n",
       "2         1  Adorable top with a hint of lace and a key hol...        Women   \n",
       "3         1  New with tags. Leather horses. Retail for [rm]...         Home   \n",
       "4         0          Complete with certificate of authenticity        Women   \n",
       "\n",
       "                cate_m              cate_s  \n",
       "0                 Tops            T-shirts  \n",
       "1  Computers & Tablets  Components & Parts  \n",
       "2       Tops & Blouses              Blouse  \n",
       "3           Home Décor  Home Décor Accents  \n",
       "4              Jewelry           Necklaces  "
      ]
     },
     "execution_count": 83,
     "metadata": {},
     "output_type": "execute_result"
    }
   ],
   "source": [
    "mercari.head()"
   ]
  },
  {
   "cell_type": "markdown",
   "id": "d69bae21",
   "metadata": {},
   "source": [
    "대분류는 Women, 중분류는 Athletic Apparel, 소분류는 Pants, Tights, Leggings가 가장 많음"
   ]
  },
  {
   "cell_type": "code",
   "execution_count": 96,
   "id": "8aed9dec",
   "metadata": {},
   "outputs": [
    {
     "name": "stdout",
     "output_type": "stream",
     "text": [
      "대분류\n",
      " Women                     664385\n",
      "Beauty                    207828\n",
      "Kids                      171689\n",
      "Electronics               122690\n",
      "Men                        93680\n",
      "Home                       67871\n",
      "Vintage & Collectibles     46530\n",
      "Other                      45351\n",
      "Handmade                   30842\n",
      "Sports & Outdoors          25342\n",
      "Other_Null                  6327\n",
      "Name: cate_l, dtype: int64\n",
      "\n",
      "중분류\n",
      " Athletic Apparel        134383\n",
      "Makeup                  124624\n",
      "Tops & Blouses          106960\n",
      "Shoes                   100452\n",
      "Jewelry                  61763\n",
      "                         ...  \n",
      "Candles                     64\n",
      "Ceramics and Pottery        57\n",
      "Dolls and Miniatures        49\n",
      "Books and Zines             46\n",
      "Quilts                      31\n",
      "Name: cate_m, Length: 114, dtype: int64\n",
      "\n",
      "소분류\n",
      " Pants, Tights, Leggings       60177\n",
      "Other                         50224\n",
      "Face                          50171\n",
      "T-Shirts                      46380\n",
      "Shoes                         32168\n",
      "                              ...  \n",
      "Storage Solutions                 1\n",
      "Map                               1\n",
      "International Publications        1\n",
      "St Patricks                       1\n",
      "Ephemera                          1\n",
      "Name: cate_s, Length: 871, dtype: int64\n"
     ]
    }
   ],
   "source": [
    "print('대분류\\n',mercari['cate_l'].value_counts())\n",
    "print('\\n중분류\\n',mercari['cate_m'].value_counts())\n",
    "print('\\n소분류\\n',mercari['cate_s'].value_counts())"
   ]
  },
  {
   "cell_type": "code",
   "execution_count": 98,
   "id": "71084a1f",
   "metadata": {},
   "outputs": [],
   "source": [
    "mercari['brand_name']=mercari['brand_name'].fillna('Other_Null')\n",
    "mercari['category_name']=mercari['category_name'].fillna('Other_Null')\n",
    "mercari['item_description']=mercari['item_description'].fillna('No description yet')"
   ]
  },
  {
   "cell_type": "code",
   "execution_count": 99,
   "id": "9d7b9895",
   "metadata": {},
   "outputs": [],
   "source": [
    "cnt=CountVectorizer()\n",
    "tf=TfidfVectorizer(max_features=50000,ngram_range=(1,3),stop_words='english')"
   ]
  },
  {
   "cell_type": "code",
   "execution_count": 100,
   "id": "1a126674",
   "metadata": {},
   "outputs": [],
   "source": [
    "name_cnt=cnt.fit_transform(mercari['name'])\n",
    "des_tf=tf.fit_transform(mercari['item_description'])"
   ]
  },
  {
   "cell_type": "markdown",
   "id": "6f0ec5d3",
   "metadata": {},
   "source": [
    "문자를 수치화 인코딩"
   ]
  },
  {
   "cell_type": "code",
   "execution_count": 106,
   "id": "4e1b81d4",
   "metadata": {},
   "outputs": [],
   "source": [
    "from sklearn.preprocessing import LabelBinarizer"
   ]
  },
  {
   "cell_type": "code",
   "execution_count": 109,
   "id": "416238bc",
   "metadata": {},
   "outputs": [],
   "source": [
    "def label(var):\n",
    "    lb=LabelBinarizer(sparse_output=True)\n",
    "    \n",
    "    return lb.fit_transform(var)"
   ]
  },
  {
   "cell_type": "code",
   "execution_count": 110,
   "id": "a818d9c0",
   "metadata": {},
   "outputs": [],
   "source": [
    "brand_name=label(mercari['brand_name'])\n",
    "cate_l=label(mercari['cate_l'])\n",
    "cate_m=label(mercari['cate_m'])\n",
    "cate_s=label(mercari['cate_s'])"
   ]
  },
  {
   "cell_type": "code",
   "execution_count": 124,
   "id": "5d4022ba",
   "metadata": {},
   "outputs": [],
   "source": [
    "item_cond=label(mercari['item_condition_id'])\n",
    "shpping=label(mercari['shipping'])"
   ]
  },
  {
   "cell_type": "markdown",
   "id": "4faf1ad5",
   "metadata": {},
   "source": [
    "결합할 변수 : name_cnt, des_ft, item_condition_id, shipping, brand_name, cate_l, cate_m, cate_s"
   ]
  },
  {
   "cell_type": "code",
   "execution_count": 125,
   "id": "077398d2",
   "metadata": {},
   "outputs": [],
   "source": [
    "var=(name_cnt, des_tf, brand_name, item_cond, shpping, cate_l, cate_m, cate_s)"
   ]
  },
  {
   "cell_type": "code",
   "execution_count": 126,
   "id": "53fe807e",
   "metadata": {},
   "outputs": [],
   "source": [
    "from scipy.sparse import hstack \n",
    "feat=hstack(var).tocsr()"
   ]
  },
  {
   "cell_type": "code",
   "execution_count": null,
   "id": "14491d77",
   "metadata": {},
   "outputs": [],
   "source": []
  }
 ],
 "metadata": {
  "kernelspec": {
   "display_name": "Python 3 (ipykernel)",
   "language": "python",
   "name": "python3"
  },
  "language_info": {
   "codemirror_mode": {
    "name": "ipython",
    "version": 3
   },
   "file_extension": ".py",
   "mimetype": "text/x-python",
   "name": "python",
   "nbconvert_exporter": "python",
   "pygments_lexer": "ipython3",
   "version": "3.9.12"
  }
 },
 "nbformat": 4,
 "nbformat_minor": 5
}
