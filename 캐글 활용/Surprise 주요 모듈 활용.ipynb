{
 "cells": [
  {
   "cell_type": "markdown",
   "id": "024b766a",
   "metadata": {},
   "source": [
    "# Reader 클래스 활용\n",
    "surprise 방식으로 데이터 컬럼명 적용"
   ]
  },
  {
   "cell_type": "code",
   "execution_count": 15,
   "id": "04ec954d",
   "metadata": {},
   "outputs": [],
   "source": [
    "import pandas as pd\n",
    "from surprise import KNNBasic,accuracy,Dataset\n",
    "from surprise.model_selection import train_test_split"
   ]
  },
  {
   "cell_type": "code",
   "execution_count": 7,
   "id": "79db7b99",
   "metadata": {},
   "outputs": [
    {
     "data": {
      "text/html": [
       "<div>\n",
       "<style scoped>\n",
       "    .dataframe tbody tr th:only-of-type {\n",
       "        vertical-align: middle;\n",
       "    }\n",
       "\n",
       "    .dataframe tbody tr th {\n",
       "        vertical-align: top;\n",
       "    }\n",
       "\n",
       "    .dataframe thead th {\n",
       "        text-align: right;\n",
       "    }\n",
       "</style>\n",
       "<table border=\"1\" class=\"dataframe\">\n",
       "  <thead>\n",
       "    <tr style=\"text-align: right;\">\n",
       "      <th></th>\n",
       "      <th>userId</th>\n",
       "      <th>movieId</th>\n",
       "      <th>rating</th>\n",
       "      <th>timestamp</th>\n",
       "    </tr>\n",
       "  </thead>\n",
       "  <tbody>\n",
       "    <tr>\n",
       "      <th>0</th>\n",
       "      <td>1</td>\n",
       "      <td>1</td>\n",
       "      <td>4.0</td>\n",
       "      <td>964982703</td>\n",
       "    </tr>\n",
       "    <tr>\n",
       "      <th>1</th>\n",
       "      <td>1</td>\n",
       "      <td>3</td>\n",
       "      <td>4.0</td>\n",
       "      <td>964981247</td>\n",
       "    </tr>\n",
       "    <tr>\n",
       "      <th>2</th>\n",
       "      <td>1</td>\n",
       "      <td>6</td>\n",
       "      <td>4.0</td>\n",
       "      <td>964982224</td>\n",
       "    </tr>\n",
       "    <tr>\n",
       "      <th>3</th>\n",
       "      <td>1</td>\n",
       "      <td>47</td>\n",
       "      <td>5.0</td>\n",
       "      <td>964983815</td>\n",
       "    </tr>\n",
       "    <tr>\n",
       "      <th>4</th>\n",
       "      <td>1</td>\n",
       "      <td>50</td>\n",
       "      <td>5.0</td>\n",
       "      <td>964982931</td>\n",
       "    </tr>\n",
       "    <tr>\n",
       "      <th>...</th>\n",
       "      <td>...</td>\n",
       "      <td>...</td>\n",
       "      <td>...</td>\n",
       "      <td>...</td>\n",
       "    </tr>\n",
       "    <tr>\n",
       "      <th>100831</th>\n",
       "      <td>610</td>\n",
       "      <td>166534</td>\n",
       "      <td>4.0</td>\n",
       "      <td>1493848402</td>\n",
       "    </tr>\n",
       "    <tr>\n",
       "      <th>100832</th>\n",
       "      <td>610</td>\n",
       "      <td>168248</td>\n",
       "      <td>5.0</td>\n",
       "      <td>1493850091</td>\n",
       "    </tr>\n",
       "    <tr>\n",
       "      <th>100833</th>\n",
       "      <td>610</td>\n",
       "      <td>168250</td>\n",
       "      <td>5.0</td>\n",
       "      <td>1494273047</td>\n",
       "    </tr>\n",
       "    <tr>\n",
       "      <th>100834</th>\n",
       "      <td>610</td>\n",
       "      <td>168252</td>\n",
       "      <td>5.0</td>\n",
       "      <td>1493846352</td>\n",
       "    </tr>\n",
       "    <tr>\n",
       "      <th>100835</th>\n",
       "      <td>610</td>\n",
       "      <td>170875</td>\n",
       "      <td>3.0</td>\n",
       "      <td>1493846415</td>\n",
       "    </tr>\n",
       "  </tbody>\n",
       "</table>\n",
       "<p>100836 rows × 4 columns</p>\n",
       "</div>"
      ],
      "text/plain": [
       "        userId  movieId  rating   timestamp\n",
       "0            1        1     4.0   964982703\n",
       "1            1        3     4.0   964981247\n",
       "2            1        6     4.0   964982224\n",
       "3            1       47     5.0   964983815\n",
       "4            1       50     5.0   964982931\n",
       "...        ...      ...     ...         ...\n",
       "100831     610   166534     4.0  1493848402\n",
       "100832     610   168248     5.0  1493850091\n",
       "100833     610   168250     5.0  1494273047\n",
       "100834     610   168252     5.0  1493846352\n",
       "100835     610   170875     3.0  1493846415\n",
       "\n",
       "[100836 rows x 4 columns]"
      ]
     },
     "execution_count": 7,
     "metadata": {},
     "output_type": "execute_result"
    }
   ],
   "source": [
    "rat=pd.read_csv('F:/Data/ratings.csv')\n",
    "rat"
   ]
  },
  {
   "cell_type": "code",
   "execution_count": 8,
   "id": "fda0c08b",
   "metadata": {},
   "outputs": [],
   "source": [
    "rat.to_csv('F:/Data/rats.csv',header=False,index=False)"
   ]
  },
  {
   "cell_type": "markdown",
   "id": "609c2115",
   "metadata": {},
   "source": [
    "불러온 데이터를 인덱스와 컬럼명을 제거하고 저장한 후 결과"
   ]
  },
  {
   "cell_type": "code",
   "execution_count": 9,
   "id": "30f8eb63",
   "metadata": {},
   "outputs": [
    {
     "data": {
      "text/html": [
       "<div>\n",
       "<style scoped>\n",
       "    .dataframe tbody tr th:only-of-type {\n",
       "        vertical-align: middle;\n",
       "    }\n",
       "\n",
       "    .dataframe tbody tr th {\n",
       "        vertical-align: top;\n",
       "    }\n",
       "\n",
       "    .dataframe thead th {\n",
       "        text-align: right;\n",
       "    }\n",
       "</style>\n",
       "<table border=\"1\" class=\"dataframe\">\n",
       "  <thead>\n",
       "    <tr style=\"text-align: right;\">\n",
       "      <th></th>\n",
       "      <th>1</th>\n",
       "      <th>1.1</th>\n",
       "      <th>4.0</th>\n",
       "      <th>964982703</th>\n",
       "    </tr>\n",
       "  </thead>\n",
       "  <tbody>\n",
       "    <tr>\n",
       "      <th>0</th>\n",
       "      <td>1</td>\n",
       "      <td>3</td>\n",
       "      <td>4.0</td>\n",
       "      <td>964981247</td>\n",
       "    </tr>\n",
       "    <tr>\n",
       "      <th>1</th>\n",
       "      <td>1</td>\n",
       "      <td>6</td>\n",
       "      <td>4.0</td>\n",
       "      <td>964982224</td>\n",
       "    </tr>\n",
       "    <tr>\n",
       "      <th>2</th>\n",
       "      <td>1</td>\n",
       "      <td>47</td>\n",
       "      <td>5.0</td>\n",
       "      <td>964983815</td>\n",
       "    </tr>\n",
       "    <tr>\n",
       "      <th>3</th>\n",
       "      <td>1</td>\n",
       "      <td>50</td>\n",
       "      <td>5.0</td>\n",
       "      <td>964982931</td>\n",
       "    </tr>\n",
       "    <tr>\n",
       "      <th>4</th>\n",
       "      <td>1</td>\n",
       "      <td>70</td>\n",
       "      <td>3.0</td>\n",
       "      <td>964982400</td>\n",
       "    </tr>\n",
       "    <tr>\n",
       "      <th>...</th>\n",
       "      <td>...</td>\n",
       "      <td>...</td>\n",
       "      <td>...</td>\n",
       "      <td>...</td>\n",
       "    </tr>\n",
       "    <tr>\n",
       "      <th>100830</th>\n",
       "      <td>610</td>\n",
       "      <td>166534</td>\n",
       "      <td>4.0</td>\n",
       "      <td>1493848402</td>\n",
       "    </tr>\n",
       "    <tr>\n",
       "      <th>100831</th>\n",
       "      <td>610</td>\n",
       "      <td>168248</td>\n",
       "      <td>5.0</td>\n",
       "      <td>1493850091</td>\n",
       "    </tr>\n",
       "    <tr>\n",
       "      <th>100832</th>\n",
       "      <td>610</td>\n",
       "      <td>168250</td>\n",
       "      <td>5.0</td>\n",
       "      <td>1494273047</td>\n",
       "    </tr>\n",
       "    <tr>\n",
       "      <th>100833</th>\n",
       "      <td>610</td>\n",
       "      <td>168252</td>\n",
       "      <td>5.0</td>\n",
       "      <td>1493846352</td>\n",
       "    </tr>\n",
       "    <tr>\n",
       "      <th>100834</th>\n",
       "      <td>610</td>\n",
       "      <td>170875</td>\n",
       "      <td>3.0</td>\n",
       "      <td>1493846415</td>\n",
       "    </tr>\n",
       "  </tbody>\n",
       "</table>\n",
       "<p>100835 rows × 4 columns</p>\n",
       "</div>"
      ],
      "text/plain": [
       "          1     1.1  4.0   964982703\n",
       "0         1       3  4.0   964981247\n",
       "1         1       6  4.0   964982224\n",
       "2         1      47  5.0   964983815\n",
       "3         1      50  5.0   964982931\n",
       "4         1      70  3.0   964982400\n",
       "...     ...     ...  ...         ...\n",
       "100830  610  166534  4.0  1493848402\n",
       "100831  610  168248  5.0  1493850091\n",
       "100832  610  168250  5.0  1494273047\n",
       "100833  610  168252  5.0  1493846352\n",
       "100834  610  170875  3.0  1493846415\n",
       "\n",
       "[100835 rows x 4 columns]"
      ]
     },
     "execution_count": 9,
     "metadata": {},
     "output_type": "execute_result"
    }
   ],
   "source": [
    "pd.read_csv('F:Data/rats.csv')"
   ]
  },
  {
   "cell_type": "markdown",
   "id": "b324a2b0",
   "metadata": {},
   "source": [
    "Reader 클래스를 활용해 컬럼명 적용"
   ]
  },
  {
   "cell_type": "code",
   "execution_count": 10,
   "id": "0ba04bbd",
   "metadata": {},
   "outputs": [],
   "source": [
    "from surprise import Reader"
   ]
  },
  {
   "cell_type": "markdown",
   "id": "35418144",
   "metadata": {},
   "source": [
    "line_foramt : 컬럼 순서대로 나열(공백으로 분리하여 컬럼 인식)  \n",
    "sep : 컬럼을 나누는 분리자 디폴트='\\t'  \n",
    "rating_scale : 최소평점과 최고평점 설정. 디폴트=(1,5)"
   ]
  },
  {
   "cell_type": "code",
   "execution_count": 11,
   "id": "6e4292f7",
   "metadata": {},
   "outputs": [],
   "source": [
    "reader=Reader(line_format='user item rating timestamp',sep=',',rating_scale=(0.5,5))"
   ]
  },
  {
   "cell_type": "markdown",
   "id": "eff4849a",
   "metadata": {},
   "source": [
    "## 최종 데이터 불러오기"
   ]
  },
  {
   "cell_type": "code",
   "execution_count": 17,
   "id": "bd7123b0",
   "metadata": {},
   "outputs": [
    {
     "data": {
      "text/plain": [
       "<surprise.dataset.DatasetAutoFolds at 0x24f52d427f0>"
      ]
     },
     "execution_count": 17,
     "metadata": {},
     "output_type": "execute_result"
    }
   ],
   "source": [
    "dt=Dataset.load_from_file('F:/Data/rats.csv',reader=reader)"
   ]
  },
  {
   "cell_type": "markdown",
   "id": "046daf51",
   "metadata": {},
   "source": [
    "## 데이터 분할"
   ]
  },
  {
   "cell_type": "code",
   "execution_count": 18,
   "id": "cdaddcae",
   "metadata": {},
   "outputs": [],
   "source": [
    "tr,te=train_test_split(dt,test_size=0.25,random_state=1234)"
   ]
  },
  {
   "cell_type": "markdown",
   "id": "264a88fa",
   "metadata": {},
   "source": [
    "## 데이터 학습 및 예측 평가(KNN 알고리즘 적용)"
   ]
  },
  {
   "cell_type": "code",
   "execution_count": 22,
   "id": "3b56da46",
   "metadata": {},
   "outputs": [],
   "source": [
    "K_rec=KNNBasic()"
   ]
  },
  {
   "cell_type": "code",
   "execution_count": 23,
   "id": "c46ada87",
   "metadata": {},
   "outputs": [
    {
     "name": "stdout",
     "output_type": "stream",
     "text": [
      "Computing the msd similarity matrix...\n",
      "Done computing similarity matrix.\n"
     ]
    }
   ],
   "source": [
    "K_rec.fit(tr)\n",
    "pred_K=K_rec.test(te)"
   ]
  },
  {
   "cell_type": "markdown",
   "id": "c588ed05",
   "metadata": {},
   "source": [
    "KNN의 예측성능"
   ]
  },
  {
   "cell_type": "code",
   "execution_count": 24,
   "id": "e9c43ed7",
   "metadata": {},
   "outputs": [
    {
     "name": "stdout",
     "output_type": "stream",
     "text": [
      "RMSE: 0.9509\n"
     ]
    },
    {
     "data": {
      "text/plain": [
       "0.9508965855490089"
      ]
     },
     "execution_count": 24,
     "metadata": {},
     "output_type": "execute_result"
    }
   ],
   "source": [
    "accuracy.rmse(pred_K)"
   ]
  },
  {
   "cell_type": "markdown",
   "id": "50166716",
   "metadata": {},
   "source": [
    "### SVD와 비교\n",
    "두 모델 모두 파라미터 변환없이 디폴트값의 기본모델일 때, 해당 데이터에서는 KNN의 성능이 좋게 나타남"
   ]
  },
  {
   "cell_type": "markdown",
   "id": "7b81122b",
   "metadata": {},
   "source": [
    "SVD의 예측성능"
   ]
  },
  {
   "attachments": {
    "image-2.png": {
     "image/png": "[encoded data removed]"
    }
   },
   "cell_type": "markdown",
   "id": "0bf4a9ad",
   "metadata": {},
   "source": [
    "![image-2.png](attachment:image-2.png)"
   ]
  }
 ],
 "metadata": {
  "kernelspec": {
   "display_name": "Python 3 (ipykernel)",
   "language": "python",
   "name": "python3"
  },
  "language_info": {
   "codemirror_mode": {
    "name": "ipython",
    "version": 3
   },
   "file_extension": ".py",
   "mimetype": "text/x-python",
   "name": "python",
   "nbconvert_exporter": "python",
   "pygments_lexer": "ipython3",
   "version": "3.9.12"
  }
 },
 "nbformat": 4,
 "nbformat_minor": 5
}
