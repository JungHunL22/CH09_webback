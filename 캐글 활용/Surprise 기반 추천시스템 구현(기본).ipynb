{
 "cells": [
  {
   "cell_type": "markdown",
   "id": "c50a3dbf",
   "metadata": {},
   "source": [
    "# Surprise 라이브러리\n",
    "Surprise를 활용해 추천시스템 알고리즘을 구현하려면 visual studio build tools를 우선 설치해야함."
   ]
  },
  {
   "cell_type": "code",
   "execution_count": 4,
   "id": "123ae584",
   "metadata": {},
   "outputs": [
    {
     "name": "stdout",
     "output_type": "stream",
     "text": [
      "Defaulting to user installation because normal site-packages is not writeable\n",
      "Collecting scikit-surprise\n",
      "  Using cached scikit-surprise-1.1.3.tar.gz (771 kB)\n",
      "Requirement already satisfied: joblib>=1.0.0 in c:\\programdata\\anaconda3\\lib\\site-packages (from scikit-surprise) (1.1.0)\n",
      "Requirement already satisfied: numpy>=1.17.3 in c:\\programdata\\anaconda3\\lib\\site-packages (from scikit-surprise) (1.21.5)\n",
      "Requirement already satisfied: scipy>=1.3.2 in c:\\programdata\\anaconda3\\lib\\site-packages (from scikit-surprise) (1.7.3)\n",
      "Building wheels for collected packages: scikit-surprise\n",
      "  Building wheel for scikit-surprise (setup.py): started"
     ]
    },
    {
     "name": "stderr",
     "output_type": "stream",
     "text": [
      "  WARNING: The script surprise.exe is installed in 'C:\\Users\\JungHun.DESKTOP-JRGUSS9\\AppData\\Roaming\\Python\\Python39\\Scripts' which is not on PATH.\n",
      "  Consider adding this directory to PATH or, if you prefer to suppress this warning, use --no-warn-script-location.\n"
     ]
    },
    {
     "name": "stdout",
     "output_type": "stream",
     "text": [
      "\n",
      "  Building wheel for scikit-surprise (setup.py): finished with status 'done'\n",
      "  Created wheel for scikit-surprise: filename=scikit_surprise-1.1.3-cp39-cp39-win_amd64.whl size=1095088 sha256=743624611ff8c975abf27cc519c2dce1390a67b8c7d14b530309e7ed45559364\n",
      "  Stored in directory: c:\\users\\junghun.desktop-jrguss9\\appdata\\local\\pip\\cache\\wheels\\c6\\3a\\46\\9b17b3512bdf283c6cb84f59929cdd5199d4e754d596d22784\n",
      "Successfully built scikit-surprise\n",
      "Installing collected packages: scikit-surprise\n",
      "Successfully installed scikit-surprise-1.1.3\n"
     ]
    }
   ],
   "source": [
    "# !pip install scikit-surprise"
   ]
  },
  {
   "cell_type": "markdown",
   "id": "5cde1bb7",
   "metadata": {},
   "source": [
    "# 모듈 Import"
   ]
  },
  {
   "cell_type": "code",
   "execution_count": 1,
   "id": "62c3710f",
   "metadata": {},
   "outputs": [],
   "source": [
    "from surprise import SVD,Dataset,accuracy"
   ]
  },
  {
   "cell_type": "code",
   "execution_count": 2,
   "id": "a6204de7",
   "metadata": {},
   "outputs": [],
   "source": [
    "from surprise import SVD,Dataset,accuracy\n",
    "from surprise.model_selection import train_test_split"
   ]
  },
  {
   "cell_type": "markdown",
   "id": "b63a9d4f",
   "metadata": {},
   "source": [
    "# 데이터셋 준비\n",
    "1. 데이터셋을 불러오면서 train,test분할\n",
    "2. load_bulitin() 함수를 사용. 데이터를 다운받을 것인지 물어보면 Y 입력  \n",
    "경로 : C:\\Users\\JungHun.DESKTOP-JRGUSS9/.surprise_data/ml-100k"
   ]
  },
  {
   "cell_type": "code",
   "execution_count": 5,
   "id": "94ed1766",
   "metadata": {},
   "outputs": [
    {
     "name": "stdout",
     "output_type": "stream",
     "text": [
      "Dataset ml-100k could not be found. Do you want to download it? [Y/n] Y\n",
      "Trying to download dataset from https://files.grouplens.org/datasets/movielens/ml-100k.zip...\n",
      "Done! Dataset ml-100k has been saved to C:\\Users\\JungHun.DESKTOP-JRGUSS9/.surprise_data/ml-100k\n"
     ]
    }
   ],
   "source": [
    "dt=Dataset.load_builtin('ml-100k')\n",
    "tr,te=train_test_split(dt,0.25,random_state=1234)"
   ]
  },
  {
   "cell_type": "markdown",
   "id": "5a42236e",
   "metadata": {},
   "source": [
    "# Train 학습"
   ]
  },
  {
   "cell_type": "code",
   "execution_count": 7,
   "id": "90671cb6",
   "metadata": {},
   "outputs": [
    {
     "data": {
      "text/plain": [
       "<surprise.prediction_algorithms.matrix_factorization.SVD at 0x120e3356af0>"
      ]
     },
     "execution_count": 7,
     "metadata": {},
     "output_type": "execute_result"
    }
   ],
   "source": [
    "svd=SVD(random_state=1234)\n",
    "svd.fit(tr)"
   ]
  },
  {
   "cell_type": "markdown",
   "id": "bfb8b9c7",
   "metadata": {},
   "source": [
    "# test, predict 메서드를 이용한 예측"
   ]
  },
  {
   "cell_type": "markdown",
   "id": "7ba353f4",
   "metadata": {},
   "source": [
    "## test 메서드 : 데이터셋에 모든 사용자들의 아이템 평점 예측"
   ]
  },
  {
   "cell_type": "code",
   "execution_count": 9,
   "id": "cc4fcb48",
   "metadata": {},
   "outputs": [
    {
     "data": {
      "text/plain": [
       "[Prediction(uid='373', iid='105', r_ui=3.0, est=2.277927305841026, details={'was_impossible': False}),\n",
       " Prediction(uid='42', iid='606', r_ui=3.0, est=4.415406850457924, details={'was_impossible': False}),\n",
       " Prediction(uid='463', iid='276', r_ui=3.0, est=3.729239804878216, details={'was_impossible': False}),\n",
       " Prediction(uid='23', iid='228', r_ui=4.0, est=3.7001045379801516, details={'was_impossible': False}),\n",
       " Prediction(uid='119', iid='1016', r_ui=5.0, est=3.8547704118308714, details={'was_impossible': False})]"
      ]
     },
     "execution_count": 9,
     "metadata": {},
     "output_type": "execute_result"
    }
   ],
   "source": [
    "# 5개의 결과만 출력 \n",
    "# est = 예측 평점\n",
    "pred=svd.test(te)\n",
    "pred[:5]"
   ]
  },
  {
   "cell_type": "code",
   "execution_count": 36,
   "id": "fc18e4fa",
   "metadata": {},
   "outputs": [
    {
     "data": {
      "text/plain": [
       "surprise.prediction_algorithms.predictions.Prediction"
      ]
     },
     "execution_count": 36,
     "metadata": {},
     "output_type": "execute_result"
    }
   ],
   "source": [
    "type(pred[0])"
   ]
  },
  {
   "cell_type": "code",
   "execution_count": 10,
   "id": "988af7b2",
   "metadata": {},
   "outputs": [
    {
     "data": {
      "text/plain": [
       "25000"
      ]
     },
     "execution_count": 10,
     "metadata": {},
     "output_type": "execute_result"
    }
   ],
   "source": [
    "len(pred)"
   ]
  },
  {
   "cell_type": "code",
   "execution_count": 25,
   "id": "0564b130",
   "metadata": {},
   "outputs": [
    {
     "name": "stdout",
     "output_type": "stream",
     "text": [
      "373 105 3.0 2.277927305841026\n"
     ]
    }
   ],
   "source": [
    "# 사용자 아이디, 상품아이디, 실제평점, 예측평점i.details.values()\n",
    "# detail에 was_impossible은 예측값 생성이 불가능하면 True로 출력됨\n",
    "print(pred[0].uid,pred[0].iid,pred[0].r_ui,pred[0].est)"
   ]
  },
  {
   "cell_type": "code",
   "execution_count": 28,
   "id": "e7fb2a6e",
   "metadata": {},
   "outputs": [
    {
     "data": {
      "text/plain": [
       "[('373', '105', 2.277927305841026),\n",
       " ('42', '606', 4.415406850457924),\n",
       " ('463', '276', 3.729239804878216)]"
      ]
     },
     "execution_count": 28,
     "metadata": {},
     "output_type": "execute_result"
    }
   ],
   "source": [
    "# 사용자,아이템,예측평점만 추출\n",
    "[(pred.uid,pred.iid,pred.est) for pred in pred[:3]]"
   ]
  },
  {
   "cell_type": "code",
   "execution_count": 60,
   "id": "8c2a9c36",
   "metadata": {},
   "outputs": [
    {
     "data": {
      "text/plain": [
       "False"
      ]
     },
     "execution_count": 60,
     "metadata": {},
     "output_type": "execute_result"
    }
   ],
   "source": [
    "pred[0].details['was_impossible']"
   ]
  },
  {
   "cell_type": "code",
   "execution_count": 69,
   "id": "eae922b1",
   "metadata": {},
   "outputs": [],
   "source": [
    "for i in pred:\n",
    "    if i.details['was_impossible']==True:\n",
    "        print(\"예측하지 못한 값이 존재\")\n",
    "        \n",
    "# 해당 데이터에서 예측하지 못한 평점은 없음"
   ]
  },
  {
   "cell_type": "markdown",
   "id": "d27471e5",
   "metadata": {},
   "source": [
    "## predict 메서드 : 입력받은 개별 사용자의 아이템 평점 예측"
   ]
  },
  {
   "cell_type": "code",
   "execution_count": 29,
   "id": "250103b0",
   "metadata": {},
   "outputs": [
    {
     "data": {
      "text/plain": [
       "Prediction(uid='119', iid='1016', r_ui=None, est=3.8547704118308714, details={'was_impossible': False})"
      ]
     },
     "execution_count": 29,
     "metadata": {},
     "output_type": "execute_result"
    }
   ],
   "source": [
    "svd.predict('119','1016')\n",
    "# 위에서 test 메서드로 예측한 유저-아이템 평점이 같음"
   ]
  },
  {
   "cell_type": "markdown",
   "id": "5818d30b",
   "metadata": {},
   "source": [
    "# 최종 평가"
   ]
  },
  {
   "cell_type": "code",
   "execution_count": 30,
   "id": "16801961",
   "metadata": {},
   "outputs": [
    {
     "name": "stdout",
     "output_type": "stream",
     "text": [
      "RMSE: 0.9385\n"
     ]
    },
    {
     "data": {
      "text/plain": [
       "0.9384511005340065"
      ]
     },
     "execution_count": 30,
     "metadata": {},
     "output_type": "execute_result"
    }
   ],
   "source": [
    "accuracy.rmse(pred)"
   ]
  }
 ],
 "metadata": {
  "kernelspec": {
   "display_name": "Python 3 (ipykernel)",
   "language": "python",
   "name": "python3"
  },
  "language_info": {
   "codemirror_mode": {
    "name": "ipython",
    "version": 3
   },
   "file_extension": ".py",
   "mimetype": "text/x-python",
   "name": "python",
   "nbconvert_exporter": "python",
   "pygments_lexer": "ipython3",
   "version": "3.9.12"
  }
 },
 "nbformat": 4,
 "nbformat_minor": 5
}
